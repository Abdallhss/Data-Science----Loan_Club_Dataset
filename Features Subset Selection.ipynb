{
 "cells": [
  {
   "cell_type": "markdown",
   "metadata": {
    "colab_type": "text",
    "id": "-QBol4Cr3KNk"
   },
   "source": [
    "# Subsect Selection Methods (Linear Regression -- Loan Club Dataset)\n",
    "\n",
    "Most of the time, the studied dataset has a large set of features that may or may not be corrolated to our predicted outcome. Exploratory analysis might be fine for datasets with few features; however, Subset selection methods becomes neccessary for dataset with many features that are hard to explore manually.  \n",
    "\n",
    "In this notebook, three main subset selection methods are studied; best subset selection, forward stepwise selection, and backward stepwise selection, as well as mixed selection. These methods are not limited to linear regression and can be expanded to other models.  \n",
    "\n",
    "We use the \"loan club\" dataset as in previous notebooks. Additional regressors are included (a total of 10 regressors), and the subset that gives the best performance is chosen."
   ]
  },
  {
   "cell_type": "markdown",
   "metadata": {},
   "source": [
    "### Load libraries:"
   ]
  },
  {
   "cell_type": "code",
   "execution_count": 90,
   "metadata": {
    "colab": {},
    "colab_type": "code",
    "id": "yAx7JvaK3KNl"
   },
   "outputs": [],
   "source": [
    "import itertools\n",
    "import pandas as pd\n",
    "import numpy as np\n",
    "import copy\n",
    "import time\n",
    "\n",
    "import statsmodels.api as sm\n",
    "from sklearn.linear_model import LinearRegression, Ridge, Lasso\n",
    "from sklearn.decomposition import PCA\n",
    "from sklearn.cross_decomposition import PLSRegression\n",
    "from sklearn.model_selection import train_test_split, GridSearchCV, KFold\n",
    "from sklearn.pipeline import Pipeline\n",
    "from sklearn.compose import ColumnTransformer\n",
    "from sklearn.impute import SimpleImputer\n",
    "from sklearn.preprocessing import StandardScaler\n",
    "from sklearn.metrics import mean_squared_error\n",
    "\n",
    "import matplotlib.pyplot as plt\n",
    "import seaborn as sns\n",
    "from IPython.display import Markdown, display\n",
    "\n",
    "# Reset all styles to the default:\n",
    "plt.rcParams.update(plt.rcParamsDefault)\n",
    "# Then make graphs inline:\n",
    "%matplotlib inline\n",
    "\n",
    "def displaybd(text):\n",
    "    display(Markdown(\"**\" + text + \"**\"))"
   ]
  },
  {
   "cell_type": "code",
   "execution_count": 3,
   "metadata": {
    "colab": {},
    "colab_type": "code",
    "id": "A4mTSCCB3KNo",
    "scrolled": false
   },
   "outputs": [],
   "source": [
    "# Set custom style settings:\n",
    "# NB: We need to separate \"matplotlib inline\" call and these settings into different\n",
    "# cells, otherwise the parameters are not set. This is a bug somewhere in Jupyter\n",
    "plt.rcParams['figure.figsize'] = (7, 6)\n",
    "plt.rcParams['font.size'] = 24\n",
    "plt.rcParams['legend.fontsize'] = 'large'\n",
    "plt.rcParams['figure.titlesize'] = 'large'\n",
    "plt.rcParams['lines.markersize'] = 10"
   ]
  },
  {
   "cell_type": "markdown",
   "metadata": {},
   "source": [
    "### Get and Clean the Data\n",
    "\n",
    "For this notebook, we use a set of 10 regressors to predict our outcome variable. Our model is predicting the total payment from a fully-paid loan (**'total_pymnt':** Payments received to date for total amount funded) based on the following regressors:\n",
    "- **loan_amnt:** The listed amount of the loan applied for by the borrower.\n",
    "- **revol_bal:** Total credit revolving balance\n",
    "- **annual_inc:** The self-reported annual income provided by the borrower during registration.\n",
    "- **tot_coll_amt:** Total collection amounts ever owed\n",
    "- **tot_cur_bal:** Total current balance of all accounts\n",
    "\n",
    "*---The above set of numerical regressors have skewed distribution, so they are nonlinearly transformed to increase the goodness of fit. This nonlinear transformation is also applied to our outcome variable (total_pymnt)*\n",
    "\n",
    "- **int_rate:** Interest Rate on the loan\n",
    "- **percent_bc_gt_75:** Percentage of all bankcard accounts > 75% of limit.\n",
    "- **bc_util:** Ratio of total current balance to high credit/credit limit for all bankcard accounts.\n",
    "\n",
    "- **term:** The number of payments on the loan. Values are in months and can be either 36 or 60.\n",
    "\n",
    "*-The 'term' regressor is a binary categorical variable that should be converted to numerical variable during linear regression.*\n",
    "\n",
    "- **loan_period:** The total period of the loan between the issue date (**issue_d:** The month which the loan was funded) to the last payment date (**last_pymnt_d:** Last month payment was received).  \n",
    "\n",
    "-*This isn't an orginal feature within the data, we perfom feature engineering to have 'loan_period' regressor which is expected to improve the model goodness of fit.* \n"
   ]
  },
  {
   "cell_type": "code",
   "execution_count": 147,
   "metadata": {
    "colab": {},
    "colab_type": "code",
    "id": "T49vs0Zb3KNr",
    "outputId": "739d8157-f50c-41c6-ae8c-135719fcba15",
    "scrolled": false
   },
   "outputs": [
    {
     "data": {
      "text/html": [
       "<div>\n",
       "<style scoped>\n",
       "    .dataframe tbody tr th:only-of-type {\n",
       "        vertical-align: middle;\n",
       "    }\n",
       "\n",
       "    .dataframe tbody tr th {\n",
       "        vertical-align: top;\n",
       "    }\n",
       "\n",
       "    .dataframe thead th {\n",
       "        text-align: right;\n",
       "    }\n",
       "</style>\n",
       "<table border=\"1\" class=\"dataframe\">\n",
       "  <thead>\n",
       "    <tr style=\"text-align: right;\">\n",
       "      <th></th>\n",
       "      <th>int_rate</th>\n",
       "      <th>loan_period</th>\n",
       "      <th>bc_util</th>\n",
       "      <th>percent_bc_gt_75</th>\n",
       "      <th>ln_loan_amnt</th>\n",
       "      <th>ln_annual_inc</th>\n",
       "      <th>ln_tot_coll_amt</th>\n",
       "      <th>ln_tot_cur_bal</th>\n",
       "      <th>ln_revol_bal</th>\n",
       "      <th>term_ 36 months</th>\n",
       "    </tr>\n",
       "  </thead>\n",
       "  <tbody>\n",
       "    <tr>\n",
       "      <td>0</td>\n",
       "      <td>14.33</td>\n",
       "      <td>911.0</td>\n",
       "      <td>45.4</td>\n",
       "      <td>50.0</td>\n",
       "      <td>8.854054</td>\n",
       "      <td>11.775311</td>\n",
       "      <td>1.000000</td>\n",
       "      <td>12.345455</td>\n",
       "      <td>7.217970</td>\n",
       "      <td>1.0</td>\n",
       "    </tr>\n",
       "    <tr>\n",
       "      <td>1</td>\n",
       "      <td>11.49</td>\n",
       "      <td>577.0</td>\n",
       "      <td>55.4</td>\n",
       "      <td>42.9</td>\n",
       "      <td>10.126740</td>\n",
       "      <td>11.289816</td>\n",
       "      <td>1.000000</td>\n",
       "      <td>12.302218</td>\n",
       "      <td>9.875794</td>\n",
       "      <td>0.0</td>\n",
       "    </tr>\n",
       "    <tr>\n",
       "      <td>2</td>\n",
       "      <td>5.32</td>\n",
       "      <td>1066.0</td>\n",
       "      <td>32.9</td>\n",
       "      <td>0.0</td>\n",
       "      <td>8.517737</td>\n",
       "      <td>11.289816</td>\n",
       "      <td>1.000000</td>\n",
       "      <td>12.438278</td>\n",
       "      <td>8.746035</td>\n",
       "      <td>1.0</td>\n",
       "    </tr>\n",
       "    <tr>\n",
       "      <td>3</td>\n",
       "      <td>14.31</td>\n",
       "      <td>821.0</td>\n",
       "      <td>33.2</td>\n",
       "      <td>16.7</td>\n",
       "      <td>10.463181</td>\n",
       "      <td>11.813050</td>\n",
       "      <td>1.000000</td>\n",
       "      <td>11.162030</td>\n",
       "      <td>9.428409</td>\n",
       "      <td>1.0</td>\n",
       "    </tr>\n",
       "    <tr>\n",
       "      <td>4</td>\n",
       "      <td>13.66</td>\n",
       "      <td>1126.0</td>\n",
       "      <td>101.8</td>\n",
       "      <td>100.0</td>\n",
       "      <td>8.699968</td>\n",
       "      <td>10.645490</td>\n",
       "      <td>5.988255</td>\n",
       "      <td>11.053659</td>\n",
       "      <td>8.790378</td>\n",
       "      <td>1.0</td>\n",
       "    </tr>\n",
       "    <tr>\n",
       "      <td>5</td>\n",
       "      <td>11.55</td>\n",
       "      <td>153.0</td>\n",
       "      <td>0.0</td>\n",
       "      <td>0.0</td>\n",
       "      <td>10.126740</td>\n",
       "      <td>12.072557</td>\n",
       "      <td>1.000000</td>\n",
       "      <td>12.921863</td>\n",
       "      <td>7.846480</td>\n",
       "      <td>1.0</td>\n",
       "    </tr>\n",
       "    <tr>\n",
       "      <td>6</td>\n",
       "      <td>8.18</td>\n",
       "      <td>519.0</td>\n",
       "      <td>64.7</td>\n",
       "      <td>50.0</td>\n",
       "      <td>9.998921</td>\n",
       "      <td>11.626278</td>\n",
       "      <td>1.000000</td>\n",
       "      <td>10.343892</td>\n",
       "      <td>10.343892</td>\n",
       "      <td>0.0</td>\n",
       "    </tr>\n",
       "    <tr>\n",
       "      <td>7</td>\n",
       "      <td>14.49</td>\n",
       "      <td>212.0</td>\n",
       "      <td>0.0</td>\n",
       "      <td>0.0</td>\n",
       "      <td>9.451537</td>\n",
       "      <td>10.534832</td>\n",
       "      <td>5.423708</td>\n",
       "      <td>11.939145</td>\n",
       "      <td>9.477288</td>\n",
       "      <td>1.0</td>\n",
       "    </tr>\n",
       "    <tr>\n",
       "      <td>8</td>\n",
       "      <td>16.29</td>\n",
       "      <td>1127.0</td>\n",
       "      <td>64.6</td>\n",
       "      <td>25.0</td>\n",
       "      <td>10.463181</td>\n",
       "      <td>11.849417</td>\n",
       "      <td>8.455258</td>\n",
       "      <td>12.283976</td>\n",
       "      <td>9.073801</td>\n",
       "      <td>1.0</td>\n",
       "    </tr>\n",
       "    <tr>\n",
       "      <td>9</td>\n",
       "      <td>10.99</td>\n",
       "      <td>943.0</td>\n",
       "      <td>53.5</td>\n",
       "      <td>20.0</td>\n",
       "      <td>9.433701</td>\n",
       "      <td>10.126740</td>\n",
       "      <td>1.000000</td>\n",
       "      <td>9.353897</td>\n",
       "      <td>9.323108</td>\n",
       "      <td>1.0</td>\n",
       "    </tr>\n",
       "  </tbody>\n",
       "</table>\n",
       "</div>"
      ],
      "text/plain": [
       "   int_rate  loan_period  bc_util  percent_bc_gt_75  ln_loan_amnt  \\\n",
       "0     14.33        911.0     45.4              50.0      8.854054   \n",
       "1     11.49        577.0     55.4              42.9     10.126740   \n",
       "2      5.32       1066.0     32.9               0.0      8.517737   \n",
       "3     14.31        821.0     33.2              16.7     10.463181   \n",
       "4     13.66       1126.0    101.8             100.0      8.699968   \n",
       "5     11.55        153.0      0.0               0.0     10.126740   \n",
       "6      8.18        519.0     64.7              50.0      9.998921   \n",
       "7     14.49        212.0      0.0               0.0      9.451537   \n",
       "8     16.29       1127.0     64.6              25.0     10.463181   \n",
       "9     10.99        943.0     53.5              20.0      9.433701   \n",
       "\n",
       "   ln_annual_inc  ln_tot_coll_amt  ln_tot_cur_bal  ln_revol_bal  \\\n",
       "0      11.775311         1.000000       12.345455      7.217970   \n",
       "1      11.289816         1.000000       12.302218      9.875794   \n",
       "2      11.289816         1.000000       12.438278      8.746035   \n",
       "3      11.813050         1.000000       11.162030      9.428409   \n",
       "4      10.645490         5.988255       11.053659      8.790378   \n",
       "5      12.072557         1.000000       12.921863      7.846480   \n",
       "6      11.626278         1.000000       10.343892     10.343892   \n",
       "7      10.534832         5.423708       11.939145      9.477288   \n",
       "8      11.849417         8.455258       12.283976      9.073801   \n",
       "9      10.126740         1.000000        9.353897      9.323108   \n",
       "\n",
       "   term_ 36 months  \n",
       "0              1.0  \n",
       "1              0.0  \n",
       "2              1.0  \n",
       "3              1.0  \n",
       "4              1.0  \n",
       "5              1.0  \n",
       "6              0.0  \n",
       "7              1.0  \n",
       "8              1.0  \n",
       "9              1.0  "
      ]
     },
     "metadata": {},
     "output_type": "display_data"
    },
    {
     "data": {
      "text/plain": [
       "0     9.060828\n",
       "1    10.278455\n",
       "2     8.598076\n",
       "3    10.660833\n",
       "4     8.902444\n",
       "5    10.170038\n",
       "6    10.097493\n",
       "7     9.527945\n",
       "8    10.702820\n",
       "9     9.569199\n",
       "Name: ln_total_pymnt, dtype: float64"
      ]
     },
     "metadata": {},
     "output_type": "display_data"
    }
   ],
   "source": [
    "#-- LOAD DATA:\n",
    "\n",
    "# Load sampled and cleaned loan club dataset\n",
    "datetime_cols = ['issue_d','last_pymnt_d']\n",
    "loan_club = pd.read_csv('Loan_sampled_cleaned.csv',parse_dates = datetime_cols)\n",
    "loan_club_fully_paid = loan_club[loan_club['loan_status']=='Fully Paid'].reset_index(drop=True)\n",
    "loan_club_fully_paid['loan_period'] = loan_club_fully_paid['last_pymnt_d'] - loan_club_fully_paid['issue_d']\n",
    "loan_club_fully_paid['loan_period'] = loan_club_fully_paid['loan_period'] / pd.to_timedelta(1, unit='D')\n",
    "important_cols = ['loan_amnt','term','int_rate','annual_inc','total_pymnt','loan_period',\n",
    "                  'bc_util','tot_coll_amt','tot_cur_bal','percent_bc_gt_75','revol_bal']\n",
    "\n",
    "loan_club_fully_paid = loan_club_fully_paid[important_cols]\n",
    "\n",
    "# Select skewed regressors that should have log transformation. \n",
    "colsToLn = list(loan_club_fully_paid.select_dtypes(include=[np.number]).columns)\n",
    "colsToLn.remove(\"loan_period\")\n",
    "colsToLn.remove(\"int_rate\")\n",
    "colsToLn.remove(\"percent_bc_gt_75\")\n",
    "colsToLn.remove(\"bc_util\")\n",
    "\n",
    "# Log transform\n",
    "for colName in colsToLn:\n",
    "    lnColName = \"ln_\" + colName\n",
    "    loan_club_fully_paid[lnColName] = np.log(np.exp(1)+loan_club_fully_paid[colName])\n",
    "    loan_club_fully_paid.drop([colName], axis=1,inplace = True)\n",
    "\n",
    "# Convert categorical variables into dummies:\n",
    "dummies = pd.get_dummies(loan_club_fully_paid[['term']])\n",
    "X = loan_club_fully_paid.drop(['ln_total_pymnt','term'], axis=1)\n",
    "cat_features = ['term_ 36 months']\n",
    "\n",
    "# Extract predictors and outcome variables\n",
    "X = pd.concat([X, dummies[cat_features]], axis=1).astype('float64')\n",
    "feature_names = X.columns\n",
    "y = loan_club_fully_paid.ln_total_pymnt\n",
    "    \n",
    "display(X[0:10],y[0:10])"
   ]
  },
  {
   "cell_type": "markdown",
   "metadata": {},
   "source": [
    "## Model Evaluation\n",
    "\n",
    "To select the best model, we need to decide on a metric to evaluate our model. For linear model, we typically use the $R^2$ metric to evaluate the goodness of fit. However, since we are comparing models of different sizes, we need to use other metrics that are robust to model size. These mertics include Adjusted $R^2$, Bayesian information criterion (BIC), Akaike information criterion (AIC), and Mean squared error (MSE). The following function plots these metrics in one figure. It is expected that the best model would have the lowest BIC, AIK, and MSE and the highest adjusted-$R^2$ value."
   ]
  },
  {
   "cell_type": "code",
   "execution_count": 148,
   "metadata": {
    "colab": {},
    "colab_type": "code",
    "id": "jEViyNKW3KNx",
    "outputId": "04f9d60a-2e81-4c2d-b0ec-6d20ec8db356"
   },
   "outputs": [],
   "source": [
    "# Make plots of the best subset:\n",
    "\n",
    "def makePlotsForBestSubsets(adjr2s, bics, aics, mses):\n",
    "    markerSize = 8\n",
    "    titlesFontSize = 18\n",
    "    axisLabelFontSize = 16\n",
    "    \n",
    "    subsetsNmb = len(adjr2s)\n",
    "    xvals = range(1, subsetsNmb + 1)\n",
    "    \n",
    "    fig, ((ax1, ax2), (ax3, ax4)) = plt.subplots(2, 2, figsize=(10, 8))\n",
    "    plt.subplots_adjust(wspace=0.45, hspace=0.35) \n",
    "\n",
    "    ax1.plot(xvals, adjr2s, '-o', markersize=markerSize)\n",
    "    ax1.set_ylabel('Adjusted R2', fontsize=titlesFontSize)\n",
    "\n",
    "    ax2.plot(xvals, bics, '-o', markersize=markerSize)\n",
    "    ax2.set_ylabel('BIC', fontsize=titlesFontSize)\n",
    "\n",
    "    ax3.plot(xvals, aics, '-o', markersize=markerSize)\n",
    "    ax3.set_ylabel('AIC', fontsize=titlesFontSize)\n",
    "\n",
    "    ax4.plot(xvals, mses, '-o', markersize=markerSize)\n",
    "    ax4.set_ylabel('MSE', fontsize=titlesFontSize)\n",
    "\n",
    "    for ax in fig.axes:\n",
    "        ax.set_xlabel('Number of variables', fontsize=titlesFontSize)\n",
    "        ax.set_xlim(0.5, subsetsNmb + 1)\n",
    "        ax.set_xticks(range(2, subsetsNmb + 1, 2));\n",
    "        for tick in ax.xaxis.get_major_ticks():\n",
    "            tick.label.set_fontsize(axisLabelFontSize) \n",
    "        for tick in ax.yaxis.get_major_ticks():\n",
    "            tick.label.set_fontsize(axisLabelFontSize)"
   ]
  },
  {
   "cell_type": "markdown",
   "metadata": {
    "colab_type": "text",
    "id": "no-FTRw03KNu"
   },
   "source": [
    "## 1. Best Subset Selection:\n",
    "\n",
    "The most trivial way to select the best subset of predictors is to fit our model (linear regression) on each possible permutations of the variables for different subset size. This startegy is computionally expensive, but it is guaranteed to find the best subset (the one that optimized a desired metric i.e. MSE). For small number of predictor variables, Best subset selection can work fine, but it grows exponentially with the number of variables ($ 2^n$)."
   ]
  },
  {
   "cell_type": "code",
   "execution_count": 185,
   "metadata": {
    "colab": {},
    "colab_type": "code",
    "id": "BIWNYhW13KNv",
    "scrolled": false
   },
   "outputs": [
    {
     "data": {
      "text/markdown": [
       "**Execution Time: --- 7.691387176513672 seconds ---**"
      ],
      "text/plain": [
       "<IPython.core.display.Markdown object>"
      ]
     },
     "metadata": {},
     "output_type": "display_data"
    }
   ],
   "source": [
    "#---- Go through all combinations of features:\n",
    "def findBestSubsetFixedSize(X, y, subset_size):\n",
    "    features_nmb = X.shape[1]\n",
    "    best_subset = []\n",
    "    best_mse = -1\n",
    "    for idx_set in itertools.combinations(range(features_nmb), subset_size):\n",
    "        X_subset = X.iloc[:, list(idx_set)]\n",
    "        lin_reg = LinearRegression(fit_intercept=True, normalize=False)\n",
    "        lin_reg.fit(X_subset, y)\n",
    "        yhat = lin_reg.predict(X_subset)\n",
    "        mse_resid = mean_squared_error(y, yhat)\n",
    "        if best_mse < 0 or mse_resid < best_mse:\n",
    "            best_subset = sorted(list(idx_set))\n",
    "            best_mse = round(mse_resid,5)\n",
    "    return([best_subset, best_mse])\n",
    "\n",
    "def findBestSubset(X, y, max_subset_size):\n",
    "    best_subsets = [None] * max_subset_size\n",
    "    best_mses = [None] * max_subset_size\n",
    "    for subset_size in range(1, max_subset_size + 1):\n",
    "        best_subsets[subset_size-1], best_mses[subset_size-1] =\\\n",
    "            findBestSubsetFixedSize(X, y, subset_size)\n",
    "\n",
    "    return([best_subsets, best_mses])\n",
    "\n",
    "start_time = time.time()\n",
    "best_subsets, best_mses = findBestSubset(X, y, 10)\n",
    "best_subset_time = time.time() - start_time\n",
    "displaybd(\"Execution Time: --- %s seconds ---\" % (best_subset_time))"
   ]
  },
  {
   "cell_type": "markdown",
   "metadata": {},
   "source": [
    "**Compared to other subset selection methods, best subset selection approach is relatively long.**"
   ]
  },
  {
   "cell_type": "code",
   "execution_count": 186,
   "metadata": {},
   "outputs": [
    {
     "data": {
      "image/png": "[encoded data removed]",
      "text/plain": [
       "<Figure size 720x576 with 4 Axes>"
      ]
     },
     "metadata": {
      "needs_background": "light"
     },
     "output_type": "display_data"
    }
   ],
   "source": [
    "best_adjr2s = [None] * len(best_subsets)\n",
    "best_bics = [None] * len(best_subsets)\n",
    "best_aics = [None] * len(best_subsets)\n",
    "for idx_set in range(len(best_subsets)):\n",
    "    X_subset = X.iloc[:, best_subsets[idx_set]].values\n",
    "    X_subset = sm.tools.tools.add_constant(X_subset)\n",
    "    result = sm.OLS(y, X_subset).fit()\n",
    "    best_adjr2s[idx_set] = round(result.rsquared_adj,5)\n",
    "    best_bics[idx_set] = result.bic.astype(int)\n",
    "    best_aics[idx_set] = result.aic.astype(int)\n",
    "makePlotsForBestSubsets(best_adjr2s, best_bics, best_aics, best_mses)"
   ]
  },
  {
   "cell_type": "markdown",
   "metadata": {},
   "source": [
    "A subset of 4 regressors seems to give the best model (lowest MSE). Increasing the number of regressors won't neccessarily damage our model, but it would improve the model accuracy with increased complexity. However, this improvement of goodness of fit might not generalize to test data. A high number of regressors with low corrolation with our outcome variable would be damaging to our model.   "
   ]
  },
  {
   "cell_type": "code",
   "execution_count": 187,
   "metadata": {},
   "outputs": [
    {
     "name": "stdout",
     "output_type": "stream",
     "text": [
      "Best Regressors:  ['int_rate', 'loan_period', 'ln_loan_amnt', 'term_ 36 months']\n",
      "Adjuster_R2: 0.99775 , BIC: -133709 , AIC: -133751 , MSE: 0.00113\n"
     ]
    }
   ],
   "source": [
    "print(\"Best Regressors: \", list(feature_names[best_subsets[3]]))\n",
    "print(\"Adjuster_R2: {} , BIC: {} , AIC: {} , MSE: {}\".format(best_adjr2s[3],best_bics[3],best_aics[3],best_mses[3]))"
   ]
  },
  {
   "cell_type": "markdown",
   "metadata": {},
   "source": [
    "**The best subset is made up of the above regressors (ln_loan_amnt, loan_period, int_rate, term). It has a nearly perfect goodness of fit with adjusted_$R^2=0.99775$**"
   ]
  },
  {
   "cell_type": "markdown",
   "metadata": {
    "colab_type": "text",
    "id": "09qWLeC03KN0"
   },
   "source": [
    "## 2. Forward Stepwise Selection:\n",
    "\n",
    "This is a smarter way to perform model selection which can work when the number of obesvations (n) is less than the number of regressors (p) ($n < p $). We start with an empty model and then we start adding regressors one by one, where the chosen regressor is the one that optimizes our metric (i.e. minimizes MSE). This method has a linear complexity with the number of regressors, so it would much faster than best subset selection method."
   ]
  },
  {
   "cell_type": "code",
   "execution_count": 184,
   "metadata": {
    "colab": {},
    "colab_type": "code",
    "id": "VposhPkJ3KN0"
   },
   "outputs": [
    {
     "data": {
      "text/markdown": [
       "**Execution Time: --- 0.39432692527770996 seconds ---**"
      ],
      "text/plain": [
       "<IPython.core.display.Markdown object>"
      ]
     },
     "metadata": {},
     "output_type": "display_data"
    }
   ],
   "source": [
    "#-- FORWARD Step:\n",
    "def doFwdSelectStep(X, y, cur_subset):\n",
    "    features_nmb = X.shape[1]\n",
    "    new_features = set(range(features_nmb)) - set(cur_subset)\n",
    "\n",
    "    best_subset = []\n",
    "    best_mse = -1\n",
    "    for feature_idx in new_features:\n",
    "        increased_subset = cur_subset + [feature_idx]\n",
    "        X_subset = X.iloc[:, increased_subset]\n",
    "        lin_reg = LinearRegression(fit_intercept=True, normalize=False)\n",
    "        lin_reg.fit(X_subset, y)\n",
    "        yhat = lin_reg.predict(X_subset)\n",
    "        mse_resid = mean_squared_error(y, yhat)\n",
    "        if best_mse < 0 or mse_resid < best_mse:\n",
    "            best_subset = sorted(increased_subset)\n",
    "            best_mse = round(mse_resid,5)\n",
    "    return([best_subset, best_mse])\n",
    "\n",
    "#-- FORWARD Loop:\n",
    "def doFwdStepwiseSelect(X, y, starting_set):\n",
    "    features_nmb = X.shape[1]\n",
    "    steps_nmb = features_nmb - len(starting_set)\n",
    "    best_subsets = [None] * steps_nmb\n",
    "    best_mses = [None] * steps_nmb\n",
    "    prev_subset = starting_set\n",
    "    for step in range(steps_nmb):\n",
    "        best_subsets[step], best_mses[step] = doFwdSelectStep(X, y, prev_subset)\n",
    "        prev_subset = best_subsets[step]\n",
    "    return([best_subsets, best_mses])\n",
    "\n",
    "\n",
    "start_time = time.time()\n",
    "best_fwd_subsets, best_fwd_mses = doFwdStepwiseSelect(X, y, [])\n",
    "best_fwd_time = time.time() - start_time\n",
    "displaybd(\"Execution Time: --- %s seconds ---\" % (best_fwd_time))"
   ]
  },
  {
   "cell_type": "markdown",
   "metadata": {},
   "source": [
    "**This is much faster than best subset selection method (exponential complexity) given its linear complexity.**"
   ]
  },
  {
   "cell_type": "code",
   "execution_count": 188,
   "metadata": {
    "colab": {},
    "colab_type": "code",
    "id": "gxNO00Xl3KN5",
    "outputId": "bf9471dd-2abc-47ad-9d9b-e1393fb9a8d3"
   },
   "outputs": [
    {
     "data": {
      "image/png": "[encoded data removed]",
      "text/plain": [
       "<Figure size 720x576 with 4 Axes>"
      ]
     },
     "metadata": {
      "needs_background": "light"
     },
     "output_type": "display_data"
    }
   ],
   "source": [
    "# Make plots for forward subsets:\n",
    "fwd_sets_nmb = len(best_fwd_subsets)\n",
    "fwd_adjr2s = [None] * fwd_sets_nmb\n",
    "fwd_bics = [None] * fwd_sets_nmb\n",
    "fwd_aics = [None] * fwd_sets_nmb\n",
    "for idx_set in range(fwd_sets_nmb):\n",
    "    X_subset = X.iloc[:, best_fwd_subsets[idx_set]].values\n",
    "    X_subset = sm.tools.tools.add_constant(X_subset)\n",
    "    result = sm.OLS(y, X_subset).fit()\n",
    "    fwd_adjr2s[idx_set] = round(result.rsquared_adj,5)\n",
    "    fwd_bics[idx_set] = result.bic.astype(int)\n",
    "    fwd_aics[idx_set] = result.aic.astype(int)\n",
    "    \n",
    "makePlotsForBestSubsets(fwd_adjr2s, fwd_bics, fwd_aics, best_fwd_mses)"
   ]
  },
  {
   "cell_type": "code",
   "execution_count": 163,
   "metadata": {},
   "outputs": [
    {
     "name": "stdout",
     "output_type": "stream",
     "text": [
      "Best Regressors:  ['int_rate', 'loan_period', 'ln_loan_amnt', 'term_ 36 months']\n",
      "Adjuster_R2: 0.99775 , BIC: -133709 , AIC: -133751 , MSE: 0.00113\n"
     ]
    }
   ],
   "source": [
    "print(\"Best Regressors: \", list(feature_names[best_fwd_subsets[3]]))\n",
    "print(\"Adjuster_R2: {} , BIC: {} , AIC: {} , MSE: {}\".format(fwd_adjr2s[3],fwd_bics[3],fwd_aics[3],best_fwd_mses[3]))"
   ]
  },
  {
   "cell_type": "markdown",
   "metadata": {},
   "source": [
    "**Similiar to best subset selection method, a subset of 4 regressors seems to give the best model (lowest MSE).**"
   ]
  },
  {
   "cell_type": "markdown",
   "metadata": {
    "colab_type": "text",
    "id": "09qWLeC03KN0"
   },
   "source": [
    "## 3. Backward Stepwise Selection\n",
    "\n",
    "Again, this method has a linear complexity with number of regressors; however, unlike forward stepwise selection, the number of observations need to be greater than the number of regressors ($n > p $). Backward stepwise selection starts with a subset of all possible regressors, and then regressors are eliminated one by one, where the least corrolated regressor is removed. "
   ]
  },
  {
   "cell_type": "code",
   "execution_count": 189,
   "metadata": {},
   "outputs": [
    {
     "data": {
      "text/markdown": [
       "**Execution Time: --- 0.4557499885559082 seconds ---**"
      ],
      "text/plain": [
       "<IPython.core.display.Markdown object>"
      ]
     },
     "metadata": {},
     "output_type": "display_data"
    }
   ],
   "source": [
    "#-- BACKWARD Step:\n",
    "def doBwdSelectStep(X, y, cur_subset):\n",
    "    if len(cur_subset) == 1:\n",
    "        return ([],np.mean(y))\n",
    "    best_subset = []\n",
    "    best_mse = -1\n",
    "    for feature_idx in cur_subset:\n",
    "        reduced_subset = list(set(cur_subset) - {feature_idx})\n",
    "        X_subset = X.iloc[:, reduced_subset]\n",
    "        lin_reg = LinearRegression(fit_intercept=True, normalize=False)\n",
    "        lin_reg.fit(X_subset, y)\n",
    "        yhat = lin_reg.predict(X_subset)\n",
    "        mse_resid = mean_squared_error(y, yhat)\n",
    "        if best_mse < 0 or mse_resid < best_mse:\n",
    "            best_subset = sorted(reduced_subset)\n",
    "            best_mse = round(mse_resid,5)\n",
    "    return([best_subset, best_mse])\n",
    "\n",
    "#-- BACKWARD Loop:\n",
    "def doBwdStepwiseSelect(X, y, starting_set):\n",
    "    steps_nmb = len(starting_set)\n",
    "    best_subsets = [None] * steps_nmb\n",
    "    best_mses = [None] * steps_nmb\n",
    "\n",
    "    X_subset = X.iloc[:, starting_set]\n",
    "    lin_reg = LinearRegression(fit_intercept=True, normalize=False)\n",
    "    lin_reg.fit(X_subset, y)\n",
    "    yhat = lin_reg.predict(X_subset)\n",
    "    mse_resid = mean_squared_error(y, yhat)\n",
    "\n",
    "    best_subsets[0] = starting_set\n",
    "    best_mses[0] = mse_resid\n",
    "\n",
    "    for step in range(steps_nmb - 1):\n",
    "        best_subsets[step+1], best_mses[step+1] = doBwdSelectStep(X, y, best_subsets[step])\n",
    "    return([best_subsets, best_mses])\n",
    "\n",
    "#-- RUN BACKWARD AND FORWARD STEPWISE SELECTION:\n",
    "start_time = time.time()\n",
    "best_bwd_subsets, best_bwd_mses = doBwdStepwiseSelect(X, y, list(range(10)))\n",
    "best_bwd_time = time.time() - start_time\n",
    "displaybd(\"Execution Time: --- %s seconds ---\" % (best_bwd_time))"
   ]
  },
  {
   "cell_type": "markdown",
   "metadata": {},
   "source": [
    "**This performance is comparable to forwardstep wise selection, and much faster than best subset selection.**"
   ]
  },
  {
   "cell_type": "code",
   "execution_count": 156,
   "metadata": {
    "colab": {},
    "colab_type": "code",
    "id": "qKhKQ3Tj3KN2",
    "outputId": "e5f8a330-6e80-485a-f8dc-b352d4ee2df0"
   },
   "outputs": [
    {
     "data": {
      "image/png": "[encoded data removed]",
      "text/plain": [
       "<Figure size 720x576 with 4 Axes>"
      ]
     },
     "metadata": {
      "needs_background": "light"
     },
     "output_type": "display_data"
    }
   ],
   "source": [
    "# Reverse the lists:\n",
    "best_bwd_subsets = best_bwd_subsets[::-1]\n",
    "best_bwd_mses = best_bwd_mses[::-1]\n",
    "bwd_sets_nmb = len(best_bwd_subsets)\n",
    "bwd_adjr2s = [None] * bwd_sets_nmb\n",
    "bwd_bics = [None] * bwd_sets_nmb\n",
    "bwd_aics = [None] * bwd_sets_nmb\n",
    "for idx_set in range(bwd_sets_nmb):\n",
    "    X_subset = X.iloc[:, best_bwd_subsets[idx_set]].values\n",
    "    X_subset = sm.tools.tools.add_constant(X_subset)\n",
    "    result = sm.OLS(y, X_subset).fit()\n",
    "    bwd_adjr2s[idx_set] = round(result.rsquared_adj,5)\n",
    "    bwd_bics[idx_set] = result.bic.astype(int)\n",
    "    bwd_aics[idx_set] = result.aic.astype(int)\n",
    "    \n",
    "# Make plots for backward subsets:\n",
    "makePlotsForBestSubsets(bwd_adjr2s, bwd_bics, bwd_aics, best_bwd_mses)\n"
   ]
  },
  {
   "cell_type": "code",
   "execution_count": 157,
   "metadata": {},
   "outputs": [
    {
     "name": "stdout",
     "output_type": "stream",
     "text": [
      "Best Regressors:  ['int_rate', 'loan_period', 'ln_loan_amnt', 'term_ 36 months']\n",
      "Adjuster_R2: 0.99775 , BIC: -133709 , AIC: -133751 , MSE: 0.00113\n"
     ]
    }
   ],
   "source": [
    "print(\"Best Regressors: \", list(feature_names[best_bwd_subsets[3]]))\n",
    "print(\"Adjuster_R2: {} , BIC: {} , AIC: {} , MSE: {}\".format(bwd_adjr2s[3],bwd_bics[3],bwd_aics[3],best_bwd_mses[3]))"
   ]
  },
  {
   "cell_type": "markdown",
   "metadata": {},
   "source": [
    "**Similiar to the above two methods, a subset of 4 regressors seems to give the best model (lowest MSE).**"
   ]
  },
  {
   "cell_type": "markdown",
   "metadata": {},
   "source": [
    "## 4. Mixed Subset Selection\n",
    "\n",
    "It uses both forward and backwark stepwise selection at each step. We start with empty subset (the model is simply the mean of outcome variable), then regressors are added one by one if they improve model performance. At the same time, regressors degrading the perfomance are removed."
   ]
  },
  {
   "cell_type": "code",
   "execution_count": 181,
   "metadata": {},
   "outputs": [
    {
     "name": "stdout",
     "output_type": "stream",
     "text": [
      "--- 0.2702748775482178 seconds ---\n",
      "Best Regressors:  ['int_rate', 'loan_period', 'ln_loan_amnt', 'term_ 36 months']\n"
     ]
    }
   ],
   "source": [
    "def doMixedStepwiseSelect(X, y, starting_set):\n",
    "    current_subset = starting_set\n",
    "    yhat = np.mean(y)*np.ones_like(y)\n",
    "    current_mse = mean_squared_error(y, yhat)\n",
    "\n",
    "    while True:\n",
    "        dummy_subset = current_subset.copy()\n",
    "        fwd_subset, fwd_mse = doFwdSelectStep(X, y, current_subset)\n",
    "        if fwd_mse < current_mse:\n",
    "            current_subset = fwd_subset\n",
    "            current_mse = fwd_mse\n",
    "        bwd_subset, bwd_mse = doBwdSelectStep(X, y, current_subset)\n",
    "        if bwd_mse < current_mse:\n",
    "            current_subset = bwd_subset\n",
    "            current_mse = bwd_mse\n",
    "        if dummy_subset == current_subset:\n",
    "            break\n",
    "    return current_subset, current_mse\n",
    "\n",
    "start_time = time.time()\n",
    "best_mixed_subset, best_mixed_mse = doMixedStepwiseSelect(X, y, [])\n",
    "best_mixed_time = time.time() - start_time\n",
    "print(\"--- %s seconds ---\" % (best_mixed_time))\n",
    "print(\"Best Regressors: \", list(feature_names[best_mixed_subset]))"
   ]
  },
  {
   "cell_type": "markdown",
   "metadata": {},
   "source": [
    "**Mixed Selection method is faster than forward and backward selection methods as it needs a fewer iterations. The resulted best subset is the same as for other methods.** "
   ]
  },
  {
   "cell_type": "markdown",
   "metadata": {},
   "source": [
    "## 5. Subset Selection Methods Comparison\n",
    "\n",
    "Here, we compare the different methods in terms of the obtained subset for different sizes and the execution time. "
   ]
  },
  {
   "cell_type": "markdown",
   "metadata": {},
   "source": [
    "### Selected Subsets"
   ]
  },
  {
   "cell_type": "code",
   "execution_count": 171,
   "metadata": {},
   "outputs": [
    {
     "data": {
      "text/markdown": [
       "**model selection:**"
      ],
      "text/plain": [
       "<IPython.core.display.Markdown object>"
      ]
     },
     "metadata": {},
     "output_type": "display_data"
    },
    {
     "data": {
      "text/html": [
       "<div>\n",
       "<style scoped>\n",
       "    .dataframe tbody tr th:only-of-type {\n",
       "        vertical-align: middle;\n",
       "    }\n",
       "\n",
       "    .dataframe tbody tr th {\n",
       "        vertical-align: top;\n",
       "    }\n",
       "\n",
       "    .dataframe thead th {\n",
       "        text-align: right;\n",
       "    }\n",
       "</style>\n",
       "<table border=\"1\" class=\"dataframe\">\n",
       "  <thead>\n",
       "    <tr style=\"text-align: right;\">\n",
       "      <th></th>\n",
       "      <th>No. Regressors</th>\n",
       "      <th>Best Subset</th>\n",
       "      <th>Forward Selection</th>\n",
       "      <th>Backward Selection</th>\n",
       "    </tr>\n",
       "  </thead>\n",
       "  <tbody>\n",
       "    <tr>\n",
       "      <td>0</td>\n",
       "      <td>1</td>\n",
       "      <td>[4]</td>\n",
       "      <td>[4]</td>\n",
       "      <td>[4]</td>\n",
       "    </tr>\n",
       "    <tr>\n",
       "      <td>1</td>\n",
       "      <td>2</td>\n",
       "      <td>[1, 4]</td>\n",
       "      <td>[1, 4]</td>\n",
       "      <td>[1, 4]</td>\n",
       "    </tr>\n",
       "    <tr>\n",
       "      <td>2</td>\n",
       "      <td>3</td>\n",
       "      <td>[0, 1, 4]</td>\n",
       "      <td>[0, 1, 4]</td>\n",
       "      <td>[0, 1, 4]</td>\n",
       "    </tr>\n",
       "    <tr>\n",
       "      <td>3</td>\n",
       "      <td>4</td>\n",
       "      <td>[0, 1, 4, 9]</td>\n",
       "      <td>[0, 1, 4, 9]</td>\n",
       "      <td>[0, 1, 4, 9]</td>\n",
       "    </tr>\n",
       "    <tr>\n",
       "      <td>4</td>\n",
       "      <td>5</td>\n",
       "      <td>[0, 1, 4, 8, 9]</td>\n",
       "      <td>[0, 1, 4, 8, 9]</td>\n",
       "      <td>[0, 1, 2, 4, 9]</td>\n",
       "    </tr>\n",
       "    <tr>\n",
       "      <td>5</td>\n",
       "      <td>6</td>\n",
       "      <td>[0, 1, 4, 7, 8, 9]</td>\n",
       "      <td>[0, 1, 4, 7, 8, 9]</td>\n",
       "      <td>[0, 1, 2, 3, 4, 9]</td>\n",
       "    </tr>\n",
       "    <tr>\n",
       "      <td>6</td>\n",
       "      <td>7</td>\n",
       "      <td>[0, 1, 4, 6, 7, 8, 9]</td>\n",
       "      <td>[0, 1, 4, 6, 7, 8, 9]</td>\n",
       "      <td>[0, 1, 2, 3, 4, 5, 9]</td>\n",
       "    </tr>\n",
       "    <tr>\n",
       "      <td>7</td>\n",
       "      <td>8</td>\n",
       "      <td>[0, 1, 4, 5, 6, 7, 8, 9]</td>\n",
       "      <td>[0, 1, 4, 5, 6, 7, 8, 9]</td>\n",
       "      <td>[0, 1, 2, 3, 4, 5, 6, 9]</td>\n",
       "    </tr>\n",
       "    <tr>\n",
       "      <td>8</td>\n",
       "      <td>9</td>\n",
       "      <td>[0, 1, 3, 4, 5, 6, 7, 8, 9]</td>\n",
       "      <td>[0, 1, 3, 4, 5, 6, 7, 8, 9]</td>\n",
       "      <td>[0, 1, 2, 3, 4, 5, 6, 7, 9]</td>\n",
       "    </tr>\n",
       "    <tr>\n",
       "      <td>9</td>\n",
       "      <td>10</td>\n",
       "      <td>[0, 1, 2, 3, 4, 5, 6, 7, 8, 9]</td>\n",
       "      <td>[0, 1, 2, 3, 4, 5, 6, 7, 8, 9]</td>\n",
       "      <td>[0, 1, 2, 3, 4, 5, 6, 7, 8, 9]</td>\n",
       "    </tr>\n",
       "  </tbody>\n",
       "</table>\n",
       "</div>"
      ],
      "text/plain": [
       "   No. Regressors                     Best Subset  \\\n",
       "0               1                             [4]   \n",
       "1               2                          [1, 4]   \n",
       "2               3                       [0, 1, 4]   \n",
       "3               4                    [0, 1, 4, 9]   \n",
       "4               5                 [0, 1, 4, 8, 9]   \n",
       "5               6              [0, 1, 4, 7, 8, 9]   \n",
       "6               7           [0, 1, 4, 6, 7, 8, 9]   \n",
       "7               8        [0, 1, 4, 5, 6, 7, 8, 9]   \n",
       "8               9     [0, 1, 3, 4, 5, 6, 7, 8, 9]   \n",
       "9              10  [0, 1, 2, 3, 4, 5, 6, 7, 8, 9]   \n",
       "\n",
       "                Forward Selection              Backward Selection  \n",
       "0                             [4]                             [4]  \n",
       "1                          [1, 4]                          [1, 4]  \n",
       "2                       [0, 1, 4]                       [0, 1, 4]  \n",
       "3                    [0, 1, 4, 9]                    [0, 1, 4, 9]  \n",
       "4                 [0, 1, 4, 8, 9]                 [0, 1, 2, 4, 9]  \n",
       "5              [0, 1, 4, 7, 8, 9]              [0, 1, 2, 3, 4, 9]  \n",
       "6           [0, 1, 4, 6, 7, 8, 9]           [0, 1, 2, 3, 4, 5, 9]  \n",
       "7        [0, 1, 4, 5, 6, 7, 8, 9]        [0, 1, 2, 3, 4, 5, 6, 9]  \n",
       "8     [0, 1, 3, 4, 5, 6, 7, 8, 9]     [0, 1, 2, 3, 4, 5, 6, 7, 9]  \n",
       "9  [0, 1, 2, 3, 4, 5, 6, 7, 8, 9]  [0, 1, 2, 3, 4, 5, 6, 7, 8, 9]  "
      ]
     },
     "execution_count": 171,
     "metadata": {},
     "output_type": "execute_result"
    }
   ],
   "source": [
    "model_selection = pd.DataFrame(data={'No. Regressors': list(range(1,11)),\n",
    "                                    'Best Subset' : best_subsets,\n",
    "                                 'Forward Selection' : best_fwd_subsets,\n",
    "                                   'Backward Selection' : best_bwd_subsets})\n",
    "\n",
    "displaybd(\"model selection:\")\n",
    "model_selection"
   ]
  },
  {
   "cell_type": "markdown",
   "metadata": {},
   "source": [
    "**As expected, the solutions are almost the same. Best subset method gives exactly same result as forward stepwise selection. For subset size greater than 4, backward stepwise selection has a slightly different model since the quality of these larger subsets is almost the same.**"
   ]
  },
  {
   "cell_type": "markdown",
   "metadata": {},
   "source": [
    "### Execution Time\n",
    "\n",
    "We compare the different methods performance through the mean and the standard deviation of the execution time. "
   ]
  },
  {
   "cell_type": "code",
   "execution_count": 182,
   "metadata": {},
   "outputs": [
    {
     "data": {
      "text/markdown": [
       "**Execution Time Comparison:**"
      ],
      "text/plain": [
       "<IPython.core.display.Markdown object>"
      ]
     },
     "metadata": {},
     "output_type": "display_data"
    },
    {
     "data": {
      "text/html": [
       "<div>\n",
       "<style scoped>\n",
       "    .dataframe tbody tr th:only-of-type {\n",
       "        vertical-align: middle;\n",
       "    }\n",
       "\n",
       "    .dataframe tbody tr th {\n",
       "        vertical-align: top;\n",
       "    }\n",
       "\n",
       "    .dataframe thead th {\n",
       "        text-align: right;\n",
       "    }\n",
       "</style>\n",
       "<table border=\"1\" class=\"dataframe\">\n",
       "  <thead>\n",
       "    <tr style=\"text-align: right;\">\n",
       "      <th></th>\n",
       "      <th>Best Subset</th>\n",
       "      <th>Forward Selection</th>\n",
       "      <th>Backward Selection</th>\n",
       "      <th>Mixed Selection</th>\n",
       "    </tr>\n",
       "  </thead>\n",
       "  <tbody>\n",
       "    <tr>\n",
       "      <td>Mean</td>\n",
       "      <td>9.410548</td>\n",
       "      <td>0.416183</td>\n",
       "      <td>0.549309</td>\n",
       "      <td>0.304677</td>\n",
       "    </tr>\n",
       "    <tr>\n",
       "      <td>Standard Deviation</td>\n",
       "      <td>0.733783</td>\n",
       "      <td>0.061786</td>\n",
       "      <td>0.063896</td>\n",
       "      <td>0.049416</td>\n",
       "    </tr>\n",
       "  </tbody>\n",
       "</table>\n",
       "</div>"
      ],
      "text/plain": [
       "                    Best Subset  Forward Selection  Backward Selection  \\\n",
       "Mean                   9.410548           0.416183            0.549309   \n",
       "Standard Deviation     0.733783           0.061786            0.063896   \n",
       "\n",
       "                    Mixed Selection  \n",
       "Mean                       0.304677  \n",
       "Standard Deviation         0.049416  "
      ]
     },
     "execution_count": 182,
     "metadata": {},
     "output_type": "execute_result"
    }
   ],
   "source": [
    "best_subset_times = []\n",
    "best_fwd_times = []\n",
    "best_bwd_times = []\n",
    "best_mixed_times = []\n",
    "\n",
    "#Collect 30 samples\n",
    "for i in range(30):\n",
    "    start_time = time.time()\n",
    "    _ , _ = findBestSubset(X, y, 10)\n",
    "    best_subset_time = time.time() - start_time\n",
    "    best_subset_times.append(best_subset_time)\n",
    "    \n",
    "    start_time = time.time()\n",
    "    _ , _ = doFwdStepwiseSelect(X, y, [])\n",
    "    best_fwd_time = time.time() - start_time\n",
    "    best_fwd_times.append(best_fwd_time)\n",
    "    \n",
    "    start_time = time.time()\n",
    "    _ , _ = doBwdStepwiseSelect(X, y, list(range(10)))\n",
    "    best_bwd_time = time.time() - start_time\n",
    "    best_bwd_times.append(best_bwd_time)\n",
    "    \n",
    "    start_time = time.time()\n",
    "    best_mixed_subset, best_mixed_mse = doMixedStepwiseSelect(X, y, [])\n",
    "    best_mixed_time = time.time() - start_time\n",
    "    best_mixed_times.append(best_mixed_time)\n",
    "    \n",
    "execution_time = pd.DataFrame(data={'Best Subset' : [np.mean(best_subset_times),np.std(best_subset_times)],\n",
    "                                 'Forward Selection' : [np.mean(best_fwd_times),np.std(best_fwd_times)],\n",
    "                                   'Backward Selection' : [np.mean(best_bwd_times),np.std(best_bwd_times)],\n",
    "                                   'Mixed Selection' : [np.mean(best_mixed_times),np.std(best_mixed_times)]},\n",
    "                              index = ['Mean ','Standard Deviation'])\n",
    "\n",
    "displaybd(\"Execution Time Comparison:\")\n",
    "execution_time"
   ]
  },
  {
   "cell_type": "markdown",
   "metadata": {},
   "source": [
    "- **Due to the thorough search of the best subset method (exponential time), it takes the longest time of all.**  \n",
    "\n",
    "\n",
    "- **Forward and backward stepwise selection have comparable performance; however, forward selection has a faster perfomance. Although both methods fit the same number of models, forward stepwise selection fits $p$ models of size one and 2 models of size $p-1$. On the other hand, backward stepwise selection fits $p$ models of size $p-1$ and 2 models of size two.**  \n",
    "\n",
    "\n",
    "- **Mixed selection method is linear; however it stops when there is no improvement in the model. Thus, it takes fewer steps and shorter execution time.**"
   ]
  },
  {
   "cell_type": "markdown",
   "metadata": {},
   "source": [
    "### Fit the best model"
   ]
  },
  {
   "cell_type": "code",
   "execution_count": 161,
   "metadata": {},
   "outputs": [
    {
     "data": {
      "text/html": [
       "<table class=\"simpletable\">\n",
       "<caption>OLS Regression Results</caption>\n",
       "<tr>\n",
       "  <th>Dep. Variable:</th>     <td>ln_total_pymnt</td>  <th>  R-squared:         </th>  <td>   0.998</td> \n",
       "</tr>\n",
       "<tr>\n",
       "  <th>Model:</th>                   <td>OLS</td>       <th>  Adj. R-squared:    </th>  <td>   0.998</td> \n",
       "</tr>\n",
       "<tr>\n",
       "  <th>Method:</th>             <td>Least Squares</td>  <th>  F-statistic:       </th>  <td>4.256e+06</td>\n",
       "</tr>\n",
       "<tr>\n",
       "  <th>Date:</th>             <td>Sun, 14 Jun 2020</td> <th>  Prob (F-statistic):</th>   <td>  0.00</td>  \n",
       "</tr>\n",
       "<tr>\n",
       "  <th>Time:</th>                 <td>11:49:49</td>     <th>  Log-Likelihood:    </th>  <td>  66881.</td> \n",
       "</tr>\n",
       "<tr>\n",
       "  <th>No. Observations:</th>      <td> 33887</td>      <th>  AIC:               </th> <td>-1.338e+05</td>\n",
       "</tr>\n",
       "<tr>\n",
       "  <th>Df Residuals:</th>          <td> 33882</td>      <th>  BIC:               </th> <td>-1.337e+05</td>\n",
       "</tr>\n",
       "<tr>\n",
       "  <th>Df Model:</th>              <td>     4</td>      <th>                     </th>      <td> </td>    \n",
       "</tr>\n",
       "<tr>\n",
       "  <th>Covariance Type:</th>         <td>HC0</td>       <th>                     </th>      <td> </td>    \n",
       "</tr>\n",
       "</table>\n",
       "<table class=\"simpletable\">\n",
       "<tr>\n",
       "           <td></td>             <th>coef</th>     <th>std err</th>      <th>z</th>      <th>P>|z|</th>  <th>[0.025</th>    <th>0.975]</th>  \n",
       "</tr>\n",
       "<tr>\n",
       "  <th>Intercept</th>          <td>   -0.0862</td> <td>    0.003</td> <td>  -33.053</td> <td> 0.000</td> <td>   -0.091</td> <td>   -0.081</td>\n",
       "</tr>\n",
       "<tr>\n",
       "  <th>term[T. 60 months]</th> <td>    0.0293</td> <td>    0.001</td> <td>   51.473</td> <td> 0.000</td> <td>    0.028</td> <td>    0.030</td>\n",
       "</tr>\n",
       "<tr>\n",
       "  <th>ln_loan_amnt</th>       <td>    0.9992</td> <td>    0.000</td> <td> 3869.769</td> <td> 0.000</td> <td>    0.999</td> <td>    1.000</td>\n",
       "</tr>\n",
       "<tr>\n",
       "  <th>loan_period</th>        <td>    0.0002</td> <td> 5.92e-07</td> <td>  285.396</td> <td> 0.000</td> <td>    0.000</td> <td>    0.000</td>\n",
       "</tr>\n",
       "<tr>\n",
       "  <th>int_rate</th>           <td>    0.0093</td> <td> 6.83e-05</td> <td>  135.541</td> <td> 0.000</td> <td>    0.009</td> <td>    0.009</td>\n",
       "</tr>\n",
       "</table>\n",
       "<table class=\"simpletable\">\n",
       "<tr>\n",
       "  <th>Omnibus:</th>       <td>6252.507</td> <th>  Durbin-Watson:     </th> <td>   2.018</td> \n",
       "</tr>\n",
       "<tr>\n",
       "  <th>Prob(Omnibus):</th>  <td> 0.000</td>  <th>  Jarque-Bera (JB):  </th> <td>23729.012</td>\n",
       "</tr>\n",
       "<tr>\n",
       "  <th>Skew:</th>           <td>-0.891</td>  <th>  Prob(JB):          </th> <td>    0.00</td> \n",
       "</tr>\n",
       "<tr>\n",
       "  <th>Kurtosis:</th>       <td> 6.692</td>  <th>  Cond. No.          </th> <td>1.13e+04</td> \n",
       "</tr>\n",
       "</table><br/><br/>Warnings:<br/>[1] Standard Errors are heteroscedasticity robust (HC0)<br/>[2] The condition number is large, 1.13e+04. This might indicate that there are<br/>strong multicollinearity or other numerical problems."
      ],
      "text/plain": [
       "<class 'statsmodels.iolib.summary.Summary'>\n",
       "\"\"\"\n",
       "                            OLS Regression Results                            \n",
       "==============================================================================\n",
       "Dep. Variable:         ln_total_pymnt   R-squared:                       0.998\n",
       "Model:                            OLS   Adj. R-squared:                  0.998\n",
       "Method:                 Least Squares   F-statistic:                 4.256e+06\n",
       "Date:                Sun, 14 Jun 2020   Prob (F-statistic):               0.00\n",
       "Time:                        11:49:49   Log-Likelihood:                 66881.\n",
       "No. Observations:               33887   AIC:                        -1.338e+05\n",
       "Df Residuals:                   33882   BIC:                        -1.337e+05\n",
       "Df Model:                           4                                         \n",
       "Covariance Type:                  HC0                                         \n",
       "======================================================================================\n",
       "                         coef    std err          z      P>|z|      [0.025      0.975]\n",
       "--------------------------------------------------------------------------------------\n",
       "Intercept             -0.0862      0.003    -33.053      0.000      -0.091      -0.081\n",
       "term[T. 60 months]     0.0293      0.001     51.473      0.000       0.028       0.030\n",
       "ln_loan_amnt           0.9992      0.000   3869.769      0.000       0.999       1.000\n",
       "loan_period            0.0002   5.92e-07    285.396      0.000       0.000       0.000\n",
       "int_rate               0.0093   6.83e-05    135.541      0.000       0.009       0.009\n",
       "==============================================================================\n",
       "Omnibus:                     6252.507   Durbin-Watson:                   2.018\n",
       "Prob(Omnibus):                  0.000   Jarque-Bera (JB):            23729.012\n",
       "Skew:                          -0.891   Prob(JB):                         0.00\n",
       "Kurtosis:                       6.692   Cond. No.                     1.13e+04\n",
       "==============================================================================\n",
       "\n",
       "Warnings:\n",
       "[1] Standard Errors are heteroscedasticity robust (HC0)\n",
       "[2] The condition number is large, 1.13e+04. This might indicate that there are\n",
       "strong multicollinearity or other numerical problems.\n",
       "\"\"\""
      ]
     },
     "execution_count": 161,
     "metadata": {},
     "output_type": "execute_result"
    }
   ],
   "source": [
    "yColName = 'ln_total_pymnt'\n",
    "\n",
    "olsFormula = 'ln_total_pymnt~ln_loan_amnt+loan_period+int_rate+term'\n",
    "\n",
    "model = sm.OLS.from_formula(olsFormula, data=loan_club_fully_paid)\n",
    "res = model.fit(cov_type='HC0')\n",
    "\n",
    "res.summary()"
   ]
  },
  {
   "cell_type": "markdown",
   "metadata": {},
   "source": [
    "**All the chosen regressors are significant; however, ln_loan_amnt has the greatest influence on the outcome.**"
   ]
  }
 ],
 "metadata": {
  "colab": {
   "collapsed_sections": [],
   "name": "tutorial04.ipynb",
   "provenance": []
  },
  "kernelspec": {
   "display_name": "Python 3",
   "language": "python",
   "name": "python3"
  },
  "language_info": {
   "codemirror_mode": {
    "name": "ipython",
    "version": 3
   },
   "file_extension": ".py",
   "mimetype": "text/x-python",
   "name": "python",
   "nbconvert_exporter": "python",
   "pygments_lexer": "ipython3",
   "version": "3.7.4"
  }
 },
 "nbformat": 4,
 "nbformat_minor": 1
}
