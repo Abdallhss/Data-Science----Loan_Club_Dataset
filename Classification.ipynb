{
 "cells": [
  {
   "cell_type": "markdown",
   "metadata": {
    "colab_type": "text",
    "id": "-QBol4Cr3KNk"
   },
   "source": [
    "# Classification (Loan Club Dataset)\n",
    "\n",
    "We now move for regression to classification problems. We try to predict the \"loan_status\" (\"Fully Paid\", \"Current\", \"Charged Off\") based on other numerical and categorical features. We explore different classification models starting with a naive expansion of linear regression. We then use logistic regression which is a type of linear regression more suited for classification problems. We also apply Discriminant Analysis models (linear (LDA), quadratic (QDA))  which assume gaussian distribution of the data. Additionaly, we use K-nearest-neighbors non-parametric classifier and use k-fold cross-validation to choose the number of neighbors.\n",
    "\n",
    "To overcome class imbalance issue, we compare the performance of these models on the test set using a confusion matrix and apply stratified train/test split. "
   ]
  },
  {
   "cell_type": "markdown",
   "metadata": {},
   "source": [
    "### Load libraries:"
   ]
  },
  {
   "cell_type": "code",
   "execution_count": 1,
   "metadata": {
    "colab": {},
    "colab_type": "code",
    "id": "yAx7JvaK3KNl"
   },
   "outputs": [],
   "source": [
    "import itertools\n",
    "import pandas as pd\n",
    "import numpy as np\n",
    "import matplotlib.pyplot as plt\n",
    "import seaborn as sns\n",
    "\n",
    "import copy\n",
    "import time\n",
    "from IPython.display import Markdown, display\n",
    "\n",
    "import statsmodels.api as sm\n",
    "import statsmodels.formula.api as smf\n",
    "\n",
    "from sklearn.linear_model import LinearRegression, Ridge, Lasso\n",
    "from sklearn.linear_model import LogisticRegression\n",
    "from sklearn.decomposition import PCA\n",
    "from sklearn.cross_decomposition import PLSRegression\n",
    "\n",
    "from sklearn.discriminant_analysis import LinearDiscriminantAnalysis\n",
    "from sklearn.discriminant_analysis import QuadraticDiscriminantAnalysis\n",
    "from sklearn.neighbors import KNeighborsClassifier\n",
    "\n",
    "from sklearn.model_selection import train_test_split, GridSearchCV, KFold\n",
    "from sklearn.pipeline import Pipeline\n",
    "from sklearn.compose import ColumnTransformer\n",
    "from sklearn.impute import SimpleImputer\n",
    "from sklearn.preprocessing import StandardScaler\n",
    "from sklearn.metrics import mean_squared_error, make_scorer, accuracy_score\n",
    "from sklearn.metrics import classification_report, confusion_matrix\n",
    "\n",
    "\n",
    "# Reset all styles to the default:\n",
    "plt.rcParams.update(plt.rcParamsDefault)\n",
    "# Then make graphs inline:\n",
    "%matplotlib inline\n",
    "\n",
    "def displaybd(text):\n",
    "    display(Markdown(\"**\" + text + \"**\"))\n",
    "    \n",
    "import warnings\n",
    "warnings.filterwarnings(action='once')"
   ]
  },
  {
   "cell_type": "markdown",
   "metadata": {},
   "source": [
    "### Set Display Options"
   ]
  },
  {
   "cell_type": "code",
   "execution_count": 2,
   "metadata": {
    "colab": {},
    "colab_type": "code",
    "id": "A4mTSCCB3KNo",
    "scrolled": false
   },
   "outputs": [],
   "source": [
    "# Reset all styles to the default:\n",
    "plt.rcParams.update(plt.rcParamsDefault)\n",
    "# Then make graphs inline:\n",
    "%matplotlib inline\n",
    "\n",
    "# Useful function for Jupyter to display text in bold:\n",
    "def displaybd(text):\n",
    "    display(Markdown(\"**\" + text + \"**\"))\n",
    "    \n",
    "# Set custom style settings:\n",
    "# NB: We need to separate \"matplotlib inline\" call and these settings into different\n",
    "# cells, otherwise the parameters are not set. This is a bug somewhere in Jupyter\n",
    "plt.rcParams['figure.figsize'] = (7, 6)\n",
    "plt.rcParams['font.size'] = 16\n",
    "plt.rcParams['legend.fontsize'] = 'medium'\n",
    "plt.rcParams['figure.titlesize'] = 'medium'\n",
    "plt.rcParams['lines.markersize'] = 10"
   ]
  },
  {
   "cell_type": "markdown",
   "metadata": {},
   "source": [
    "## 1. Prepare The Data:\n",
    "\n",
    "### Get and Clean the Data\n",
    "\n",
    "A set of numerical features were selected to classify the loan_status. These 10 features were refined from a total of 52 numerical features without compromising the model performance. A preliminary model was fitted using the 52 features, and the features with dominant coefficients were selected.\n",
    "A log transformation was performed on these features. In addition, we had include an engineered feature \"loan_period\", and a categorical feature \"term\".   "
   ]
  },
  {
   "cell_type": "code",
   "execution_count": 3,
   "metadata": {},
   "outputs": [],
   "source": [
    "#-- LOAD DATA:\n",
    "\n",
    "# Load sampled and cleaned loan club dataset\n",
    "datetime_cols = ['issue_d','last_pymnt_d']\n",
    "loan_club = pd.read_csv('Loan_sampled_cleaned.csv',parse_dates = datetime_cols)\n",
    "\n",
    "loan_club['loan_period'] = loan_club['last_pymnt_d'] - loan_club['issue_d']\n",
    "loan_club['loan_period'] = loan_club['loan_period'] / pd.to_timedelta(1, unit='D')\n",
    "\n",
    "\n",
    "important_cols = ['loan_status','loan_amnt','term','int_rate','total_pymnt','loan_period',\n",
    "                  'bc_util','percent_bc_gt_75','out_prncp','total_rec_int','recoveries']\n",
    "\n",
    "loan_club = loan_club[important_cols]\n",
    "\n",
    "# Select skewed regressors that should have log transformation. \n",
    "colsToLn = list(loan_club.select_dtypes(include=[np.number]).columns)\n",
    "colsToLn.remove('loan_period')\n",
    "colsToLn.remove('int_rate')\n",
    "colsToLn.remove(\"percent_bc_gt_75\")\n",
    "colsToLn.remove(\"bc_util\")\n",
    "\n",
    "\n",
    "\n",
    "# Log transform\n",
    "ln_cols = []\n",
    "for colName in colsToLn:\n",
    "    lnColName = \"ln_\" + colName\n",
    "    loan_club[lnColName] = np.log(np.exp(1)+loan_club[colName])\n",
    "    loan_club.drop([colName], axis=1,inplace = True)\n",
    "    ln_cols.append(lnColName)\n"
   ]
  },
  {
   "cell_type": "markdown",
   "metadata": {},
   "source": [
    "**The outcome variable has 7 unique values; however, we select only the 3 most common of them.**"
   ]
  },
  {
   "cell_type": "code",
   "execution_count": 4,
   "metadata": {},
   "outputs": [
    {
     "data": {
      "text/markdown": [
       "**Outcome [loan_status]:**"
      ],
      "text/plain": [
       "<IPython.core.display.Markdown object>"
      ]
     },
     "metadata": {},
     "output_type": "display_data"
    },
    {
     "data": {
      "text/plain": [
       "0       Current\n",
       "1    Fully Paid\n",
       "2       Current\n",
       "3    Fully Paid\n",
       "4    Fully Paid\n",
       "Name: loan_status, dtype: object"
      ]
     },
     "metadata": {},
     "output_type": "display_data"
    }
   ],
   "source": [
    "classes = ['Charged Off','Current','Fully Paid']\n",
    "loan_club = loan_club[loan_club['loan_status'].isin(classes)]\n",
    "y = loan_club.loan_status\n",
    "displaybd(\"Outcome [loan_status]:\")\n",
    "display(y.head())"
   ]
  },
  {
   "cell_type": "markdown",
   "metadata": {},
   "source": [
    "**We create our feature matrix by concatenating log-transformed features, and dummy catergorical feature.**"
   ]
  },
  {
   "cell_type": "code",
   "execution_count": 5,
   "metadata": {},
   "outputs": [
    {
     "data": {
      "text/markdown": [
       "**Predictors:**"
      ],
      "text/plain": [
       "<IPython.core.display.Markdown object>"
      ]
     },
     "metadata": {},
     "output_type": "display_data"
    },
    {
     "data": {
      "text/html": [
       "<div>\n",
       "<style scoped>\n",
       "    .dataframe tbody tr th:only-of-type {\n",
       "        vertical-align: middle;\n",
       "    }\n",
       "\n",
       "    .dataframe tbody tr th {\n",
       "        vertical-align: top;\n",
       "    }\n",
       "\n",
       "    .dataframe thead th {\n",
       "        text-align: right;\n",
       "    }\n",
       "</style>\n",
       "<table border=\"1\" class=\"dataframe\">\n",
       "  <thead>\n",
       "    <tr style=\"text-align: right;\">\n",
       "      <th></th>\n",
       "      <th>ln_loan_amnt</th>\n",
       "      <th>ln_total_pymnt</th>\n",
       "      <th>ln_out_prncp</th>\n",
       "      <th>ln_total_rec_int</th>\n",
       "      <th>ln_recoveries</th>\n",
       "      <th>int_rate</th>\n",
       "      <th>percent_bc_gt_75</th>\n",
       "      <th>bc_util</th>\n",
       "      <th>loan_period</th>\n",
       "      <th>term_36_months</th>\n",
       "    </tr>\n",
       "  </thead>\n",
       "  <tbody>\n",
       "    <tr>\n",
       "      <td>count</td>\n",
       "      <td>72007.000000</td>\n",
       "      <td>72007.000000</td>\n",
       "      <td>72007.000000</td>\n",
       "      <td>72007.000000</td>\n",
       "      <td>72007.000000</td>\n",
       "      <td>72007.000000</td>\n",
       "      <td>72007.000000</td>\n",
       "      <td>72007.000000</td>\n",
       "      <td>72007.000000</td>\n",
       "      <td>72007.000000</td>\n",
       "    </tr>\n",
       "    <tr>\n",
       "      <td>mean</td>\n",
       "      <td>9.430437</td>\n",
       "      <td>9.008182</td>\n",
       "      <td>4.224446</td>\n",
       "      <td>7.251274</td>\n",
       "      <td>1.479226</td>\n",
       "      <td>13.205572</td>\n",
       "      <td>41.399165</td>\n",
       "      <td>57.233622</td>\n",
       "      <td>572.740067</td>\n",
       "      <td>0.701348</td>\n",
       "    </tr>\n",
       "    <tr>\n",
       "      <td>std</td>\n",
       "      <td>0.698352</td>\n",
       "      <td>1.006130</td>\n",
       "      <td>3.932764</td>\n",
       "      <td>1.157475</td>\n",
       "      <td>1.665373</td>\n",
       "      <td>4.882484</td>\n",
       "      <td>35.777918</td>\n",
       "      <td>28.399934</td>\n",
       "      <td>372.808859</td>\n",
       "      <td>0.457670</td>\n",
       "    </tr>\n",
       "    <tr>\n",
       "      <td>min</td>\n",
       "      <td>6.910470</td>\n",
       "      <td>4.151485</td>\n",
       "      <td>1.000000</td>\n",
       "      <td>1.000000</td>\n",
       "      <td>1.000000</td>\n",
       "      <td>5.310000</td>\n",
       "      <td>0.000000</td>\n",
       "      <td>0.000000</td>\n",
       "      <td>0.000000</td>\n",
       "      <td>0.000000</td>\n",
       "    </tr>\n",
       "    <tr>\n",
       "      <td>25%</td>\n",
       "      <td>8.987537</td>\n",
       "      <td>8.419225</td>\n",
       "      <td>1.000000</td>\n",
       "      <td>6.575269</td>\n",
       "      <td>1.000000</td>\n",
       "      <td>9.670000</td>\n",
       "      <td>0.000000</td>\n",
       "      <td>34.800000</td>\n",
       "      <td>273.000000</td>\n",
       "      <td>0.000000</td>\n",
       "    </tr>\n",
       "    <tr>\n",
       "      <td>50%</td>\n",
       "      <td>9.518025</td>\n",
       "      <td>9.158311</td>\n",
       "      <td>1.000000</td>\n",
       "      <td>7.337600</td>\n",
       "      <td>1.000000</td>\n",
       "      <td>12.690000</td>\n",
       "      <td>33.300000</td>\n",
       "      <td>59.200000</td>\n",
       "      <td>517.000000</td>\n",
       "      <td>1.000000</td>\n",
       "    </tr>\n",
       "    <tr>\n",
       "      <td>75%</td>\n",
       "      <td>9.903623</td>\n",
       "      <td>9.748179</td>\n",
       "      <td>8.784396</td>\n",
       "      <td>8.049774</td>\n",
       "      <td>1.000000</td>\n",
       "      <td>16.010000</td>\n",
       "      <td>66.700000</td>\n",
       "      <td>82.200000</td>\n",
       "      <td>853.000000</td>\n",
       "      <td>1.000000</td>\n",
       "    </tr>\n",
       "    <tr>\n",
       "      <td>max</td>\n",
       "      <td>10.596703</td>\n",
       "      <td>11.046282</td>\n",
       "      <td>10.583819</td>\n",
       "      <td>10.229560</td>\n",
       "      <td>10.224359</td>\n",
       "      <td>30.990000</td>\n",
       "      <td>100.000000</td>\n",
       "      <td>318.200000</td>\n",
       "      <td>2010.000000</td>\n",
       "      <td>1.000000</td>\n",
       "    </tr>\n",
       "  </tbody>\n",
       "</table>\n",
       "</div>"
      ],
      "text/plain": [
       "       ln_loan_amnt  ln_total_pymnt  ln_out_prncp  ln_total_rec_int  \\\n",
       "count  72007.000000    72007.000000  72007.000000      72007.000000   \n",
       "mean       9.430437        9.008182      4.224446          7.251274   \n",
       "std        0.698352        1.006130      3.932764          1.157475   \n",
       "min        6.910470        4.151485      1.000000          1.000000   \n",
       "25%        8.987537        8.419225      1.000000          6.575269   \n",
       "50%        9.518025        9.158311      1.000000          7.337600   \n",
       "75%        9.903623        9.748179      8.784396          8.049774   \n",
       "max       10.596703       11.046282     10.583819         10.229560   \n",
       "\n",
       "       ln_recoveries      int_rate  percent_bc_gt_75       bc_util  \\\n",
       "count   72007.000000  72007.000000      72007.000000  72007.000000   \n",
       "mean        1.479226     13.205572         41.399165     57.233622   \n",
       "std         1.665373      4.882484         35.777918     28.399934   \n",
       "min         1.000000      5.310000          0.000000      0.000000   \n",
       "25%         1.000000      9.670000          0.000000     34.800000   \n",
       "50%         1.000000     12.690000         33.300000     59.200000   \n",
       "75%         1.000000     16.010000         66.700000     82.200000   \n",
       "max        10.224359     30.990000        100.000000    318.200000   \n",
       "\n",
       "        loan_period  term_36_months  \n",
       "count  72007.000000    72007.000000  \n",
       "mean     572.740067        0.701348  \n",
       "std      372.808859        0.457670  \n",
       "min        0.000000        0.000000  \n",
       "25%      273.000000        0.000000  \n",
       "50%      517.000000        1.000000  \n",
       "75%      853.000000        1.000000  \n",
       "max     2010.000000        1.000000  "
      ]
     },
     "metadata": {},
     "output_type": "display_data"
    }
   ],
   "source": [
    "X = loan_club[ln_cols+['int_rate','percent_bc_gt_75','bc_util','loan_period']]\n",
    "\n",
    "# Convert categorical variables into dummies:\n",
    "dummies = pd.get_dummies(loan_club[['term']])\n",
    "dummies.rename(columns={\"term_ 36 months\": \"term_36_months\"},inplace=True)\n",
    "cat_features = ['term_36_months']\n",
    "loan_club ['term_36_months'] = dummies['term_36_months']\n",
    "\n",
    "# Extract predictors and outcome variables\n",
    "X = pd.concat([X, dummies[cat_features]], axis=1)\n",
    "feature_names = X.columns\n",
    "\n",
    "displaybd(\"Predictors:\")\n",
    "display(X.describe())"
   ]
  },
  {
   "cell_type": "code",
   "execution_count": 6,
   "metadata": {},
   "outputs": [
    {
     "data": {
      "text/markdown": [
       "**Number of Observations: 72007**"
      ],
      "text/plain": [
       "<IPython.core.display.Markdown object>"
      ]
     },
     "metadata": {},
     "output_type": "display_data"
    },
    {
     "data": {
      "text/markdown": [
       "**Number of Predictors: 10**"
      ],
      "text/plain": [
       "<IPython.core.display.Markdown object>"
      ]
     },
     "metadata": {},
     "output_type": "display_data"
    }
   ],
   "source": [
    "displaybd('Number of Observations: %s' % (X.shape[0]))\n",
    "displaybd('Number of Predictors: %s' % (X.shape[1]))"
   ]
  },
  {
   "cell_type": "markdown",
   "metadata": {},
   "source": [
    "We have a total of 72007 observations and 10 predictors."
   ]
  },
  {
   "cell_type": "markdown",
   "metadata": {},
   "source": [
    "### Split the data:\n",
    "To validate our model performance on generalizing to unknown data, we need to to have some test subset for evaluating our model. We split our data into training and test subsets. Within the training data, we can use some validation subset to perform cross-validation for parameters tuning.  \n",
    "We split the data into 1/2 for training, and 1/2 for testing, and apply some seed to reproduce the results. Due to imbalance of the outcome variable, we apply [Stratification](https://en.wikipedia.org/wiki/Stratified_sampling) to get a balanced split of the outcome between the train and test splits."
   ]
  },
  {
   "cell_type": "code",
   "execution_count": 7,
   "metadata": {},
   "outputs": [
    {
     "data": {
      "text/markdown": [
       "**No. training samples: 36003**"
      ],
      "text/plain": [
       "<IPython.core.display.Markdown object>"
      ]
     },
     "metadata": {},
     "output_type": "display_data"
    },
    {
     "data": {
      "text/markdown": [
       "**No. testing samples: 36004**"
      ],
      "text/plain": [
       "<IPython.core.display.Markdown object>"
      ]
     },
     "metadata": {},
     "output_type": "display_data"
    }
   ],
   "source": [
    "X_train, X_test, y_train, y_test = train_test_split(X, y, test_size=0.5, random_state=42,stratify = y)\n",
    "displaybd(\"No. training samples: %s\" % X_train.shape[0])\n",
    "displaybd(\"No. testing samples: %s\" % X_test.shape[0])"
   ]
  },
  {
   "cell_type": "markdown",
   "metadata": {},
   "source": [
    "We now have about 36,000 observation for training and test sets."
   ]
  },
  {
   "cell_type": "markdown",
   "metadata": {},
   "source": [
    "### Scaling the data:\n",
    "\n",
    "Eventhough models like linear regression, logistic regression, LDA, and QDA don't require scaling, KNN requires scaling since it is distance based. We use scaled features throughout the notebook. Scaling can improve the model accuracy, and allow faster convergence. However, it makes linear model coefficients harder to interpret.\n",
    "\n",
    "We use sklearn standard scaler."
   ]
  },
  {
   "cell_type": "code",
   "execution_count": 8,
   "metadata": {},
   "outputs": [],
   "source": [
    "scaler = StandardScaler()\n",
    "X_train_scaled = scaler.fit_transform(X_train)\n",
    "X_test_scaled = scaler.transform(X_test)"
   ]
  },
  {
   "cell_type": "markdown",
   "metadata": {},
   "source": [
    "To evaluate the model performance, we mainly use the accuracy as a metric. However, due to the imbalance of the data, accuracy might not be a fair metric since it might favor some dominant classes (i.e. \"Fully Paid\") over other non-dominant ones (i.e. \"Charged Off\").\n",
    "Thus, we use confusion matrix to evaluate misclassified observation, and evaluate other metrics as precision, recall, and F1 score. "
   ]
  },
  {
   "cell_type": "code",
   "execution_count": 9,
   "metadata": {},
   "outputs": [],
   "source": [
    "def model_performance(model,X_test,y_test):\n",
    "    y_pred = model.predict(X_test)\n",
    "    confusionDF = pd.crosstab(y_pred, y_test,\n",
    "                              rownames=['Predicted'], colnames=['Actual'],\n",
    "                              margins=True)\n",
    "    \n",
    "    displaybd(\"Confusion matrix:\")\n",
    "    display(confusionDF)\n",
    "    \n",
    "    classificaton_rep = classification_report(y_test, y_pred)\n",
    "    displaybd(\"Classification report:\")\n",
    "    print(classificaton_rep)\n",
    "\n",
    "    accuracy = np.round(np.mean(y_test == y_pred),4)\n",
    "    displaybd(\"Accuarcy: %s\" % accuracy)\n",
    "    "
   ]
  },
  {
   "cell_type": "markdown",
   "metadata": {},
   "source": [
    "## [1] Linear Regression\n",
    "\n",
    "Linear regression is most suited for regression problems; however, it can be extended to classification problems as well.\n",
    "By encoding the outcome variable to a (0,1) value, we can fit a linear model to classify a binary outcome based on some threshold (i.e. 0.5).\n",
    "\\begin{equation}\n",
    "  p(X) = Pr (Y = 1|X) = (\\beta_0+\\beta_1 * X) > 0.5 \n",
    "\\end{equation}\n",
    "\n",
    "To classify an outcome with more than two classes ($n$), we fit need to fit $n$ models to distinct each class from all other classes ([One Vs. All](https://utkuufuk.com/2018/06/03/one-vs-all-classification/)).  \n",
    "\n",
    "First, we need to use one hot encoding to get a binary feature for each class in our outcome. We use pandas \"get_dummies\"."
   ]
  },
  {
   "cell_type": "code",
   "execution_count": 10,
   "metadata": {},
   "outputs": [
    {
     "data": {
      "text/html": [
       "<div>\n",
       "<style scoped>\n",
       "    .dataframe tbody tr th:only-of-type {\n",
       "        vertical-align: middle;\n",
       "    }\n",
       "\n",
       "    .dataframe tbody tr th {\n",
       "        vertical-align: top;\n",
       "    }\n",
       "\n",
       "    .dataframe thead th {\n",
       "        text-align: right;\n",
       "    }\n",
       "</style>\n",
       "<table border=\"1\" class=\"dataframe\">\n",
       "  <thead>\n",
       "    <tr style=\"text-align: right;\">\n",
       "      <th></th>\n",
       "      <th>Charged Off</th>\n",
       "      <th>Current</th>\n",
       "      <th>Fully Paid</th>\n",
       "    </tr>\n",
       "  </thead>\n",
       "  <tbody>\n",
       "    <tr>\n",
       "      <td>55024</td>\n",
       "      <td>1</td>\n",
       "      <td>0</td>\n",
       "      <td>0</td>\n",
       "    </tr>\n",
       "    <tr>\n",
       "      <td>3695</td>\n",
       "      <td>0</td>\n",
       "      <td>0</td>\n",
       "      <td>1</td>\n",
       "    </tr>\n",
       "    <tr>\n",
       "      <td>22508</td>\n",
       "      <td>0</td>\n",
       "      <td>0</td>\n",
       "      <td>1</td>\n",
       "    </tr>\n",
       "    <tr>\n",
       "      <td>13516</td>\n",
       "      <td>0</td>\n",
       "      <td>0</td>\n",
       "      <td>1</td>\n",
       "    </tr>\n",
       "    <tr>\n",
       "      <td>36251</td>\n",
       "      <td>1</td>\n",
       "      <td>0</td>\n",
       "      <td>0</td>\n",
       "    </tr>\n",
       "  </tbody>\n",
       "</table>\n",
       "</div>"
      ],
      "text/plain": [
       "       Charged Off  Current  Fully Paid\n",
       "55024            1        0           0\n",
       "3695             0        0           1\n",
       "22508            0        0           1\n",
       "13516            0        0           1\n",
       "36251            1        0           0"
      ]
     },
     "execution_count": 10,
     "metadata": {},
     "output_type": "execute_result"
    }
   ],
   "source": [
    "y_train_one_hot = pd.get_dummies(y_train)\n",
    "y_train_one_hot.head()"
   ]
  },
  {
   "cell_type": "markdown",
   "metadata": {},
   "source": [
    "We fit $n$ linear regression models for each class. The predicted outcome is assigned to the class model with the largest regression value. We fit the model on the scaled train set, and evaluate it using the scaled test set."
   ]
  },
  {
   "cell_type": "code",
   "execution_count": 11,
   "metadata": {},
   "outputs": [
    {
     "data": {
      "text/markdown": [
       "**Predictions:**"
      ],
      "text/plain": [
       "<IPython.core.display.Markdown object>"
      ]
     },
     "metadata": {},
     "output_type": "display_data"
    },
    {
     "data": {
      "text/plain": [
       "array(['Fully Paid', 'Current', 'Current', 'Fully Paid', 'Current',\n",
       "       'Fully Paid', 'Charged Off', 'Current', 'Fully Paid', 'Fully Paid'],\n",
       "      dtype=object)"
      ]
     },
     "metadata": {},
     "output_type": "display_data"
    }
   ],
   "source": [
    "def multi_linear_classifier(X_train,X_test,y_train_one_hot,classes):\n",
    "    probas = []\n",
    "    coeffs = []\n",
    "    for _class in classes:\n",
    "        LR = LinearRegression().fit(X_train,y_train_one_hot[_class])\n",
    "        LR_proba = LR.predict(X_test_scaled)\n",
    "        probas.append(LR_proba)\n",
    "        coeffs.append(LR.coef_)\n",
    "    probas = np.array(probas).T\n",
    "    y_pred = np.argmax(probas,axis=1).astype(object)\n",
    "    for i in range(len(classes)):\n",
    "        y_pred[y_pred == i] = classes[i]\n",
    "    coeffs = pd.DataFrame(np.array(coeffs).reshape((-1,len(classes))),index=feature_names, columns= classes)\n",
    "    return y_pred,coeffs\n",
    "y_pred, coeffs = multi_linear_classifier(X_train_scaled,X_test_scaled,y_train_one_hot,classes)\n",
    "displaybd(\"Predictions:\")\n",
    "display(y_pred[:10])"
   ]
  },
  {
   "cell_type": "markdown",
   "metadata": {},
   "source": [
    "We fit three linear models with the following coefficients (There is no clear interpretation of the coefficients in this case)."
   ]
  },
  {
   "cell_type": "code",
   "execution_count": 12,
   "metadata": {},
   "outputs": [
    {
     "data": {
      "text/markdown": [
       "**Linear Regression Coefficients:**"
      ],
      "text/plain": [
       "<IPython.core.display.Markdown object>"
      ]
     },
     "metadata": {},
     "output_type": "display_data"
    },
    {
     "data": {
      "text/html": [
       "<div>\n",
       "<style scoped>\n",
       "    .dataframe tbody tr th:only-of-type {\n",
       "        vertical-align: middle;\n",
       "    }\n",
       "\n",
       "    .dataframe tbody tr th {\n",
       "        vertical-align: top;\n",
       "    }\n",
       "\n",
       "    .dataframe thead th {\n",
       "        text-align: right;\n",
       "    }\n",
       "</style>\n",
       "<table border=\"1\" class=\"dataframe\">\n",
       "  <thead>\n",
       "    <tr style=\"text-align: right;\">\n",
       "      <th></th>\n",
       "      <th>Charged Off</th>\n",
       "      <th>Current</th>\n",
       "      <th>Fully Paid</th>\n",
       "    </tr>\n",
       "  </thead>\n",
       "  <tbody>\n",
       "    <tr>\n",
       "      <td>ln_loan_amnt</td>\n",
       "      <td>0.093667</td>\n",
       "      <td>-0.207763</td>\n",
       "      <td>-0.143131</td>\n",
       "    </tr>\n",
       "    <tr>\n",
       "      <td>ln_total_pymnt</td>\n",
       "      <td>0.092324</td>\n",
       "      <td>0.202513</td>\n",
       "      <td>0.000042</td>\n",
       "    </tr>\n",
       "    <tr>\n",
       "      <td>ln_out_prncp</td>\n",
       "      <td>0.002716</td>\n",
       "      <td>-0.005681</td>\n",
       "      <td>0.010667</td>\n",
       "    </tr>\n",
       "    <tr>\n",
       "      <td>ln_total_rec_int</td>\n",
       "      <td>0.006988</td>\n",
       "      <td>-0.054864</td>\n",
       "      <td>0.039544</td>\n",
       "    </tr>\n",
       "    <tr>\n",
       "      <td>ln_recoveries</td>\n",
       "      <td>0.513581</td>\n",
       "      <td>-0.019847</td>\n",
       "      <td>0.011026</td>\n",
       "    </tr>\n",
       "    <tr>\n",
       "      <td>int_rate</td>\n",
       "      <td>0.005716</td>\n",
       "      <td>-0.001095</td>\n",
       "      <td>-0.000494</td>\n",
       "    </tr>\n",
       "    <tr>\n",
       "      <td>percent_bc_gt_75</td>\n",
       "      <td>0.024038</td>\n",
       "      <td>0.006901</td>\n",
       "      <td>-0.038804</td>\n",
       "    </tr>\n",
       "    <tr>\n",
       "      <td>bc_util</td>\n",
       "      <td>0.168219</td>\n",
       "      <td>-0.370450</td>\n",
       "      <td>-0.072477</td>\n",
       "    </tr>\n",
       "    <tr>\n",
       "      <td>loan_period</td>\n",
       "      <td>-0.213539</td>\n",
       "      <td>-0.005758</td>\n",
       "      <td>-0.001620</td>\n",
       "    </tr>\n",
       "    <tr>\n",
       "      <td>term_36_months</td>\n",
       "      <td>0.006175</td>\n",
       "      <td>-0.034705</td>\n",
       "      <td>-0.013889</td>\n",
       "    </tr>\n",
       "  </tbody>\n",
       "</table>\n",
       "</div>"
      ],
      "text/plain": [
       "                  Charged Off   Current  Fully Paid\n",
       "ln_loan_amnt         0.093667 -0.207763   -0.143131\n",
       "ln_total_pymnt       0.092324  0.202513    0.000042\n",
       "ln_out_prncp         0.002716 -0.005681    0.010667\n",
       "ln_total_rec_int     0.006988 -0.054864    0.039544\n",
       "ln_recoveries        0.513581 -0.019847    0.011026\n",
       "int_rate             0.005716 -0.001095   -0.000494\n",
       "percent_bc_gt_75     0.024038  0.006901   -0.038804\n",
       "bc_util              0.168219 -0.370450   -0.072477\n",
       "loan_period         -0.213539 -0.005758   -0.001620\n",
       "term_36_months       0.006175 -0.034705   -0.013889"
      ]
     },
     "metadata": {},
     "output_type": "display_data"
    }
   ],
   "source": [
    "displaybd(\"Linear Regression Coefficients:\")\n",
    "display(coeffs)"
   ]
  },
  {
   "cell_type": "markdown",
   "metadata": {},
   "source": [
    "We can see some features are more significant (higher absolute coefficient values) than others. For example, ln_loan_amount has high coefficient than int_rate. \n",
    "\n",
    "We can use the predicted outcome from the test set ($y_{predicted}$) and compare it to the ground truth values ($y_{test}$)."
   ]
  },
  {
   "cell_type": "code",
   "execution_count": 13,
   "metadata": {},
   "outputs": [
    {
     "data": {
      "text/markdown": [
       "**Confusion matrix:**"
      ],
      "text/plain": [
       "<IPython.core.display.Markdown object>"
      ]
     },
     "metadata": {},
     "output_type": "display_data"
    },
    {
     "data": {
      "text/html": [
       "<div>\n",
       "<style scoped>\n",
       "    .dataframe tbody tr th:only-of-type {\n",
       "        vertical-align: middle;\n",
       "    }\n",
       "\n",
       "    .dataframe tbody tr th {\n",
       "        vertical-align: top;\n",
       "    }\n",
       "\n",
       "    .dataframe thead th {\n",
       "        text-align: right;\n",
       "    }\n",
       "</style>\n",
       "<table border=\"1\" class=\"dataframe\">\n",
       "  <thead>\n",
       "    <tr style=\"text-align: right;\">\n",
       "      <th>Actual</th>\n",
       "      <th>Charged Off</th>\n",
       "      <th>Current</th>\n",
       "      <th>Fully Paid</th>\n",
       "      <th>All</th>\n",
       "    </tr>\n",
       "    <tr>\n",
       "      <th>Predicted</th>\n",
       "      <th></th>\n",
       "      <th></th>\n",
       "      <th></th>\n",
       "      <th></th>\n",
       "    </tr>\n",
       "  </thead>\n",
       "  <tbody>\n",
       "    <tr>\n",
       "      <td>Charged Off</td>\n",
       "      <td>2847</td>\n",
       "      <td>0</td>\n",
       "      <td>0</td>\n",
       "      <td>2847</td>\n",
       "    </tr>\n",
       "    <tr>\n",
       "      <td>Current</td>\n",
       "      <td>0</td>\n",
       "      <td>14695</td>\n",
       "      <td>0</td>\n",
       "      <td>14695</td>\n",
       "    </tr>\n",
       "    <tr>\n",
       "      <td>Fully Paid</td>\n",
       "      <td>1391</td>\n",
       "      <td>127</td>\n",
       "      <td>16944</td>\n",
       "      <td>18462</td>\n",
       "    </tr>\n",
       "    <tr>\n",
       "      <td>All</td>\n",
       "      <td>4238</td>\n",
       "      <td>14822</td>\n",
       "      <td>16944</td>\n",
       "      <td>36004</td>\n",
       "    </tr>\n",
       "  </tbody>\n",
       "</table>\n",
       "</div>"
      ],
      "text/plain": [
       "Actual       Charged Off  Current  Fully Paid    All\n",
       "Predicted                                           \n",
       "Charged Off         2847        0           0   2847\n",
       "Current                0    14695           0  14695\n",
       "Fully Paid          1391      127       16944  18462\n",
       "All                 4238    14822       16944  36004"
      ]
     },
     "metadata": {},
     "output_type": "display_data"
    },
    {
     "data": {
      "text/markdown": [
       "**Classification report:**"
      ],
      "text/plain": [
       "<IPython.core.display.Markdown object>"
      ]
     },
     "metadata": {},
     "output_type": "display_data"
    },
    {
     "name": "stdout",
     "output_type": "stream",
     "text": [
      "              precision    recall  f1-score   support\n",
      "\n",
      " Charged Off       1.00      0.67      0.80      4238\n",
      "     Current       1.00      0.99      1.00     14822\n",
      "  Fully Paid       0.92      1.00      0.96     16944\n",
      "\n",
      "    accuracy                           0.96     36004\n",
      "   macro avg       0.97      0.89      0.92     36004\n",
      "weighted avg       0.96      0.96      0.95     36004\n",
      "\n"
     ]
    },
    {
     "data": {
      "text/markdown": [
       "**Accuarcy: 0.9578**"
      ],
      "text/plain": [
       "<IPython.core.display.Markdown object>"
      ]
     },
     "metadata": {},
     "output_type": "display_data"
    }
   ],
   "source": [
    "confusionDF = pd.crosstab(y_pred, y_test,\n",
    "                          rownames=['Predicted'], colnames=['Actual'],\n",
    "                          margins=True)\n",
    "\n",
    "displaybd(\"Confusion matrix:\")\n",
    "display(confusionDF)\n",
    "\n",
    "classificaton_rep = classification_report(y_test, y_pred)\n",
    "displaybd(\"Classification report:\")\n",
    "print(classificaton_rep)\n",
    "\n",
    "accuracy_linear = np.round(np.mean(y_test == y_pred),4)\n",
    "displaybd(\"Accuarcy: %s\" % accuracy_linear)"
   ]
  },
  {
   "cell_type": "markdown",
   "metadata": {},
   "source": [
    "The linear model is unexpectedly accurate with accuracy around 96%. Most of the error of the model can be assossiated with misclassifying many \"Charged Off\" as \"Fully Paid\". Due to the relatively few \"Charged Off\" observations, the accuracy didn't suffer much. However, the \"Charged Off\" recall is relatively low (0.67). It is hard to seperate the two classes (\"Charged Off\" , \"Fully Paid\") perfectly with linear regression since each model outputs unbounded values, which might favor one class over the other. Next, we try logistic regression, which outputs a problablity of the class between 0 and 1.   "
   ]
  },
  {
   "cell_type": "markdown",
   "metadata": {},
   "source": [
    "## [2] Logistic Regression\n",
    "\n",
    "Logistic regression is an expansion of linear regression to suit the nature of classification problems. It applies a logistic function to bound the output between 0 and 1. The output can then represent the class probablity. \n",
    "\\begin{equation}\n",
    "  p(X) = Pr (Y = 1|X) = {e^{\\beta_0+\\beta_1 * X} \\over (1+e^{\\beta_0+\\beta_1 * X})}\n",
    "\\end{equation}\n",
    "\n",
    "Logistic regression works on binary classification problems, so problems with more than two classes requires fitting more logistic regression models. \n",
    "\n",
    "sklearn \"[LogisticRegression](https://scikit-learn.org/stable/modules/generated/sklearn.linear_model.LogisticRegression.html)\" method inherently solves multiclass prolbems by fitting more model internally. "
   ]
  },
  {
   "cell_type": "code",
   "execution_count": 14,
   "metadata": {},
   "outputs": [
    {
     "data": {
      "text/markdown": [
       "**Coefficients:**"
      ],
      "text/plain": [
       "<IPython.core.display.Markdown object>"
      ]
     },
     "metadata": {},
     "output_type": "display_data"
    },
    {
     "data": {
      "text/html": [
       "<div>\n",
       "<style scoped>\n",
       "    .dataframe tbody tr th:only-of-type {\n",
       "        vertical-align: middle;\n",
       "    }\n",
       "\n",
       "    .dataframe tbody tr th {\n",
       "        vertical-align: top;\n",
       "    }\n",
       "\n",
       "    .dataframe thead th {\n",
       "        text-align: right;\n",
       "    }\n",
       "</style>\n",
       "<table border=\"1\" class=\"dataframe\">\n",
       "  <thead>\n",
       "    <tr style=\"text-align: right;\">\n",
       "      <th></th>\n",
       "      <th>Charged Off</th>\n",
       "      <th>Current</th>\n",
       "      <th>Fully Paid</th>\n",
       "    </tr>\n",
       "  </thead>\n",
       "  <tbody>\n",
       "    <tr>\n",
       "      <td>ln_loan_amnt</td>\n",
       "      <td>4.450168</td>\n",
       "      <td>1.497489</td>\n",
       "      <td>5.947656</td>\n",
       "    </tr>\n",
       "    <tr>\n",
       "      <td>ln_total_pymnt</td>\n",
       "      <td>9.617509</td>\n",
       "      <td>0.888625</td>\n",
       "      <td>10.506134</td>\n",
       "    </tr>\n",
       "    <tr>\n",
       "      <td>ln_out_prncp</td>\n",
       "      <td>3.967886</td>\n",
       "      <td>7.520069</td>\n",
       "      <td>3.552182</td>\n",
       "    </tr>\n",
       "    <tr>\n",
       "      <td>ln_total_rec_int</td>\n",
       "      <td>3.704761</td>\n",
       "      <td>1.616463</td>\n",
       "      <td>2.088298</td>\n",
       "    </tr>\n",
       "    <tr>\n",
       "      <td>ln_recoveries</td>\n",
       "      <td>2.796144</td>\n",
       "      <td>0.978456</td>\n",
       "      <td>1.817688</td>\n",
       "    </tr>\n",
       "    <tr>\n",
       "      <td>int_rate</td>\n",
       "      <td>0.418437</td>\n",
       "      <td>0.388994</td>\n",
       "      <td>0.029443</td>\n",
       "    </tr>\n",
       "    <tr>\n",
       "      <td>percent_bc_gt_75</td>\n",
       "      <td>0.011141</td>\n",
       "      <td>0.036409</td>\n",
       "      <td>0.025269</td>\n",
       "    </tr>\n",
       "    <tr>\n",
       "      <td>bc_util</td>\n",
       "      <td>0.007150</td>\n",
       "      <td>0.120487</td>\n",
       "      <td>0.127637</td>\n",
       "    </tr>\n",
       "    <tr>\n",
       "      <td>loan_period</td>\n",
       "      <td>0.160924</td>\n",
       "      <td>0.439972</td>\n",
       "      <td>0.600895</td>\n",
       "    </tr>\n",
       "    <tr>\n",
       "      <td>term_36_months</td>\n",
       "      <td>0.299417</td>\n",
       "      <td>0.219393</td>\n",
       "      <td>0.080024</td>\n",
       "    </tr>\n",
       "  </tbody>\n",
       "</table>\n",
       "</div>"
      ],
      "text/plain": [
       "                  Charged Off   Current  Fully Paid\n",
       "ln_loan_amnt         4.450168  1.497489    5.947656\n",
       "ln_total_pymnt       9.617509  0.888625   10.506134\n",
       "ln_out_prncp         3.967886  7.520069    3.552182\n",
       "ln_total_rec_int     3.704761  1.616463    2.088298\n",
       "ln_recoveries        2.796144  0.978456    1.817688\n",
       "int_rate             0.418437  0.388994    0.029443\n",
       "percent_bc_gt_75     0.011141  0.036409    0.025269\n",
       "bc_util              0.007150  0.120487    0.127637\n",
       "loan_period          0.160924  0.439972    0.600895\n",
       "term_36_months       0.299417  0.219393    0.080024"
      ]
     },
     "metadata": {},
     "output_type": "display_data"
    }
   ],
   "source": [
    "logit_model = LogisticRegression(multi_class = 'multinomial',solver = 'newton-cg') #ovr\n",
    "start_time = time.time()\n",
    "logit_model.fit(X_train_scaled, y_train)\n",
    "\n",
    "model_coeff = pd.DataFrame(np.abs(logit_model.coef_.T),columns=logit_model.classes_, index = feature_names)\n",
    "displaybd(\"Coefficients:\")\n",
    "display(model_coeff)"
   ]
  },
  {
   "cell_type": "markdown",
   "metadata": {},
   "source": [
    "Similiar to linear regression coefficients, some features are more influential. For logestic regression, the coefficients are on a different scale. We can also note that feature importance varies from one classifer to another. For example, for \"Charged Off\", and \"Fully Paid\" classifiers, ln_total_pymnt is the most important feature; while, for \"Current\" classifier, ln_out_prncp is a more important feature.  \n",
    "\n",
    "Let's evaluate the logistic model performance on the test set. "
   ]
  },
  {
   "cell_type": "code",
   "execution_count": 15,
   "metadata": {},
   "outputs": [
    {
     "data": {
      "text/markdown": [
       "**Confusion matrix:**"
      ],
      "text/plain": [
       "<IPython.core.display.Markdown object>"
      ]
     },
     "metadata": {},
     "output_type": "display_data"
    },
    {
     "data": {
      "text/html": [
       "<div>\n",
       "<style scoped>\n",
       "    .dataframe tbody tr th:only-of-type {\n",
       "        vertical-align: middle;\n",
       "    }\n",
       "\n",
       "    .dataframe tbody tr th {\n",
       "        vertical-align: top;\n",
       "    }\n",
       "\n",
       "    .dataframe thead th {\n",
       "        text-align: right;\n",
       "    }\n",
       "</style>\n",
       "<table border=\"1\" class=\"dataframe\">\n",
       "  <thead>\n",
       "    <tr style=\"text-align: right;\">\n",
       "      <th>Actual</th>\n",
       "      <th>Charged Off</th>\n",
       "      <th>Current</th>\n",
       "      <th>Fully Paid</th>\n",
       "      <th>All</th>\n",
       "    </tr>\n",
       "    <tr>\n",
       "      <th>Predicted</th>\n",
       "      <th></th>\n",
       "      <th></th>\n",
       "      <th></th>\n",
       "      <th></th>\n",
       "    </tr>\n",
       "  </thead>\n",
       "  <tbody>\n",
       "    <tr>\n",
       "      <td>Charged Off</td>\n",
       "      <td>4152</td>\n",
       "      <td>0</td>\n",
       "      <td>0</td>\n",
       "      <td>4152</td>\n",
       "    </tr>\n",
       "    <tr>\n",
       "      <td>Current</td>\n",
       "      <td>0</td>\n",
       "      <td>14705</td>\n",
       "      <td>0</td>\n",
       "      <td>14705</td>\n",
       "    </tr>\n",
       "    <tr>\n",
       "      <td>Fully Paid</td>\n",
       "      <td>86</td>\n",
       "      <td>117</td>\n",
       "      <td>16944</td>\n",
       "      <td>17147</td>\n",
       "    </tr>\n",
       "    <tr>\n",
       "      <td>All</td>\n",
       "      <td>4238</td>\n",
       "      <td>14822</td>\n",
       "      <td>16944</td>\n",
       "      <td>36004</td>\n",
       "    </tr>\n",
       "  </tbody>\n",
       "</table>\n",
       "</div>"
      ],
      "text/plain": [
       "Actual       Charged Off  Current  Fully Paid    All\n",
       "Predicted                                           \n",
       "Charged Off         4152        0           0   4152\n",
       "Current                0    14705           0  14705\n",
       "Fully Paid            86      117       16944  17147\n",
       "All                 4238    14822       16944  36004"
      ]
     },
     "metadata": {},
     "output_type": "display_data"
    },
    {
     "data": {
      "text/markdown": [
       "**Classification report:**"
      ],
      "text/plain": [
       "<IPython.core.display.Markdown object>"
      ]
     },
     "metadata": {},
     "output_type": "display_data"
    },
    {
     "name": "stdout",
     "output_type": "stream",
     "text": [
      "              precision    recall  f1-score   support\n",
      "\n",
      " Charged Off       1.00      0.98      0.99      4238\n",
      "     Current       1.00      0.99      1.00     14822\n",
      "  Fully Paid       0.99      1.00      0.99     16944\n",
      "\n",
      "    accuracy                           0.99     36004\n",
      "   macro avg       1.00      0.99      0.99     36004\n",
      "weighted avg       0.99      0.99      0.99     36004\n",
      "\n"
     ]
    },
    {
     "data": {
      "text/markdown": [
       "**Accuarcy: 0.9944**"
      ],
      "text/plain": [
       "<IPython.core.display.Markdown object>"
      ]
     },
     "metadata": {},
     "output_type": "display_data"
    }
   ],
   "source": [
    "model_performance(logit_model,X_test_scaled,y_test)"
   ]
  },
  {
   "cell_type": "markdown",
   "metadata": {},
   "source": [
    "The logistic model could overcome the shortcomings of linear model for correctly classifying the \"Charged Off\" observations. The accuracy is now about 99.4% with nearly perfect precision and recall for all classes. We can see that the model is slightly biased towards \"Fully Paid\" so it get a perfect recall (correctly classify all fully-paid obsevations), but a nearly-perfect precision (misclassifies the other two classes (charged-off, current) as fully-paid).  \n",
    "The model performance suggest that the classes are linearly seperable. If that was not the case, we would need to explore other classifiers that can fit non linear boundries like LDA and QDA."
   ]
  },
  {
   "cell_type": "markdown",
   "metadata": {},
   "source": [
    "## [3] Linear Discriminant Analysis\n",
    "\n",
    "Linear Discriminant Analysis start with an assumption of a multivariate gaussian distibution of each class. We assume each class has a specific mean vector $μ_k$ , but all classes share a common covariance matrix $\\Sigma$. We can then estimate the following probablity of each class $\\gamma_k$. The assigned class is the one with highest $\\gamma_k$. \n",
    "\n",
    "\\begin{equation}\n",
    "  \\gamma_k(x) = x^T\\Sigma^{-1}μ_k −{1\\over2} μ_k^T\\Sigma^{-1}μ_k + log\\ \\pi_k\n",
    "\\end{equation}\n",
    "\n",
    "\n",
    "sklearn \"[LinearDiscriminantAnalysis](https://scikit-learn.org/stable/modules/generated/sklearn.discriminant_analysis.LinearDiscriminantAnalysis.html)\" is used to fit the LDA model. Unlike logistic and linear classifiers, only a single classifier is required for multiclass classification.\n",
    "\n",
    "We use the following functions to display the different classes, prior probablities, means, and coefficients of the linear boundaries."
   ]
  },
  {
   "cell_type": "code",
   "execution_count": 16,
   "metadata": {},
   "outputs": [],
   "source": [
    "def printPriorProbabilities(ldaClasses, ldaPriors):\n",
    "    priorsDF = pd.DataFrame()\n",
    "    for cIdx, cName in enumerate(ldaClasses):\n",
    "        priorsDF[cName] = [ldaPriors[cIdx]];\n",
    "    displaybd('Prior probablities of groups:')\n",
    "    display(Markdown(priorsDF.to_html(index=False)))\n",
    "    \n",
    "def printGroupMeans(ldaClasses, featuresNames, ldaGroupMeans):\n",
    "    displaybd(\"Group means:\")\n",
    "    groupMeansDF = pd.DataFrame(index=ldaClasses)\n",
    "    for fIdx, fName in enumerate(featuresNames):\n",
    "         groupMeansDF[fName] = ldaGroupMeans[:, fIdx]\n",
    "    display(groupMeansDF)\n",
    "\n",
    "def printLDACoeffs(featuresNames,classes, ldaCoeffs):\n",
    "    coeffDF = pd.DataFrame(index=featuresNames)\n",
    "    for cIdx in range(ldaCoeffs.shape[0]):\n",
    "        colName = classes[cIdx] \n",
    "        coeffDF[colName] = ldaCoeffs[cIdx]\n",
    "    displaybd(\"Coefficients of linear discriminants:\")\n",
    "    display(coeffDF)\n"
   ]
  },
  {
   "cell_type": "markdown",
   "metadata": {},
   "source": [
    "Let's fit our model."
   ]
  },
  {
   "cell_type": "code",
   "execution_count": 17,
   "metadata": {
    "scrolled": false
   },
   "outputs": [
    {
     "data": {
      "text/markdown": [
       "**Prior probablities of groups:**"
      ],
      "text/plain": [
       "<IPython.core.display.Markdown object>"
      ]
     },
     "metadata": {},
     "output_type": "display_data"
    },
    {
     "data": {
      "text/markdown": [
       "<table border=\"1\" class=\"dataframe\">\n",
       "  <thead>\n",
       "    <tr style=\"text-align: right;\">\n",
       "      <th>Charged Off</th>\n",
       "      <th>Current</th>\n",
       "      <th>Fully Paid</th>\n",
       "    </tr>\n",
       "  </thead>\n",
       "  <tbody>\n",
       "    <tr>\n",
       "      <td>0.11774</td>\n",
       "      <td>0.41166</td>\n",
       "      <td>0.4706</td>\n",
       "    </tr>\n",
       "  </tbody>\n",
       "</table>"
      ],
      "text/plain": [
       "<IPython.core.display.Markdown object>"
      ]
     },
     "metadata": {},
     "output_type": "display_data"
    },
    {
     "data": {
      "text/markdown": [
       "**Group means:**"
      ],
      "text/plain": [
       "<IPython.core.display.Markdown object>"
      ]
     },
     "metadata": {},
     "output_type": "display_data"
    },
    {
     "data": {
      "text/html": [
       "<div>\n",
       "<style scoped>\n",
       "    .dataframe tbody tr th:only-of-type {\n",
       "        vertical-align: middle;\n",
       "    }\n",
       "\n",
       "    .dataframe tbody tr th {\n",
       "        vertical-align: top;\n",
       "    }\n",
       "\n",
       "    .dataframe thead th {\n",
       "        text-align: right;\n",
       "    }\n",
       "</style>\n",
       "<table border=\"1\" class=\"dataframe\">\n",
       "  <thead>\n",
       "    <tr style=\"text-align: right;\">\n",
       "      <th></th>\n",
       "      <th>ln_loan_amnt</th>\n",
       "      <th>ln_total_pymnt</th>\n",
       "      <th>ln_out_prncp</th>\n",
       "      <th>ln_total_rec_int</th>\n",
       "      <th>ln_recoveries</th>\n",
       "      <th>int_rate</th>\n",
       "      <th>percent_bc_gt_75</th>\n",
       "      <th>bc_util</th>\n",
       "      <th>loan_period</th>\n",
       "      <th>term_36_months</th>\n",
       "    </tr>\n",
       "  </thead>\n",
       "  <tbody>\n",
       "    <tr>\n",
       "      <td>Charged Off</td>\n",
       "      <td>0.129136</td>\n",
       "      <td>-0.243574</td>\n",
       "      <td>-0.820166</td>\n",
       "      <td>0.227055</td>\n",
       "      <td>2.159862</td>\n",
       "      <td>0.561770</td>\n",
       "      <td>0.251372</td>\n",
       "      <td>0.222359</td>\n",
       "      <td>-0.219018</td>\n",
       "      <td>-0.268152</td>\n",
       "    </tr>\n",
       "    <tr>\n",
       "      <td>Current</td>\n",
       "      <td>0.053374</td>\n",
       "      <td>-0.506098</td>\n",
       "      <td>1.172171</td>\n",
       "      <td>-0.030547</td>\n",
       "      <td>-0.288240</td>\n",
       "      <td>-0.070655</td>\n",
       "      <td>-0.118313</td>\n",
       "      <td>-0.116475</td>\n",
       "      <td>-0.141622</td>\n",
       "      <td>-0.138569</td>\n",
       "    </tr>\n",
       "    <tr>\n",
       "      <td>Fully Paid</td>\n",
       "      <td>-0.078998</td>\n",
       "      <td>0.503653</td>\n",
       "      <td>-0.820166</td>\n",
       "      <td>-0.030086</td>\n",
       "      <td>-0.288240</td>\n",
       "      <td>-0.078744</td>\n",
       "      <td>0.040604</td>\n",
       "      <td>0.046255</td>\n",
       "      <td>0.178682</td>\n",
       "      <td>0.188304</td>\n",
       "    </tr>\n",
       "  </tbody>\n",
       "</table>\n",
       "</div>"
      ],
      "text/plain": [
       "             ln_loan_amnt  ln_total_pymnt  ln_out_prncp  ln_total_rec_int  \\\n",
       "Charged Off      0.129136       -0.243574     -0.820166          0.227055   \n",
       "Current          0.053374       -0.506098      1.172171         -0.030547   \n",
       "Fully Paid      -0.078998        0.503653     -0.820166         -0.030086   \n",
       "\n",
       "             ln_recoveries  int_rate  percent_bc_gt_75   bc_util  loan_period  \\\n",
       "Charged Off       2.159862  0.561770          0.251372  0.222359    -0.219018   \n",
       "Current          -0.288240 -0.070655         -0.118313 -0.116475    -0.141622   \n",
       "Fully Paid       -0.288240 -0.078744          0.040604  0.046255     0.178682   \n",
       "\n",
       "             term_36_months  \n",
       "Charged Off       -0.268152  \n",
       "Current           -0.138569  \n",
       "Fully Paid         0.188304  "
      ]
     },
     "metadata": {},
     "output_type": "display_data"
    },
    {
     "data": {
      "text/markdown": [
       "**Coefficients of linear discriminants:**"
      ],
      "text/plain": [
       "<IPython.core.display.Markdown object>"
      ]
     },
     "metadata": {},
     "output_type": "display_data"
    },
    {
     "data": {
      "text/html": [
       "<div>\n",
       "<style scoped>\n",
       "    .dataframe tbody tr th:only-of-type {\n",
       "        vertical-align: middle;\n",
       "    }\n",
       "\n",
       "    .dataframe tbody tr th {\n",
       "        vertical-align: top;\n",
       "    }\n",
       "\n",
       "    .dataframe thead th {\n",
       "        text-align: right;\n",
       "    }\n",
       "</style>\n",
       "<table border=\"1\" class=\"dataframe\">\n",
       "  <thead>\n",
       "    <tr style=\"text-align: right;\">\n",
       "      <th></th>\n",
       "      <th>Charged Off</th>\n",
       "      <th>Current</th>\n",
       "      <th>Fully Paid</th>\n",
       "    </tr>\n",
       "  </thead>\n",
       "  <tbody>\n",
       "    <tr>\n",
       "      <td>ln_loan_amnt</td>\n",
       "      <td>6.806216</td>\n",
       "      <td>-5.612304</td>\n",
       "      <td>3.206540</td>\n",
       "    </tr>\n",
       "    <tr>\n",
       "      <td>ln_total_pymnt</td>\n",
       "      <td>-9.561317</td>\n",
       "      <td>5.172050</td>\n",
       "      <td>-2.132121</td>\n",
       "    </tr>\n",
       "    <tr>\n",
       "      <td>ln_out_prncp</td>\n",
       "      <td>-39.358058</td>\n",
       "      <td>46.641662</td>\n",
       "      <td>-30.953034</td>\n",
       "    </tr>\n",
       "    <tr>\n",
       "      <td>ln_total_rec_int</td>\n",
       "      <td>4.402067</td>\n",
       "      <td>-2.499813</td>\n",
       "      <td>1.085367</td>\n",
       "    </tr>\n",
       "    <tr>\n",
       "      <td>ln_recoveries</td>\n",
       "      <td>5.979513</td>\n",
       "      <td>-0.650558</td>\n",
       "      <td>-0.926946</td>\n",
       "    </tr>\n",
       "    <tr>\n",
       "      <td>int_rate</td>\n",
       "      <td>-0.383737</td>\n",
       "      <td>0.505937</td>\n",
       "      <td>-0.346563</td>\n",
       "    </tr>\n",
       "    <tr>\n",
       "      <td>percent_bc_gt_75</td>\n",
       "      <td>0.163967</td>\n",
       "      <td>-0.118851</td>\n",
       "      <td>0.062943</td>\n",
       "    </tr>\n",
       "    <tr>\n",
       "      <td>bc_util</td>\n",
       "      <td>-0.155336</td>\n",
       "      <td>0.001933</td>\n",
       "      <td>0.037173</td>\n",
       "    </tr>\n",
       "    <tr>\n",
       "      <td>loan_period</td>\n",
       "      <td>-1.265709</td>\n",
       "      <td>2.043551</td>\n",
       "      <td>-1.470940</td>\n",
       "    </tr>\n",
       "    <tr>\n",
       "      <td>term_36_months</td>\n",
       "      <td>-0.233079</td>\n",
       "      <td>0.555164</td>\n",
       "      <td>-0.427319</td>\n",
       "    </tr>\n",
       "  </tbody>\n",
       "</table>\n",
       "</div>"
      ],
      "text/plain": [
       "                  Charged Off    Current  Fully Paid\n",
       "ln_loan_amnt         6.806216  -5.612304    3.206540\n",
       "ln_total_pymnt      -9.561317   5.172050   -2.132121\n",
       "ln_out_prncp       -39.358058  46.641662  -30.953034\n",
       "ln_total_rec_int     4.402067  -2.499813    1.085367\n",
       "ln_recoveries        5.979513  -0.650558   -0.926946\n",
       "int_rate            -0.383737   0.505937   -0.346563\n",
       "percent_bc_gt_75     0.163967  -0.118851    0.062943\n",
       "bc_util             -0.155336   0.001933    0.037173\n",
       "loan_period         -1.265709   2.043551   -1.470940\n",
       "term_36_months      -0.233079   0.555164   -0.427319"
      ]
     },
     "metadata": {},
     "output_type": "display_data"
    }
   ],
   "source": [
    "lda = LinearDiscriminantAnalysis()\n",
    "lda.fit(X_train_scaled, y_train);\n",
    "\n",
    "printPriorProbabilities(lda.classes_, lda.priors_)\n",
    "printGroupMeans(lda.classes_, feature_names, lda.means_)\n",
    "printLDACoeffs(feature_names,lda.classes_, lda.coef_)"
   ]
  },
  {
   "cell_type": "markdown",
   "metadata": {},
   "source": [
    "The prior probablities ($\\pi_k$) is estimated from the y_train as how common is one class relative to other. \"Fully Paid\" class is the most common one.\n",
    "\n",
    "The class feature means are relatively different; suggesting that it would be possible to seperate classes. \n",
    "\n",
    "We can also see from the class coefficients that some features are highly significant like ln_out_prncp."
   ]
  },
  {
   "cell_type": "code",
   "execution_count": 18,
   "metadata": {},
   "outputs": [
    {
     "data": {
      "text/markdown": [
       "**Confusion matrix:**"
      ],
      "text/plain": [
       "<IPython.core.display.Markdown object>"
      ]
     },
     "metadata": {},
     "output_type": "display_data"
    },
    {
     "data": {
      "text/html": [
       "<div>\n",
       "<style scoped>\n",
       "    .dataframe tbody tr th:only-of-type {\n",
       "        vertical-align: middle;\n",
       "    }\n",
       "\n",
       "    .dataframe tbody tr th {\n",
       "        vertical-align: top;\n",
       "    }\n",
       "\n",
       "    .dataframe thead th {\n",
       "        text-align: right;\n",
       "    }\n",
       "</style>\n",
       "<table border=\"1\" class=\"dataframe\">\n",
       "  <thead>\n",
       "    <tr style=\"text-align: right;\">\n",
       "      <th>Actual</th>\n",
       "      <th>Charged Off</th>\n",
       "      <th>Current</th>\n",
       "      <th>Fully Paid</th>\n",
       "      <th>All</th>\n",
       "    </tr>\n",
       "    <tr>\n",
       "      <th>Predicted</th>\n",
       "      <th></th>\n",
       "      <th></th>\n",
       "      <th></th>\n",
       "      <th></th>\n",
       "    </tr>\n",
       "  </thead>\n",
       "  <tbody>\n",
       "    <tr>\n",
       "      <td>Charged Off</td>\n",
       "      <td>2997</td>\n",
       "      <td>0</td>\n",
       "      <td>0</td>\n",
       "      <td>2997</td>\n",
       "    </tr>\n",
       "    <tr>\n",
       "      <td>Current</td>\n",
       "      <td>0</td>\n",
       "      <td>14699</td>\n",
       "      <td>0</td>\n",
       "      <td>14699</td>\n",
       "    </tr>\n",
       "    <tr>\n",
       "      <td>Fully Paid</td>\n",
       "      <td>1241</td>\n",
       "      <td>123</td>\n",
       "      <td>16944</td>\n",
       "      <td>18308</td>\n",
       "    </tr>\n",
       "    <tr>\n",
       "      <td>All</td>\n",
       "      <td>4238</td>\n",
       "      <td>14822</td>\n",
       "      <td>16944</td>\n",
       "      <td>36004</td>\n",
       "    </tr>\n",
       "  </tbody>\n",
       "</table>\n",
       "</div>"
      ],
      "text/plain": [
       "Actual       Charged Off  Current  Fully Paid    All\n",
       "Predicted                                           \n",
       "Charged Off         2997        0           0   2997\n",
       "Current                0    14699           0  14699\n",
       "Fully Paid          1241      123       16944  18308\n",
       "All                 4238    14822       16944  36004"
      ]
     },
     "metadata": {},
     "output_type": "display_data"
    },
    {
     "data": {
      "text/markdown": [
       "**Classification report:**"
      ],
      "text/plain": [
       "<IPython.core.display.Markdown object>"
      ]
     },
     "metadata": {},
     "output_type": "display_data"
    },
    {
     "name": "stdout",
     "output_type": "stream",
     "text": [
      "              precision    recall  f1-score   support\n",
      "\n",
      " Charged Off       1.00      0.71      0.83      4238\n",
      "     Current       1.00      0.99      1.00     14822\n",
      "  Fully Paid       0.93      1.00      0.96     16944\n",
      "\n",
      "    accuracy                           0.96     36004\n",
      "   macro avg       0.98      0.90      0.93     36004\n",
      "weighted avg       0.96      0.96      0.96     36004\n",
      "\n"
     ]
    },
    {
     "data": {
      "text/markdown": [
       "**Accuarcy: 0.9621**"
      ],
      "text/plain": [
       "<IPython.core.display.Markdown object>"
      ]
     },
     "metadata": {},
     "output_type": "display_data"
    }
   ],
   "source": [
    "model_performance(lda,X_test_scaled,y_test)"
   ]
  },
  {
   "cell_type": "markdown",
   "metadata": {},
   "source": [
    "LDA's performance is not as good as logistic regression. This is due to linear seperablity of the data, and the imperfect assumption of gaussian distribution. However, LDA has a slightly better performance compared to linear regression. Similiar to linear regression, \"Charged Off\" class has a low recall due to the bias towards \"Fully Paid\" class.\n",
    "\n",
    "We can check the confidence in our predictions through checking the postrior probablities of each class."
   ]
  },
  {
   "cell_type": "code",
   "execution_count": 19,
   "metadata": {},
   "outputs": [
    {
     "data": {
      "text/markdown": [
       "**Posterior Probablities with 0.5 threshold:**"
      ],
      "text/plain": [
       "<IPython.core.display.Markdown object>"
      ]
     },
     "metadata": {},
     "output_type": "display_data"
    },
    {
     "data": {
      "text/plain": [
       "Charged Off    0.083241\n",
       "Current        0.408260\n",
       "Fully Paid     0.508499\n",
       "dtype: float64"
      ]
     },
     "metadata": {},
     "output_type": "display_data"
    },
    {
     "data": {
      "text/markdown": [
       "**Posterior Probablities with 0.9 threshold:**"
      ],
      "text/plain": [
       "<IPython.core.display.Markdown object>"
      ]
     },
     "metadata": {},
     "output_type": "display_data"
    },
    {
     "data": {
      "text/plain": [
       "Charged Off    0.080241\n",
       "Current        0.408121\n",
       "Fully Paid     0.504416\n",
       "dtype: float64"
      ]
     },
     "metadata": {},
     "output_type": "display_data"
    }
   ],
   "source": [
    "pred_p = lda.predict_proba(X_test_scaled)\n",
    "# pred_p is an array of shape (number of observations) x (number of classes)\n",
    "pred_p = pd.DataFrame(pred_p,columns=lda.classes_)\n",
    "displaybd(\"Posterior Probablities with 0.5 threshold:\")\n",
    "display((pred_p > 0.5).mean(axis=0))\n",
    "\n",
    "displaybd(\"Posterior Probablities with 0.9 threshold:\")\n",
    "display((pred_p > 0.9).mean())"
   ]
  },
  {
   "cell_type": "markdown",
   "metadata": {},
   "source": [
    "Changing the threshold from 0.5 to 0.9 resulted in very slight change. This suggests that the classes are assigned with high confidence. "
   ]
  },
  {
   "cell_type": "markdown",
   "metadata": {},
   "source": [
    "## [4] Quadratic Discriminant Analysis\n",
    "\n",
    "Quadratic Discriminant Analysis is an expansion of Linear Discriminant Analysis. It can give a more flexible model by assuming each class has a distinct covariance matrix $\\Sigma_k$. This would make the class probablity $\\gamma_k$ nonlinear (quadratic) with feature $x$.\n",
    "\n",
    "\\begin{equation}\n",
    "  \\gamma_k(x) = -{1\\over2}(x -μ_k)^T \\Sigma_k^{-1}(x -μ_k) − {1\\over2}{log\\ |\\Sigma_k|} + log\\ \\pi_k\n",
    "\\end{equation}\n",
    "\n",
    "This would increase model flexiblity for nonlinear decision boundaries. QDA can be more computationally expensive than LDA as computes more parameters.\n",
    "\n",
    "sklearn \"[QuadraticDiscriminantAnalysis](https://scikit-learn.org/stable/modules/generated/sklearn.discriminant_analysis.QuadraticDiscriminantAnalysis.html#sklearn.discriminant_analysis.QuadraticDiscriminantAnalysis)\" is used to fit the model."
   ]
  },
  {
   "cell_type": "code",
   "execution_count": 20,
   "metadata": {
    "scrolled": false
   },
   "outputs": [
    {
     "name": "stderr",
     "output_type": "stream",
     "text": [
      "C:\\Users\\ammus\\AppData\\Local\\Continuum\\anaconda3\\lib\\site-packages\\sklearn\\discriminant_analysis.py:693: UserWarning: Variables are collinear\n",
      "  warnings.warn(\"Variables are collinear\")\n"
     ]
    },
    {
     "data": {
      "text/markdown": [
       "**Prior probablities of groups:**"
      ],
      "text/plain": [
       "<IPython.core.display.Markdown object>"
      ]
     },
     "metadata": {},
     "output_type": "display_data"
    },
    {
     "data": {
      "text/markdown": [
       "<table border=\"1\" class=\"dataframe\">\n",
       "  <thead>\n",
       "    <tr style=\"text-align: right;\">\n",
       "      <th>Charged Off</th>\n",
       "      <th>Current</th>\n",
       "      <th>Fully Paid</th>\n",
       "    </tr>\n",
       "  </thead>\n",
       "  <tbody>\n",
       "    <tr>\n",
       "      <td>0.11774</td>\n",
       "      <td>0.41166</td>\n",
       "      <td>0.4706</td>\n",
       "    </tr>\n",
       "  </tbody>\n",
       "</table>"
      ],
      "text/plain": [
       "<IPython.core.display.Markdown object>"
      ]
     },
     "metadata": {},
     "output_type": "display_data"
    },
    {
     "data": {
      "text/markdown": [
       "**Group means:**"
      ],
      "text/plain": [
       "<IPython.core.display.Markdown object>"
      ]
     },
     "metadata": {},
     "output_type": "display_data"
    },
    {
     "data": {
      "text/html": [
       "<div>\n",
       "<style scoped>\n",
       "    .dataframe tbody tr th:only-of-type {\n",
       "        vertical-align: middle;\n",
       "    }\n",
       "\n",
       "    .dataframe tbody tr th {\n",
       "        vertical-align: top;\n",
       "    }\n",
       "\n",
       "    .dataframe thead th {\n",
       "        text-align: right;\n",
       "    }\n",
       "</style>\n",
       "<table border=\"1\" class=\"dataframe\">\n",
       "  <thead>\n",
       "    <tr style=\"text-align: right;\">\n",
       "      <th></th>\n",
       "      <th>ln_loan_amnt</th>\n",
       "      <th>ln_total_pymnt</th>\n",
       "      <th>ln_out_prncp</th>\n",
       "      <th>ln_total_rec_int</th>\n",
       "      <th>ln_recoveries</th>\n",
       "      <th>int_rate</th>\n",
       "      <th>percent_bc_gt_75</th>\n",
       "      <th>bc_util</th>\n",
       "      <th>loan_period</th>\n",
       "      <th>term_36_months</th>\n",
       "    </tr>\n",
       "  </thead>\n",
       "  <tbody>\n",
       "    <tr>\n",
       "      <td>Charged Off</td>\n",
       "      <td>0.129136</td>\n",
       "      <td>-0.243574</td>\n",
       "      <td>-0.820166</td>\n",
       "      <td>0.227055</td>\n",
       "      <td>2.159862</td>\n",
       "      <td>0.561770</td>\n",
       "      <td>0.251372</td>\n",
       "      <td>0.222359</td>\n",
       "      <td>-0.219018</td>\n",
       "      <td>-0.268152</td>\n",
       "    </tr>\n",
       "    <tr>\n",
       "      <td>Current</td>\n",
       "      <td>0.053374</td>\n",
       "      <td>-0.506098</td>\n",
       "      <td>1.172171</td>\n",
       "      <td>-0.030547</td>\n",
       "      <td>-0.288240</td>\n",
       "      <td>-0.070655</td>\n",
       "      <td>-0.118313</td>\n",
       "      <td>-0.116475</td>\n",
       "      <td>-0.141622</td>\n",
       "      <td>-0.138569</td>\n",
       "    </tr>\n",
       "    <tr>\n",
       "      <td>Fully Paid</td>\n",
       "      <td>-0.078998</td>\n",
       "      <td>0.503653</td>\n",
       "      <td>-0.820166</td>\n",
       "      <td>-0.030086</td>\n",
       "      <td>-0.288240</td>\n",
       "      <td>-0.078744</td>\n",
       "      <td>0.040604</td>\n",
       "      <td>0.046255</td>\n",
       "      <td>0.178682</td>\n",
       "      <td>0.188304</td>\n",
       "    </tr>\n",
       "  </tbody>\n",
       "</table>\n",
       "</div>"
      ],
      "text/plain": [
       "             ln_loan_amnt  ln_total_pymnt  ln_out_prncp  ln_total_rec_int  \\\n",
       "Charged Off      0.129136       -0.243574     -0.820166          0.227055   \n",
       "Current          0.053374       -0.506098      1.172171         -0.030547   \n",
       "Fully Paid      -0.078998        0.503653     -0.820166         -0.030086   \n",
       "\n",
       "             ln_recoveries  int_rate  percent_bc_gt_75   bc_util  loan_period  \\\n",
       "Charged Off       2.159862  0.561770          0.251372  0.222359    -0.219018   \n",
       "Current          -0.288240 -0.070655         -0.118313 -0.116475    -0.141622   \n",
       "Fully Paid       -0.288240 -0.078744          0.040604  0.046255     0.178682   \n",
       "\n",
       "             term_36_months  \n",
       "Charged Off       -0.268152  \n",
       "Current           -0.138569  \n",
       "Fully Paid         0.188304  "
      ]
     },
     "metadata": {},
     "output_type": "display_data"
    }
   ],
   "source": [
    "qda = QuadraticDiscriminantAnalysis()\n",
    "qda.fit(X_train_scaled, y_train);\n",
    "printPriorProbabilities(qda.classes_, qda.priors_)\n",
    "printGroupMeans(qda.classes_, feature_names, qda.means_)\n"
   ]
  },
  {
   "cell_type": "markdown",
   "metadata": {},
   "source": [
    "The class means and priors are the same for LDA and QDA. The main difference would the covariance matrix.\n",
    "\n",
    "Let's evaluate the model on the test set."
   ]
  },
  {
   "cell_type": "code",
   "execution_count": 21,
   "metadata": {},
   "outputs": [
    {
     "data": {
      "text/markdown": [
       "**Confusion matrix:**"
      ],
      "text/plain": [
       "<IPython.core.display.Markdown object>"
      ]
     },
     "metadata": {},
     "output_type": "display_data"
    },
    {
     "data": {
      "text/html": [
       "<div>\n",
       "<style scoped>\n",
       "    .dataframe tbody tr th:only-of-type {\n",
       "        vertical-align: middle;\n",
       "    }\n",
       "\n",
       "    .dataframe tbody tr th {\n",
       "        vertical-align: top;\n",
       "    }\n",
       "\n",
       "    .dataframe thead th {\n",
       "        text-align: right;\n",
       "    }\n",
       "</style>\n",
       "<table border=\"1\" class=\"dataframe\">\n",
       "  <thead>\n",
       "    <tr style=\"text-align: right;\">\n",
       "      <th>Actual</th>\n",
       "      <th>Charged Off</th>\n",
       "      <th>Current</th>\n",
       "      <th>Fully Paid</th>\n",
       "      <th>All</th>\n",
       "    </tr>\n",
       "    <tr>\n",
       "      <th>Predicted</th>\n",
       "      <th></th>\n",
       "      <th></th>\n",
       "      <th></th>\n",
       "      <th></th>\n",
       "    </tr>\n",
       "  </thead>\n",
       "  <tbody>\n",
       "    <tr>\n",
       "      <td>Charged Off</td>\n",
       "      <td>4200</td>\n",
       "      <td>0</td>\n",
       "      <td>52</td>\n",
       "      <td>4252</td>\n",
       "    </tr>\n",
       "    <tr>\n",
       "      <td>Current</td>\n",
       "      <td>0</td>\n",
       "      <td>14728</td>\n",
       "      <td>0</td>\n",
       "      <td>14728</td>\n",
       "    </tr>\n",
       "    <tr>\n",
       "      <td>Fully Paid</td>\n",
       "      <td>38</td>\n",
       "      <td>94</td>\n",
       "      <td>16892</td>\n",
       "      <td>17024</td>\n",
       "    </tr>\n",
       "    <tr>\n",
       "      <td>All</td>\n",
       "      <td>4238</td>\n",
       "      <td>14822</td>\n",
       "      <td>16944</td>\n",
       "      <td>36004</td>\n",
       "    </tr>\n",
       "  </tbody>\n",
       "</table>\n",
       "</div>"
      ],
      "text/plain": [
       "Actual       Charged Off  Current  Fully Paid    All\n",
       "Predicted                                           \n",
       "Charged Off         4200        0          52   4252\n",
       "Current                0    14728           0  14728\n",
       "Fully Paid            38       94       16892  17024\n",
       "All                 4238    14822       16944  36004"
      ]
     },
     "metadata": {},
     "output_type": "display_data"
    },
    {
     "data": {
      "text/markdown": [
       "**Classification report:**"
      ],
      "text/plain": [
       "<IPython.core.display.Markdown object>"
      ]
     },
     "metadata": {},
     "output_type": "display_data"
    },
    {
     "name": "stdout",
     "output_type": "stream",
     "text": [
      "              precision    recall  f1-score   support\n",
      "\n",
      " Charged Off       0.99      0.99      0.99      4238\n",
      "     Current       1.00      0.99      1.00     14822\n",
      "  Fully Paid       0.99      1.00      0.99     16944\n",
      "\n",
      "    accuracy                           0.99     36004\n",
      "   macro avg       0.99      0.99      0.99     36004\n",
      "weighted avg       0.99      0.99      0.99     36004\n",
      "\n"
     ]
    },
    {
     "data": {
      "text/markdown": [
       "**Accuarcy: 0.9949**"
      ],
      "text/plain": [
       "<IPython.core.display.Markdown object>"
      ]
     },
     "metadata": {},
     "output_type": "display_data"
    }
   ],
   "source": [
    "model_performance(qda,X_test_scaled,y_test)"
   ]
  },
  {
   "cell_type": "markdown",
   "metadata": {},
   "source": [
    "QDA has almost the same perfect performance as for logistic regression. This performance is superior to LDA."
   ]
  },
  {
   "cell_type": "markdown",
   "metadata": {},
   "source": [
    "## [5] k-Nearest Neighbors\n",
    "\n",
    "K-Nearest Neighbors classifier is a non-parametric classifier wih no assumptions on the decision boundary. A class is assigned according to dominant class of the k nearest neighbors. KNN uses a distance metric to find nearest neighbors, and the performance depends on the choice of this metric. It also requires the pairwise distances between all observations, so it would be relatively slow. Eventhough, it can offer powerful classification model, it gives very little understanding of the model.\n",
    "\n",
    "To choose the number of nearest neighbors $k$, we use a 10-fold cross-validation on the training set. The accuracy is chosen as the metric to evaluate the models. We create a pipeline to scale the features before applying KNN.\n",
    "\n",
    "sklearn \"[KNeighborsClassifier](https://scikit-learn.org/stable/modules/generated/sklearn.neighbors.KNeighborsClassifier.html)\" is used to fit KNN model."
   ]
  },
  {
   "cell_type": "code",
   "execution_count": 22,
   "metadata": {
    "scrolled": false
   },
   "outputs": [],
   "source": [
    "knn = KNeighborsClassifier(n_jobs = -1)\n",
    "neighbors = np.linspace(1, 30, 30).astype(int)\n",
    "params = {'knn__n_neighbors': neighbors}\n",
    "pipe = Pipeline(steps=[('scale', scaler), ('knn', knn)])\n",
    "knn_clf = GridSearchCV(pipe, params, cv=10,scoring='accuracy')\n",
    "knn_clf.fit(X_train, y_train);"
   ]
  },
  {
   "cell_type": "markdown",
   "metadata": {},
   "source": [
    "Let's find the best $k$"
   ]
  },
  {
   "cell_type": "code",
   "execution_count": 23,
   "metadata": {},
   "outputs": [
    {
     "data": {
      "image/png": "[encoded data removed]",
      "text/plain": [
       "<Figure size 504x432 with 1 Axes>"
      ]
     },
     "metadata": {
      "needs_background": "light"
     },
     "output_type": "display_data"
    }
   ],
   "source": [
    "plt.errorbar(neighbors,knn_clf.cv_results_['mean_test_score'],knn_clf.cv_results_['std_test_score'])\n",
    "plt.xlabel('No. Neighbors')\n",
    "plt.ylabel('Accuracy');"
   ]
  },
  {
   "cell_type": "markdown",
   "metadata": {},
   "source": [
    "Most values of $k$ gives a relatively good performance with accuracy over 97%. However, the accuracy peaks for $k=4$. We can then use it to fit our best KNN classifier using the full training set."
   ]
  },
  {
   "cell_type": "code",
   "execution_count": 29,
   "metadata": {},
   "outputs": [
    {
     "name": "stdout",
     "output_type": "stream",
     "text": [
      "Best No. Neighbors:  {'knn__n_neighbors': 4}\n",
      "Best KNN Accuracy:  0.9845290670221926\n"
     ]
    }
   ],
   "source": [
    "print(\"Best No. Neighbors: \", knn_clf.best_params_)\n",
    "print(\"Best KNN Accuracy: \", knn_clf.best_score_)\n",
    "knn_best = KNeighborsClassifier(n_neighbors =  knn_clf.best_params_['knn__n_neighbors'])\n",
    "knn_best.fit(X_train_scaled,y_train);"
   ]
  },
  {
   "cell_type": "markdown",
   "metadata": {},
   "source": [
    "Let's evaluate the model performance on the test set."
   ]
  },
  {
   "cell_type": "code",
   "execution_count": 25,
   "metadata": {
    "scrolled": false
   },
   "outputs": [
    {
     "data": {
      "text/markdown": [
       "**Confusion matrix:**"
      ],
      "text/plain": [
       "<IPython.core.display.Markdown object>"
      ]
     },
     "metadata": {},
     "output_type": "display_data"
    },
    {
     "data": {
      "text/html": [
       "<div>\n",
       "<style scoped>\n",
       "    .dataframe tbody tr th:only-of-type {\n",
       "        vertical-align: middle;\n",
       "    }\n",
       "\n",
       "    .dataframe tbody tr th {\n",
       "        vertical-align: top;\n",
       "    }\n",
       "\n",
       "    .dataframe thead th {\n",
       "        text-align: right;\n",
       "    }\n",
       "</style>\n",
       "<table border=\"1\" class=\"dataframe\">\n",
       "  <thead>\n",
       "    <tr style=\"text-align: right;\">\n",
       "      <th>Actual</th>\n",
       "      <th>Charged Off</th>\n",
       "      <th>Current</th>\n",
       "      <th>Fully Paid</th>\n",
       "      <th>All</th>\n",
       "    </tr>\n",
       "    <tr>\n",
       "      <th>Predicted</th>\n",
       "      <th></th>\n",
       "      <th></th>\n",
       "      <th></th>\n",
       "      <th></th>\n",
       "    </tr>\n",
       "  </thead>\n",
       "  <tbody>\n",
       "    <tr>\n",
       "      <td>Charged Off</td>\n",
       "      <td>3892</td>\n",
       "      <td>0</td>\n",
       "      <td>36</td>\n",
       "      <td>3928</td>\n",
       "    </tr>\n",
       "    <tr>\n",
       "      <td>Current</td>\n",
       "      <td>3</td>\n",
       "      <td>14694</td>\n",
       "      <td>9</td>\n",
       "      <td>14706</td>\n",
       "    </tr>\n",
       "    <tr>\n",
       "      <td>Fully Paid</td>\n",
       "      <td>343</td>\n",
       "      <td>128</td>\n",
       "      <td>16899</td>\n",
       "      <td>17370</td>\n",
       "    </tr>\n",
       "    <tr>\n",
       "      <td>All</td>\n",
       "      <td>4238</td>\n",
       "      <td>14822</td>\n",
       "      <td>16944</td>\n",
       "      <td>36004</td>\n",
       "    </tr>\n",
       "  </tbody>\n",
       "</table>\n",
       "</div>"
      ],
      "text/plain": [
       "Actual       Charged Off  Current  Fully Paid    All\n",
       "Predicted                                           \n",
       "Charged Off         3892        0          36   3928\n",
       "Current                3    14694           9  14706\n",
       "Fully Paid           343      128       16899  17370\n",
       "All                 4238    14822       16944  36004"
      ]
     },
     "metadata": {},
     "output_type": "display_data"
    },
    {
     "data": {
      "text/markdown": [
       "**Classification report:**"
      ],
      "text/plain": [
       "<IPython.core.display.Markdown object>"
      ]
     },
     "metadata": {},
     "output_type": "display_data"
    },
    {
     "name": "stdout",
     "output_type": "stream",
     "text": [
      "              precision    recall  f1-score   support\n",
      "\n",
      " Charged Off       0.99      0.92      0.95      4238\n",
      "     Current       1.00      0.99      1.00     14822\n",
      "  Fully Paid       0.97      1.00      0.98     16944\n",
      "\n",
      "    accuracy                           0.99     36004\n",
      "   macro avg       0.99      0.97      0.98     36004\n",
      "weighted avg       0.99      0.99      0.99     36004\n",
      "\n"
     ]
    },
    {
     "data": {
      "text/markdown": [
       "**Accuarcy: 0.9856**"
      ],
      "text/plain": [
       "<IPython.core.display.Markdown object>"
      ]
     },
     "metadata": {},
     "output_type": "display_data"
    }
   ],
   "source": [
    "model_performance(knn_best,X_test_scaled,y_test)"
   ]
  },
  {
   "cell_type": "markdown",
   "metadata": {},
   "source": [
    "The performance is an improvement over linear regression, and LDA. However, it is not as good as logistic regression. This might confirm our guess that the decision boundaries might be linear; thus, logit has a better performance. "
   ]
  },
  {
   "cell_type": "markdown",
   "metadata": {},
   "source": [
    "## [6] Compare Models"
   ]
  },
  {
   "cell_type": "markdown",
   "metadata": {},
   "source": [
    "Finally, we compare all the models based on thier accuracy and the execution time. We run the models using different train/test splits. We then scale the data, fit the models, and estimate the accuracy and run time."
   ]
  },
  {
   "cell_type": "code",
   "execution_count": 26,
   "metadata": {},
   "outputs": [],
   "source": [
    "warnings.filterwarnings('ignore')\n",
    "\n",
    "models = [logit_model, lda, qda, knn_best]\n",
    "model_accuracy = []\n",
    "exec_time = []\n",
    "for i in range(50):\n",
    "    X_train, X_test, y_train, y_test = train_test_split(X, y, test_size=0.5, stratify = y)\n",
    "    \n",
    "    X_train_scaled = scaler.fit_transform(X_train)\n",
    "    X_test_scaled = scaler.transform(X_test)\n",
    "    \n",
    "    y_train_one_hot = pd.get_dummies(y_train)\n",
    "    start_time = time.time()\n",
    "    y_pred,_ = multi_linear_classifier(X_train_scaled,X_test_scaled,y_train_one_hot,classes)\n",
    "    time_linear = time.time() - start_time\n",
    "    accuracy_linear = np.round(np.mean(y_test == y_pred),4)\n",
    "    exec_time.append(time_linear)\n",
    "    model_accuracy.append(accuracy_linear)\n",
    "    \n",
    "    for model in models:\n",
    "        start_time = time.time()\n",
    "        model.fit(X_train_scaled,y_train);\n",
    "        time_ = time.time() - start_time\n",
    "        exec_time.append(time_)\n",
    "        \n",
    "        y_pred = model.predict(X_test_scaled)\n",
    "        accuracy_ = np.round(np.mean(y_test == y_pred),4)\n",
    "        model_accuracy.append(accuracy_)"
   ]
  },
  {
   "cell_type": "markdown",
   "metadata": {},
   "source": [
    "### Models Accuracy"
   ]
  },
  {
   "cell_type": "code",
   "execution_count": 27,
   "metadata": {},
   "outputs": [
    {
     "data": {
      "text/markdown": [
       "**Model Accuracy:**"
      ],
      "text/plain": [
       "<IPython.core.display.Markdown object>"
      ]
     },
     "metadata": {},
     "output_type": "display_data"
    },
    {
     "data": {
      "text/html": [
       "<div>\n",
       "<style scoped>\n",
       "    .dataframe tbody tr th:only-of-type {\n",
       "        vertical-align: middle;\n",
       "    }\n",
       "\n",
       "    .dataframe tbody tr th {\n",
       "        vertical-align: top;\n",
       "    }\n",
       "\n",
       "    .dataframe thead th {\n",
       "        text-align: right;\n",
       "    }\n",
       "</style>\n",
       "<table border=\"1\" class=\"dataframe\">\n",
       "  <thead>\n",
       "    <tr style=\"text-align: right;\">\n",
       "      <th></th>\n",
       "      <th>Linear</th>\n",
       "      <th>Logistic</th>\n",
       "      <th>LDA</th>\n",
       "      <th>QDA</th>\n",
       "      <th>KNN</th>\n",
       "    </tr>\n",
       "  </thead>\n",
       "  <tbody>\n",
       "    <tr>\n",
       "      <td>count</td>\n",
       "      <td>50.000000</td>\n",
       "      <td>50.000000</td>\n",
       "      <td>50.000000</td>\n",
       "      <td>50.000000</td>\n",
       "      <td>50.000000</td>\n",
       "    </tr>\n",
       "    <tr>\n",
       "      <td>mean</td>\n",
       "      <td>0.958122</td>\n",
       "      <td>0.994548</td>\n",
       "      <td>0.962288</td>\n",
       "      <td>0.834886</td>\n",
       "      <td>0.985392</td>\n",
       "    </tr>\n",
       "    <tr>\n",
       "      <td>std</td>\n",
       "      <td>0.000867</td>\n",
       "      <td>0.000374</td>\n",
       "      <td>0.000955</td>\n",
       "      <td>0.166787</td>\n",
       "      <td>0.000599</td>\n",
       "    </tr>\n",
       "    <tr>\n",
       "      <td>min</td>\n",
       "      <td>0.955900</td>\n",
       "      <td>0.993600</td>\n",
       "      <td>0.959700</td>\n",
       "      <td>0.528900</td>\n",
       "      <td>0.983800</td>\n",
       "    </tr>\n",
       "    <tr>\n",
       "      <td>25%</td>\n",
       "      <td>0.957500</td>\n",
       "      <td>0.994300</td>\n",
       "      <td>0.961600</td>\n",
       "      <td>0.700900</td>\n",
       "      <td>0.985025</td>\n",
       "    </tr>\n",
       "    <tr>\n",
       "      <td>50%</td>\n",
       "      <td>0.958050</td>\n",
       "      <td>0.994500</td>\n",
       "      <td>0.962200</td>\n",
       "      <td>0.893550</td>\n",
       "      <td>0.985350</td>\n",
       "    </tr>\n",
       "    <tr>\n",
       "      <td>75%</td>\n",
       "      <td>0.958600</td>\n",
       "      <td>0.994875</td>\n",
       "      <td>0.962875</td>\n",
       "      <td>0.993950</td>\n",
       "      <td>0.985700</td>\n",
       "    </tr>\n",
       "    <tr>\n",
       "      <td>max</td>\n",
       "      <td>0.960200</td>\n",
       "      <td>0.995300</td>\n",
       "      <td>0.964600</td>\n",
       "      <td>0.996100</td>\n",
       "      <td>0.987000</td>\n",
       "    </tr>\n",
       "  </tbody>\n",
       "</table>\n",
       "</div>"
      ],
      "text/plain": [
       "          Linear   Logistic        LDA        QDA        KNN\n",
       "count  50.000000  50.000000  50.000000  50.000000  50.000000\n",
       "mean    0.958122   0.994548   0.962288   0.834886   0.985392\n",
       "std     0.000867   0.000374   0.000955   0.166787   0.000599\n",
       "min     0.955900   0.993600   0.959700   0.528900   0.983800\n",
       "25%     0.957500   0.994300   0.961600   0.700900   0.985025\n",
       "50%     0.958050   0.994500   0.962200   0.893550   0.985350\n",
       "75%     0.958600   0.994875   0.962875   0.993950   0.985700\n",
       "max     0.960200   0.995300   0.964600   0.996100   0.987000"
      ]
     },
     "metadata": {},
     "output_type": "display_data"
    },
    {
     "data": {
      "image/png": "[encoded data removed]",
      "text/plain": [
       "<Figure size 504x432 with 1 Axes>"
      ]
     },
     "metadata": {
      "needs_background": "light"
     },
     "output_type": "display_data"
    }
   ],
   "source": [
    "model_names = [\"Linear\", \"Logistic\", \"LDA\", \"QDA\", \"KNN\"]\n",
    "\n",
    "accuracy_df = pd.DataFrame(np.array(model_accuracy).reshape((-1,5)), columns= model_names)\n",
    "displaybd(\"Model Accuracy:\")\n",
    "display(accuracy_df.describe())\n",
    "sns.boxplot(data = accuracy_df)\n",
    "plt.xlabel(\"Classification Model\");\n",
    "plt.ylabel(\"Accuracy\");\n",
    "plt.title(\"Model Accuracy\");"
   ]
  },
  {
   "cell_type": "markdown",
   "metadata": {},
   "source": [
    "All models except for QDA are stable, and has high accuracy. Logistic regression has the highest accuracy and linear regression might be the lowest one.\n",
    "\n",
    "QDA, however, is highly unstable, and is highly dependant on the train/test split. QDA accuracy can sometimes exceed the logistic regression accuracy, and other times would be as low as 52%. The reason for this is unknown to me yet. One reason might be the variables collinearlity; however, VIFs were estimated to be less than 10 for all features. "
   ]
  },
  {
   "cell_type": "code",
   "execution_count": 28,
   "metadata": {},
   "outputs": [
    {
     "data": {
      "text/markdown": [
       "**Execution Time:**"
      ],
      "text/plain": [
       "<IPython.core.display.Markdown object>"
      ]
     },
     "metadata": {},
     "output_type": "display_data"
    },
    {
     "data": {
      "text/html": [
       "<div>\n",
       "<style scoped>\n",
       "    .dataframe tbody tr th:only-of-type {\n",
       "        vertical-align: middle;\n",
       "    }\n",
       "\n",
       "    .dataframe tbody tr th {\n",
       "        vertical-align: top;\n",
       "    }\n",
       "\n",
       "    .dataframe thead th {\n",
       "        text-align: right;\n",
       "    }\n",
       "</style>\n",
       "<table border=\"1\" class=\"dataframe\">\n",
       "  <thead>\n",
       "    <tr style=\"text-align: right;\">\n",
       "      <th></th>\n",
       "      <th>Linear</th>\n",
       "      <th>Logistic</th>\n",
       "      <th>LDA</th>\n",
       "      <th>QDA</th>\n",
       "      <th>KNN</th>\n",
       "    </tr>\n",
       "  </thead>\n",
       "  <tbody>\n",
       "    <tr>\n",
       "      <td>count</td>\n",
       "      <td>50.000000</td>\n",
       "      <td>50.000000</td>\n",
       "      <td>50.000000</td>\n",
       "      <td>50.000000</td>\n",
       "      <td>50.000000</td>\n",
       "    </tr>\n",
       "    <tr>\n",
       "      <td>mean</td>\n",
       "      <td>0.041573</td>\n",
       "      <td>2.240412</td>\n",
       "      <td>0.321544</td>\n",
       "      <td>0.147609</td>\n",
       "      <td>0.469026</td>\n",
       "    </tr>\n",
       "    <tr>\n",
       "      <td>std</td>\n",
       "      <td>0.006218</td>\n",
       "      <td>0.181665</td>\n",
       "      <td>0.026166</td>\n",
       "      <td>0.022395</td>\n",
       "      <td>0.174142</td>\n",
       "    </tr>\n",
       "    <tr>\n",
       "      <td>min</td>\n",
       "      <td>0.031975</td>\n",
       "      <td>1.966686</td>\n",
       "      <td>0.271820</td>\n",
       "      <td>0.119880</td>\n",
       "      <td>0.271861</td>\n",
       "    </tr>\n",
       "    <tr>\n",
       "      <td>25%</td>\n",
       "      <td>0.039937</td>\n",
       "      <td>2.128609</td>\n",
       "      <td>0.303835</td>\n",
       "      <td>0.127917</td>\n",
       "      <td>0.353805</td>\n",
       "    </tr>\n",
       "    <tr>\n",
       "      <td>50%</td>\n",
       "      <td>0.039974</td>\n",
       "      <td>2.214498</td>\n",
       "      <td>0.311796</td>\n",
       "      <td>0.143903</td>\n",
       "      <td>0.430243</td>\n",
       "    </tr>\n",
       "    <tr>\n",
       "      <td>75%</td>\n",
       "      <td>0.047967</td>\n",
       "      <td>2.321165</td>\n",
       "      <td>0.327788</td>\n",
       "      <td>0.159892</td>\n",
       "      <td>0.488086</td>\n",
       "    </tr>\n",
       "    <tr>\n",
       "      <td>max</td>\n",
       "      <td>0.055969</td>\n",
       "      <td>2.854001</td>\n",
       "      <td>0.411795</td>\n",
       "      <td>0.207865</td>\n",
       "      <td>0.935372</td>\n",
       "    </tr>\n",
       "  </tbody>\n",
       "</table>\n",
       "</div>"
      ],
      "text/plain": [
       "          Linear   Logistic        LDA        QDA        KNN\n",
       "count  50.000000  50.000000  50.000000  50.000000  50.000000\n",
       "mean    0.041573   2.240412   0.321544   0.147609   0.469026\n",
       "std     0.006218   0.181665   0.026166   0.022395   0.174142\n",
       "min     0.031975   1.966686   0.271820   0.119880   0.271861\n",
       "25%     0.039937   2.128609   0.303835   0.127917   0.353805\n",
       "50%     0.039974   2.214498   0.311796   0.143903   0.430243\n",
       "75%     0.047967   2.321165   0.327788   0.159892   0.488086\n",
       "max     0.055969   2.854001   0.411795   0.207865   0.935372"
      ]
     },
     "metadata": {},
     "output_type": "display_data"
    },
    {
     "data": {
      "image/png": "[encoded data removed]",
      "text/plain": [
       "<Figure size 504x432 with 1 Axes>"
      ]
     },
     "metadata": {
      "needs_background": "light"
     },
     "output_type": "display_data"
    }
   ],
   "source": [
    "time_df = pd.DataFrame(np.array(exec_time).reshape((-1,5)), columns= model_names)\n",
    "displaybd(\"Execution Time:\")\n",
    "display(time_df.describe())\n",
    "plt.figure()\n",
    "sns.boxplot(data = time_df)\n",
    "plt.xlabel(\"Classification Model\");\n",
    "plt.ylabel(\"Execution Time\");\n",
    "plt.title(\"Model Execution Time\");"
   ]
  },
  {
   "cell_type": "markdown",
   "metadata": {},
   "source": [
    "Linear regression executes the fastest. Logistic regression takes long time to fit. Maybe, the choice of the solver \"newton-cg\" is not appropiate, so it takes time to converage. It was expected that QDA would require more time to fit the model compared to LDA, as it fits more paramaters. This might point so problem with thr QDA implementation. As expected, KNN requires the longest time to execute.  "
   ]
  }
 ],
 "metadata": {
  "colab": {
   "collapsed_sections": [],
   "name": "tutorial04.ipynb",
   "provenance": []
  },
  "kernelspec": {
   "display_name": "Python 3",
   "language": "python",
   "name": "python3"
  },
  "language_info": {
   "codemirror_mode": {
    "name": "ipython",
    "version": 3
   },
   "file_extension": ".py",
   "mimetype": "text/x-python",
   "name": "python",
   "nbconvert_exporter": "python",
   "pygments_lexer": "ipython3",
   "version": "3.7.4"
  }
 },
 "nbformat": 4,
 "nbformat_minor": 1
}
