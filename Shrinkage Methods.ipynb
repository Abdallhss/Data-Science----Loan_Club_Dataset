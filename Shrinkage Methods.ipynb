{
 "cells": [
  {
   "cell_type": "markdown",
   "metadata": {
    "colab_type": "text",
    "id": "-QBol4Cr3KNk"
   },
   "source": [
    "# Shrinkage Methods (Linear Regression -- Loan Club Dataset)\n",
    "\n",
    "As a expansion of subset selection methods, we introduce shrinkage methods and dimensionaltiy reduction. These methods are appropriate for datasets with large number of features where manual exploration become infeasible.\n",
    "\n",
    "Unlike subset selection methods, shrinkage methods can offer a continous selection rather than discrete selection (take or leave) of the features. This would result in a better models. Shrinkage methods can also reduce time complexity required for exploring all possible subsets in case of best subset selection.\n",
    "\n",
    "We also explore PCA as a dimensionality reduction technique that can extract only principal components from the data to develop a better linear regression models.\n",
    "\n",
    "Through this notebook, we also explore concepts of scaling, k-fold cross validation, and pipe lines."
   ]
  },
  {
   "cell_type": "markdown",
   "metadata": {},
   "source": [
    "### Load libraries:"
   ]
  },
  {
   "cell_type": "code",
   "execution_count": 1,
   "metadata": {
    "colab": {},
    "colab_type": "code",
    "id": "yAx7JvaK3KNl"
   },
   "outputs": [],
   "source": [
    "import itertools\n",
    "import pandas as pd\n",
    "import numpy as np\n",
    "import copy\n",
    "import time\n",
    "\n",
    "import statsmodels.api as sm\n",
    "from sklearn.linear_model import LinearRegression, Ridge, Lasso\n",
    "from sklearn.decomposition import PCA\n",
    "from sklearn.cross_decomposition import PLSRegression\n",
    "from sklearn.model_selection import train_test_split, GridSearchCV, KFold\n",
    "from sklearn.pipeline import Pipeline\n",
    "from sklearn.compose import ColumnTransformer\n",
    "from sklearn.impute import SimpleImputer\n",
    "from sklearn.preprocessing import StandardScaler\n",
    "from sklearn.metrics import mean_squared_error, make_scorer\n",
    "\n",
    "import matplotlib.pyplot as plt\n",
    "import seaborn as sns\n",
    "from IPython.display import Markdown, display\n",
    "\n",
    "# Reset all styles to the default:\n",
    "plt.rcParams.update(plt.rcParamsDefault)\n",
    "# Then make graphs inline:\n",
    "%matplotlib inline\n",
    "\n",
    "def displaybd(text):\n",
    "    display(Markdown(\"**\" + text + \"**\"))"
   ]
  },
  {
   "cell_type": "code",
   "execution_count": 2,
   "metadata": {
    "colab": {},
    "colab_type": "code",
    "id": "A4mTSCCB3KNo",
    "scrolled": false
   },
   "outputs": [],
   "source": [
    "# Set custom style settings:\n",
    "# NB: We need to separate \"matplotlib inline\" call and these settings into different\n",
    "# cells, otherwise the parameters are not set. This is a bug somewhere in Jupyter\n",
    "plt.rcParams['figure.figsize'] = (7, 6)\n",
    "plt.rcParams['font.size'] = 24\n",
    "plt.rcParams['legend.fontsize'] = 'large'\n",
    "plt.rcParams['figure.titlesize'] = 'large'\n",
    "plt.rcParams['lines.markersize'] = 10"
   ]
  },
  {
   "cell_type": "markdown",
   "metadata": {},
   "source": [
    "## 1. Data:\n",
    "\n",
    "### Get and Clean the Data\n",
    "\n",
    "In addition to the features used in the previous notebook, we include all other numerical features in the dataset. A log transformation was performed on these features. This can show the power of shrinkage methods in determining the most signifincant parameters  "
   ]
  },
  {
   "cell_type": "code",
   "execution_count": 3,
   "metadata": {},
   "outputs": [
    {
     "data": {
      "text/html": [
       "<div>\n",
       "<style scoped>\n",
       "    .dataframe tbody tr th:only-of-type {\n",
       "        vertical-align: middle;\n",
       "    }\n",
       "\n",
       "    .dataframe tbody tr th {\n",
       "        vertical-align: top;\n",
       "    }\n",
       "\n",
       "    .dataframe thead th {\n",
       "        text-align: right;\n",
       "    }\n",
       "</style>\n",
       "<table border=\"1\" class=\"dataframe\">\n",
       "  <thead>\n",
       "    <tr style=\"text-align: right;\">\n",
       "      <th></th>\n",
       "      <th>ln_loan_amnt</th>\n",
       "      <th>ln_annual_inc</th>\n",
       "      <th>ln_dti</th>\n",
       "      <th>ln_delinq_2yrs</th>\n",
       "      <th>ln_inq_last_6mths</th>\n",
       "      <th>ln_open_acc</th>\n",
       "      <th>ln_pub_rec</th>\n",
       "      <th>ln_revol_bal</th>\n",
       "      <th>ln_revol_util</th>\n",
       "      <th>ln_total_acc</th>\n",
       "      <th>...</th>\n",
       "      <th>ln_pub_rec_bankruptcies</th>\n",
       "      <th>ln_tax_liens</th>\n",
       "      <th>ln_total_bal_ex_mort</th>\n",
       "      <th>ln_total_bc_limit</th>\n",
       "      <th>ln_total_il_high_credit_limit</th>\n",
       "      <th>int_rate</th>\n",
       "      <th>percent_bc_gt_75</th>\n",
       "      <th>bc_util</th>\n",
       "      <th>loan_period</th>\n",
       "      <th>term_ 36 months</th>\n",
       "    </tr>\n",
       "  </thead>\n",
       "  <tbody>\n",
       "    <tr>\n",
       "      <td>0</td>\n",
       "      <td>8.854054</td>\n",
       "      <td>11.775311</td>\n",
       "      <td>2.508646</td>\n",
       "      <td>1.000000</td>\n",
       "      <td>1.743668</td>\n",
       "      <td>2.461150</td>\n",
       "      <td>1.000000</td>\n",
       "      <td>7.217970</td>\n",
       "      <td>3.456893</td>\n",
       "      <td>3.357534</td>\n",
       "      <td>...</td>\n",
       "      <td>1.000000</td>\n",
       "      <td>1.0</td>\n",
       "      <td>10.950240</td>\n",
       "      <td>8.007273</td>\n",
       "      <td>11.699527</td>\n",
       "      <td>14.33</td>\n",
       "      <td>50.0</td>\n",
       "      <td>45.4</td>\n",
       "      <td>911.0</td>\n",
       "      <td>1</td>\n",
       "    </tr>\n",
       "    <tr>\n",
       "      <td>1</td>\n",
       "      <td>10.126740</td>\n",
       "      <td>11.289816</td>\n",
       "      <td>3.172131</td>\n",
       "      <td>1.000000</td>\n",
       "      <td>1.000000</td>\n",
       "      <td>3.078154</td>\n",
       "      <td>1.313262</td>\n",
       "      <td>9.875794</td>\n",
       "      <td>3.763947</td>\n",
       "      <td>3.456893</td>\n",
       "      <td>...</td>\n",
       "      <td>1.313262</td>\n",
       "      <td>1.0</td>\n",
       "      <td>10.469816</td>\n",
       "      <td>10.122732</td>\n",
       "      <td>10.440528</td>\n",
       "      <td>11.49</td>\n",
       "      <td>42.9</td>\n",
       "      <td>55.4</td>\n",
       "      <td>577.0</td>\n",
       "      <td>0</td>\n",
       "    </tr>\n",
       "    <tr>\n",
       "      <td>2</td>\n",
       "      <td>8.517737</td>\n",
       "      <td>11.289816</td>\n",
       "      <td>2.890832</td>\n",
       "      <td>1.313262</td>\n",
       "      <td>1.000000</td>\n",
       "      <td>2.618729</td>\n",
       "      <td>1.000000</td>\n",
       "      <td>8.746035</td>\n",
       "      <td>3.567228</td>\n",
       "      <td>3.547266</td>\n",
       "      <td>...</td>\n",
       "      <td>1.000000</td>\n",
       "      <td>1.0</td>\n",
       "      <td>10.398785</td>\n",
       "      <td>9.648771</td>\n",
       "      <td>10.532755</td>\n",
       "      <td>5.32</td>\n",
       "      <td>0.0</td>\n",
       "      <td>32.9</td>\n",
       "      <td>1066.0</td>\n",
       "      <td>1</td>\n",
       "    </tr>\n",
       "    <tr>\n",
       "      <td>3</td>\n",
       "      <td>10.463181</td>\n",
       "      <td>11.813050</td>\n",
       "      <td>3.208352</td>\n",
       "      <td>1.000000</td>\n",
       "      <td>1.000000</td>\n",
       "      <td>2.816503</td>\n",
       "      <td>1.313262</td>\n",
       "      <td>9.428409</td>\n",
       "      <td>3.553011</td>\n",
       "      <td>3.487934</td>\n",
       "      <td>...</td>\n",
       "      <td>1.000000</td>\n",
       "      <td>1.0</td>\n",
       "      <td>11.162030</td>\n",
       "      <td>10.529499</td>\n",
       "      <td>11.292300</td>\n",
       "      <td>14.31</td>\n",
       "      <td>16.7</td>\n",
       "      <td>33.2</td>\n",
       "      <td>821.0</td>\n",
       "      <td>1</td>\n",
       "    </tr>\n",
       "    <tr>\n",
       "      <td>4</td>\n",
       "      <td>8.699968</td>\n",
       "      <td>10.645490</td>\n",
       "      <td>3.229946</td>\n",
       "      <td>1.000000</td>\n",
       "      <td>1.000000</td>\n",
       "      <td>2.461150</td>\n",
       "      <td>1.000000</td>\n",
       "      <td>8.790378</td>\n",
       "      <td>4.206456</td>\n",
       "      <td>3.424858</td>\n",
       "      <td>...</td>\n",
       "      <td>1.000000</td>\n",
       "      <td>1.0</td>\n",
       "      <td>11.053659</td>\n",
       "      <td>7.315031</td>\n",
       "      <td>11.073951</td>\n",
       "      <td>13.66</td>\n",
       "      <td>100.0</td>\n",
       "      <td>101.8</td>\n",
       "      <td>1126.0</td>\n",
       "      <td>1</td>\n",
       "    </tr>\n",
       "    <tr>\n",
       "      <td>5</td>\n",
       "      <td>10.126740</td>\n",
       "      <td>12.072557</td>\n",
       "      <td>2.952735</td>\n",
       "      <td>1.551445</td>\n",
       "      <td>1.000000</td>\n",
       "      <td>3.078154</td>\n",
       "      <td>1.000000</td>\n",
       "      <td>7.846480</td>\n",
       "      <td>2.435216</td>\n",
       "      <td>3.777766</td>\n",
       "      <td>...</td>\n",
       "      <td>1.000000</td>\n",
       "      <td>1.0</td>\n",
       "      <td>11.120530</td>\n",
       "      <td>8.779976</td>\n",
       "      <td>11.431604</td>\n",
       "      <td>11.55</td>\n",
       "      <td>0.0</td>\n",
       "      <td>0.0</td>\n",
       "      <td>153.0</td>\n",
       "      <td>1</td>\n",
       "    </tr>\n",
       "    <tr>\n",
       "      <td>6</td>\n",
       "      <td>9.998921</td>\n",
       "      <td>11.626278</td>\n",
       "      <td>2.486429</td>\n",
       "      <td>1.000000</td>\n",
       "      <td>1.000000</td>\n",
       "      <td>3.207543</td>\n",
       "      <td>1.000000</td>\n",
       "      <td>10.343892</td>\n",
       "      <td>3.941937</td>\n",
       "      <td>3.656312</td>\n",
       "      <td>...</td>\n",
       "      <td>1.000000</td>\n",
       "      <td>1.0</td>\n",
       "      <td>10.343892</td>\n",
       "      <td>10.341830</td>\n",
       "      <td>1.000000</td>\n",
       "      <td>8.18</td>\n",
       "      <td>50.0</td>\n",
       "      <td>64.7</td>\n",
       "      <td>519.0</td>\n",
       "      <td>0</td>\n",
       "    </tr>\n",
       "    <tr>\n",
       "      <td>7</td>\n",
       "      <td>9.451537</td>\n",
       "      <td>10.534832</td>\n",
       "      <td>3.005102</td>\n",
       "      <td>1.000000</td>\n",
       "      <td>1.000000</td>\n",
       "      <td>2.543040</td>\n",
       "      <td>1.000000</td>\n",
       "      <td>9.477288</td>\n",
       "      <td>4.048620</td>\n",
       "      <td>3.630145</td>\n",
       "      <td>...</td>\n",
       "      <td>1.000000</td>\n",
       "      <td>1.0</td>\n",
       "      <td>10.659626</td>\n",
       "      <td>8.294729</td>\n",
       "      <td>10.275938</td>\n",
       "      <td>14.49</td>\n",
       "      <td>0.0</td>\n",
       "      <td>0.0</td>\n",
       "      <td>212.0</td>\n",
       "      <td>1</td>\n",
       "    </tr>\n",
       "    <tr>\n",
       "      <td>8</td>\n",
       "      <td>10.463181</td>\n",
       "      <td>11.849417</td>\n",
       "      <td>3.231527</td>\n",
       "      <td>2.371951</td>\n",
       "      <td>1.313262</td>\n",
       "      <td>2.754824</td>\n",
       "      <td>1.313262</td>\n",
       "      <td>9.073801</td>\n",
       "      <td>3.844136</td>\n",
       "      <td>4.038097</td>\n",
       "      <td>...</td>\n",
       "      <td>1.000000</td>\n",
       "      <td>1.0</td>\n",
       "      <td>12.283976</td>\n",
       "      <td>9.510646</td>\n",
       "      <td>12.263250</td>\n",
       "      <td>16.29</td>\n",
       "      <td>25.0</td>\n",
       "      <td>64.6</td>\n",
       "      <td>1127.0</td>\n",
       "      <td>1</td>\n",
       "    </tr>\n",
       "    <tr>\n",
       "      <td>9</td>\n",
       "      <td>9.433701</td>\n",
       "      <td>10.126740</td>\n",
       "      <td>3.572297</td>\n",
       "      <td>1.000000</td>\n",
       "      <td>1.000000</td>\n",
       "      <td>2.689090</td>\n",
       "      <td>1.000000</td>\n",
       "      <td>9.323108</td>\n",
       "      <td>3.976279</td>\n",
       "      <td>3.207543</td>\n",
       "      <td>...</td>\n",
       "      <td>1.000000</td>\n",
       "      <td>1.0</td>\n",
       "      <td>9.353897</td>\n",
       "      <td>9.554123</td>\n",
       "      <td>9.681139</td>\n",
       "      <td>10.99</td>\n",
       "      <td>20.0</td>\n",
       "      <td>53.5</td>\n",
       "      <td>943.0</td>\n",
       "      <td>1</td>\n",
       "    </tr>\n",
       "  </tbody>\n",
       "</table>\n",
       "<p>10 rows × 52 columns</p>\n",
       "</div>"
      ],
      "text/plain": [
       "   ln_loan_amnt  ln_annual_inc    ln_dti  ln_delinq_2yrs  ln_inq_last_6mths  \\\n",
       "0      8.854054      11.775311  2.508646        1.000000           1.743668   \n",
       "1     10.126740      11.289816  3.172131        1.000000           1.000000   \n",
       "2      8.517737      11.289816  2.890832        1.313262           1.000000   \n",
       "3     10.463181      11.813050  3.208352        1.000000           1.000000   \n",
       "4      8.699968      10.645490  3.229946        1.000000           1.000000   \n",
       "5     10.126740      12.072557  2.952735        1.551445           1.000000   \n",
       "6      9.998921      11.626278  2.486429        1.000000           1.000000   \n",
       "7      9.451537      10.534832  3.005102        1.000000           1.000000   \n",
       "8     10.463181      11.849417  3.231527        2.371951           1.313262   \n",
       "9      9.433701      10.126740  3.572297        1.000000           1.000000   \n",
       "\n",
       "   ln_open_acc  ln_pub_rec  ln_revol_bal  ln_revol_util  ln_total_acc  ...  \\\n",
       "0     2.461150    1.000000      7.217970       3.456893      3.357534  ...   \n",
       "1     3.078154    1.313262      9.875794       3.763947      3.456893  ...   \n",
       "2     2.618729    1.000000      8.746035       3.567228      3.547266  ...   \n",
       "3     2.816503    1.313262      9.428409       3.553011      3.487934  ...   \n",
       "4     2.461150    1.000000      8.790378       4.206456      3.424858  ...   \n",
       "5     3.078154    1.000000      7.846480       2.435216      3.777766  ...   \n",
       "6     3.207543    1.000000     10.343892       3.941937      3.656312  ...   \n",
       "7     2.543040    1.000000      9.477288       4.048620      3.630145  ...   \n",
       "8     2.754824    1.313262      9.073801       3.844136      4.038097  ...   \n",
       "9     2.689090    1.000000      9.323108       3.976279      3.207543  ...   \n",
       "\n",
       "   ln_pub_rec_bankruptcies  ln_tax_liens  ln_total_bal_ex_mort  \\\n",
       "0                 1.000000           1.0             10.950240   \n",
       "1                 1.313262           1.0             10.469816   \n",
       "2                 1.000000           1.0             10.398785   \n",
       "3                 1.000000           1.0             11.162030   \n",
       "4                 1.000000           1.0             11.053659   \n",
       "5                 1.000000           1.0             11.120530   \n",
       "6                 1.000000           1.0             10.343892   \n",
       "7                 1.000000           1.0             10.659626   \n",
       "8                 1.000000           1.0             12.283976   \n",
       "9                 1.000000           1.0              9.353897   \n",
       "\n",
       "   ln_total_bc_limit  ln_total_il_high_credit_limit  int_rate  \\\n",
       "0           8.007273                      11.699527     14.33   \n",
       "1          10.122732                      10.440528     11.49   \n",
       "2           9.648771                      10.532755      5.32   \n",
       "3          10.529499                      11.292300     14.31   \n",
       "4           7.315031                      11.073951     13.66   \n",
       "5           8.779976                      11.431604     11.55   \n",
       "6          10.341830                       1.000000      8.18   \n",
       "7           8.294729                      10.275938     14.49   \n",
       "8           9.510646                      12.263250     16.29   \n",
       "9           9.554123                       9.681139     10.99   \n",
       "\n",
       "   percent_bc_gt_75  bc_util  loan_period  term_ 36 months  \n",
       "0              50.0     45.4        911.0                1  \n",
       "1              42.9     55.4        577.0                0  \n",
       "2               0.0     32.9       1066.0                1  \n",
       "3              16.7     33.2        821.0                1  \n",
       "4             100.0    101.8       1126.0                1  \n",
       "5               0.0      0.0        153.0                1  \n",
       "6              50.0     64.7        519.0                0  \n",
       "7               0.0      0.0        212.0                1  \n",
       "8              25.0     64.6       1127.0                1  \n",
       "9              20.0     53.5        943.0                1  \n",
       "\n",
       "[10 rows x 52 columns]"
      ]
     },
     "metadata": {},
     "output_type": "display_data"
    },
    {
     "data": {
      "text/plain": [
       "0     9.060828\n",
       "1    10.278455\n",
       "2     8.598076\n",
       "3    10.660833\n",
       "4     8.902444\n",
       "5    10.170038\n",
       "6    10.097493\n",
       "7     9.527945\n",
       "8    10.702820\n",
       "9     9.569199\n",
       "Name: ln_total_pymnt, dtype: float64"
      ]
     },
     "metadata": {},
     "output_type": "display_data"
    },
    {
     "name": "stdout",
     "output_type": "stream",
     "text": [
      "Data shape:  (33887, 52)\n"
     ]
    }
   ],
   "source": [
    "#-- LOAD DATA:\n",
    "\n",
    "# Load sampled and cleaned loan club dataset\n",
    "datetime_cols = ['issue_d','last_pymnt_d']\n",
    "loan_club = pd.read_csv('Loan_sampled_cleaned.csv',parse_dates = datetime_cols)\n",
    "loan_club_fully_paid = loan_club[loan_club['loan_status']=='Fully Paid'].reset_index(drop=True)\n",
    "loan_club_fully_paid['loan_period'] = loan_club_fully_paid['last_pymnt_d'] - loan_club_fully_paid['issue_d']\n",
    "loan_club_fully_paid['loan_period'] = loan_club_fully_paid['loan_period'] / pd.to_timedelta(1, unit='D')\n",
    "\n",
    "\n",
    "\n",
    "# Select skewed regressors that should have log transformation. \n",
    "colsToLn = list(loan_club_fully_paid.select_dtypes(include=[np.number]).columns)\n",
    "colsToLn.remove('loan_period')\n",
    "colsToLn.remove('int_rate')\n",
    "colsToLn.remove(\"percent_bc_gt_75\")\n",
    "colsToLn.remove(\"bc_util\")\n",
    "\n",
    "# Log transform\n",
    "ln_cols = []\n",
    "for colName in colsToLn:\n",
    "    lnColName = \"ln_\" + colName\n",
    "    loan_club_fully_paid[lnColName] = np.log(np.exp(1)+loan_club_fully_paid[colName])\n",
    "    loan_club_fully_paid.drop([colName], axis=1,inplace = True)\n",
    "    ln_cols.append(lnColName)\n",
    "# Convert categorical variables into dummies:\n",
    "dummies = pd.get_dummies(loan_club_fully_paid[['term']])\n",
    "X = loan_club_fully_paid[ln_cols+['int_rate','percent_bc_gt_75','bc_util','loan_period']].drop(['ln_total_pymnt'], axis=1)\n",
    "cat_features = ['term_ 36 months']\n",
    "\n",
    "# Extract predictors and outcome variables\n",
    "X = pd.concat([X, dummies[cat_features]], axis=1)\n",
    "feature_names = X.columns\n",
    "y = loan_club_fully_paid.ln_total_pymnt\n",
    "    \n",
    "display(X[0:10],y[0:10])\n",
    "\n",
    "print('Data shape: ', X.shape)"
   ]
  },
  {
   "cell_type": "markdown",
   "metadata": {},
   "source": [
    "**The data has 33887 observations with 52 features.** \n",
    "\n",
    "### Split the data:\n",
    "To validate our model performance on generalizing to unknown data, we need to to have some test subset for evaluating our model. We split our data into training and test subsets. Within the training data, we can use some validation subset to perform cross-validation for parameters tuning.  \n",
    "We split the data into 2/3 for training, and 1/3 for testing."
   ]
  },
  {
   "cell_type": "code",
   "execution_count": 4,
   "metadata": {},
   "outputs": [
    {
     "name": "stdout",
     "output_type": "stream",
     "text": [
      "No. training samples 22704\n",
      "No. testing samples 11183\n"
     ]
    }
   ],
   "source": [
    "X_train, X_test, y_train, y_test = train_test_split(X, y, test_size=0.33, random_state=0)\n",
    "print(\"No. training samples\", X_train.shape[0])\n",
    "print(\"No. testing samples\", X_test.shape[0])"
   ]
  },
  {
   "cell_type": "markdown",
   "metadata": {},
   "source": [
    "### Scaling the data:\n",
    "\n",
    "Shrinkage models like Lasso and Ridge requires data to be normalized to reduce bias towards certain features if they have different scales.  \n",
    "We use the \"StandardScaler\" method from Sklearn which normilizes the data by substracting the mean and dividing by the standard deviation.  \n",
    "We fit our \"scaler\" on the X_train data and then apply it to the X_test."
   ]
  },
  {
   "cell_type": "code",
   "execution_count": 5,
   "metadata": {},
   "outputs": [],
   "source": [
    "scaler = StandardScaler()\n",
    "X_train_scaled = scaler.fit_transform(X_train)\n",
    "X_test_scaled = scaler.transform(X_test)"
   ]
  },
  {
   "cell_type": "markdown",
   "metadata": {},
   "source": [
    "## 2. Ridge:\n",
    "\n",
    "Ridge regression is a shrinkage method for linear regression where the sum of squared regression coefficients is minimized besides the residual sum of squares (RSS). \n",
    "\\begin{equation}\n",
    "  J = RSS + \\lambda \\sum_j \\beta_j^2.\n",
    "\\end{equation}\n",
    "\n",
    "The hyperparameter $\\lambda$ penalizes large coefficients to regularize the model. This can offer a trade-off between bias and variance. A high value of $\\lambda$ results in nearly zero coefficients, so the model becomes highly-biased. On the other hand, A low value of $\\lambda$ results in nearly no shrinkage of coefficients which might results in high variance of the model.  \n",
    "\n",
    "The parameter $\\lambda$ can be tuned to minimize the MSE (trade-off between bias and variance). We create list of different values of lambda to compare different models.  \n",
    "\n",
    "10-fold cross validation within the training data is used to avoid overfitting to the data. To ensure the scaling is unbiased, we create a \"pipeline\" to first scale each training fold before fitting the model to it. The validation data within the same fold is then scaled using the same scaler. The model performance is evaluated using MSE on the validation set. "
   ]
  },
  {
   "cell_type": "code",
   "execution_count": 6,
   "metadata": {},
   "outputs": [],
   "source": [
    "# Use the Ridge method from Sklearn linear models\n",
    "ridge = Ridge()\n",
    "# create a grid of different values of lambda (alphas for sklearn)\n",
    "alphas = np.logspace(-3, 3, 50)\n",
    "#create a pipline to perform scaling then regression.\n",
    "pipe = Pipeline(steps=[('scale', scaler), ('ridge', ridge)])\n",
    "# use 10-fold cross validation\n",
    "params = {'ridge__alpha': alphas}\n",
    "ridge_clf = GridSearchCV(pipe, params, cv=10,scoring='neg_mean_squared_error')\n",
    "#fit the model\n",
    "ridge_clf.fit(X_train, y_train);"
   ]
  },
  {
   "cell_type": "markdown",
   "metadata": {},
   "source": [
    "Now, that we fitted our model, we can select the best $\\lambda$ than minimize our MSE."
   ]
  },
  {
   "cell_type": "code",
   "execution_count": 7,
   "metadata": {},
   "outputs": [
    {
     "data": {
      "image/png": "[encoded data removed]",
      "text/plain": [
       "<Figure size 504x432 with 1 Axes>"
      ]
     },
     "metadata": {
      "needs_background": "light"
     },
     "output_type": "display_data"
    }
   ],
   "source": [
    "plt.errorbar(alphas,-ridge_clf.cv_results_['mean_test_score'],-ridge_clf.cv_results_['std_test_score'])\n",
    "plt.xscale('log')\n",
    "plt.xlabel('alpha')\n",
    "plt.ylabel('Mean Squared Error');"
   ]
  },
  {
   "cell_type": "markdown",
   "metadata": {},
   "source": [
    "For low values of $\\lambda$, the MSE is low since we use most of our features with limited shrinkage. As $\\lambda$ increases, no significant change in MSE is noted. Around $\\lambda = 10^2$, the MSE started to increase as the coefficients start shrinking significantly.\n",
    "\n",
    "Eventhough there are very little variations, we can still choose our best ridge regressor as the one that gives the lowest MSE."
   ]
  },
  {
   "cell_type": "markdown",
   "metadata": {},
   "source": [
    "### Best Ridge model: \n",
    "\n",
    "We can now fit a model on the complete training data using our optimized parameter from cross validation."
   ]
  },
  {
   "cell_type": "code",
   "execution_count": 8,
   "metadata": {},
   "outputs": [
    {
     "name": "stdout",
     "output_type": "stream",
     "text": [
      "Best Ridge alpha:  {'ridge__alpha': 0.49417133613238334}\n",
      "Best Ridge MSE:  0.0007475496997178675\n"
     ]
    }
   ],
   "source": [
    "print(\"Best Ridge alpha: \", ridge_clf.best_params_)\n",
    "print(\"Best Ridge MSE: \", -ridge_clf.best_score_)"
   ]
  },
  {
   "cell_type": "markdown",
   "metadata": {},
   "source": [
    "The optimum $\\lambda$ is about 0.5 with an MSE of about 0.00075.\n",
    "\n",
    "Let's fit a model using the full training subset."
   ]
  },
  {
   "cell_type": "code",
   "execution_count": 9,
   "metadata": {},
   "outputs": [],
   "source": [
    "ridge_best = Ridge(alpha = ridge_clf.best_params_['ridge__alpha'])\n",
    "ridge_best.fit(X_train_scaled,y_train);"
   ]
  },
  {
   "cell_type": "markdown",
   "metadata": {},
   "source": [
    "Let's see the Ridge regression model coefficients. "
   ]
  },
  {
   "cell_type": "code",
   "execution_count": 10,
   "metadata": {},
   "outputs": [
    {
     "name": "stdout",
     "output_type": "stream",
     "text": [
      "Ridge Model Coefficients: \n"
     ]
    },
    {
     "data": {
      "text/plain": [
       "array([ 6.70819014e-01,  3.28440823e-04,  5.06608211e-04,  2.37503920e-04,\n",
       "        9.15328704e-04, -1.97809189e-03,  7.63638048e-04,  8.36339586e-04,\n",
       "       -2.42510045e-03,  3.98955393e-04,  0.00000000e+00,  3.04132921e-02,\n",
       "        1.25726907e-03,  0.00000000e+00,  1.43971170e-02,  1.72362451e-04,\n",
       "       -2.42609199e-04,  2.18697070e-03, -6.52920820e-04,  1.79311917e-05,\n",
       "       -1.79053228e-03, -1.72523715e-03, -1.10860298e-04,  8.35383986e-05,\n",
       "       -2.51811280e-04, -3.36189507e-04,  3.89520278e-04, -4.86205748e-04,\n",
       "       -4.20148143e-05, -5.65317389e-04, -2.75359591e-04, -1.06727528e-04,\n",
       "       -2.14870252e-03,  1.68882566e-03,  1.78852270e-03,  8.67962193e-05,\n",
       "        4.62381619e-04, -7.77549685e-04,  3.12832333e-04, -2.80422531e-04,\n",
       "       -4.88401915e-04,  2.38645149e-05, -4.22351107e-04, -2.64883938e-04,\n",
       "       -1.10797714e-03,  1.83670432e-04,  3.44511084e-04,  3.37261525e-02,\n",
       "        1.17944818e-03, -2.03411762e-04,  5.57345583e-02, -8.95081864e-03])"
      ]
     },
     "execution_count": 10,
     "metadata": {},
     "output_type": "execute_result"
    }
   ],
   "source": [
    "print('Ridge Model Coefficients: ')\n",
    "ridge_best.coef_"
   ]
  },
  {
   "cell_type": "markdown",
   "metadata": {},
   "source": [
    "Most of the coefficients are relatively small, and won't have a significant effect on the outcome. Let's inspect the most significant features of our model."
   ]
  },
  {
   "cell_type": "code",
   "execution_count": 11,
   "metadata": {},
   "outputs": [
    {
     "data": {
      "text/plain": [
       "Index(['ln_loan_amnt', 'ln_total_rec_int', 'ln_last_pymnt_amnt', 'int_rate',\n",
       "       'loan_period', 'term_ 36 months'],\n",
       "      dtype='object')"
      ]
     },
     "execution_count": 11,
     "metadata": {},
     "output_type": "execute_result"
    }
   ],
   "source": [
    "feature_names[np.abs(ridge_best.coef_) > 0.005] #0.005 is a rough value."
   ]
  },
  {
   "cell_type": "markdown",
   "metadata": {},
   "source": [
    "These six features are the most significant out of the original 52 features. This set features include the same features from our best subset selection model, in addition to two other features (\"ln_total_rec_int\", \"ln_last_pymnt_amnt\")"
   ]
  },
  {
   "cell_type": "markdown",
   "metadata": {},
   "source": [
    "## 3. Lasso:\n",
    "\n",
    "Lasso regression is a shrinkage method similiar to Ridge regression; however, unlike Ridge, Lasso minimizes the sum of absolute regression coefficients. \n",
    "\\begin{equation}\n",
    "  J = RSS + \\lambda \\sum_j|\\beta_j|.\n",
    "\\end{equation}\n",
    "\n",
    "Similar to Ridge regression, tuning the hyperparameter $\\lambda$ regularize the model to offer a trade-off between bias and variance. Unlike Ridge, Lasso regression would result in exactly zero coefficients which can lead to a sparse model that helps us identify the most significant parameters. \n",
    "\n",
    "Scaling and cross-validation process for Lasso is performed exactly as for Ridge (previous section)."
   ]
  },
  {
   "cell_type": "code",
   "execution_count": 12,
   "metadata": {},
   "outputs": [],
   "source": [
    "# Use the Lasso method from Sklearn linear models\n",
    "lasso = Lasso()\n",
    "# create a grid of different values of lambda (alphas for sklearn)\n",
    "alphas = np.logspace(-3, 3, 50)\n",
    "#create a pipline to perform scaling then regression.\n",
    "pipe = Pipeline(steps=[('scale', scaler), ('lasso', lasso)])\n",
    "# use 10-fold cross validation\n",
    "params = {'lasso__alpha': alphas}\n",
    "lasso_clf = GridSearchCV(pipe, params, cv=10,scoring='neg_mean_squared_error')\n",
    "#fit the model\n",
    "lasso_clf.fit(X_train, y_train);"
   ]
  },
  {
   "cell_type": "markdown",
   "metadata": {},
   "source": [
    "Now, that we fitted our model, we can select the best $\\lambda$ than minimize our MSE."
   ]
  },
  {
   "cell_type": "code",
   "execution_count": 13,
   "metadata": {},
   "outputs": [
    {
     "data": {
      "image/png": "[encoded data removed]",
      "text/plain": [
       "<Figure size 504x432 with 1 Axes>"
      ]
     },
     "metadata": {
      "needs_background": "light"
     },
     "output_type": "display_data"
    }
   ],
   "source": [
    "plt.errorbar(alphas,-lasso_clf.cv_results_['mean_test_score'],-lasso_clf.cv_results_['std_test_score'])\n",
    "plt.xscale('log')\n",
    "plt.xlabel('alpha')\n",
    "plt.ylabel('Mean Squared Error');"
   ]
  },
  {
   "cell_type": "markdown",
   "metadata": {},
   "source": [
    "For low values of $\\lambda$, the MSE is low since we use most of our features with limited shrinkage. As $\\lambda$ increases, no significant change in MSE is noted. The MSE started to increase around $\\lambda = 0.1$, as the coefficients start shrinking significantly. Around $\\lambda = 1$, the MSE saturated as all coefficients has become zero except for the intercept. \n",
    "\n",
    "Eventhough there are very little variations, we can still choose our best lasso regressor as the one that gives the lowest MSE."
   ]
  },
  {
   "cell_type": "markdown",
   "metadata": {},
   "source": [
    "### Best Lasso model: \n",
    "\n",
    "We can now fit a model on the complete training data using our optimized parameter from cross validation."
   ]
  },
  {
   "cell_type": "code",
   "execution_count": 14,
   "metadata": {},
   "outputs": [
    {
     "name": "stdout",
     "output_type": "stream",
     "text": [
      "Best Lasso alpha:  {'lasso__alpha': 0.001}\n",
      "Best Lasso MSE:  0.000758826654987639\n"
     ]
    }
   ],
   "source": [
    "print(\"Best Lasso alpha: \", lasso_clf.best_params_)\n",
    "print(\"Best Lasso MSE: \", -lasso_clf.best_score_)"
   ]
  },
  {
   "cell_type": "markdown",
   "metadata": {},
   "source": [
    "The optimum $\\lambda$ is 0.001 with an MSE of about 0.00076.\n",
    "\n",
    "Let's fit a model using the full training subset."
   ]
  },
  {
   "cell_type": "code",
   "execution_count": 15,
   "metadata": {},
   "outputs": [],
   "source": [
    "lasso_best = Lasso(alpha = lasso_clf.best_params_['lasso__alpha'])\n",
    "lasso_best.fit(X_train_scaled,y_train);"
   ]
  },
  {
   "cell_type": "markdown",
   "metadata": {},
   "source": [
    "Let's see the Lasso regression model coefficients. "
   ]
  },
  {
   "cell_type": "code",
   "execution_count": 16,
   "metadata": {},
   "outputs": [
    {
     "name": "stdout",
     "output_type": "stream",
     "text": [
      "Lasso Model Coefficients: \n"
     ]
    },
    {
     "data": {
      "text/plain": [
       "array([ 6.68876685e-01,  0.00000000e+00,  0.00000000e+00,  0.00000000e+00,\n",
       "        2.01010000e-04, -0.00000000e+00,  0.00000000e+00, -0.00000000e+00,\n",
       "       -0.00000000e+00,  0.00000000e+00,  0.00000000e+00,  3.33519928e-02,\n",
       "        3.09700618e-04,  0.00000000e+00,  1.17172615e-02,  0.00000000e+00,\n",
       "       -0.00000000e+00, -0.00000000e+00, -0.00000000e+00,  0.00000000e+00,\n",
       "        0.00000000e+00, -1.60743811e-04, -0.00000000e+00,  0.00000000e+00,\n",
       "        0.00000000e+00, -0.00000000e+00, -0.00000000e+00, -0.00000000e+00,\n",
       "        0.00000000e+00, -0.00000000e+00, -0.00000000e+00, -0.00000000e+00,\n",
       "       -0.00000000e+00, -0.00000000e+00, -0.00000000e+00,  0.00000000e+00,\n",
       "        0.00000000e+00, -0.00000000e+00,  0.00000000e+00, -0.00000000e+00,\n",
       "        0.00000000e+00,  0.00000000e+00,  0.00000000e+00,  0.00000000e+00,\n",
       "       -0.00000000e+00, -0.00000000e+00,  0.00000000e+00,  3.27033024e-02,\n",
       "        0.00000000e+00,  0.00000000e+00,  5.15950720e-02, -8.88634502e-03])"
      ]
     },
     "execution_count": 16,
     "metadata": {},
     "output_type": "execute_result"
    }
   ],
   "source": [
    "print('Lasso Model Coefficients: ')\n",
    "lasso_best.coef_"
   ]
  },
  {
   "cell_type": "markdown",
   "metadata": {},
   "source": [
    "Most of the coefficients are exactly zero, and will have no effect on the outcome. Let's inspect the most significant features of our model."
   ]
  },
  {
   "cell_type": "code",
   "execution_count": 17,
   "metadata": {},
   "outputs": [
    {
     "data": {
      "text/plain": [
       "Index(['ln_loan_amnt', 'ln_total_rec_int', 'ln_last_pymnt_amnt', 'int_rate',\n",
       "       'loan_period', 'term_ 36 months'],\n",
       "      dtype='object')"
      ]
     },
     "execution_count": 17,
     "metadata": {},
     "output_type": "execute_result"
    }
   ],
   "source": [
    "feature_names[np.abs(lasso_best.coef_) > 0.005]"
   ]
  },
  {
   "cell_type": "markdown",
   "metadata": {},
   "source": [
    "These six features for Lasso are the same as the ones obtained from Ridge."
   ]
  },
  {
   "cell_type": "markdown",
   "metadata": {},
   "source": [
    "## 4. PCR:\n",
    "\n",
    "PCR is based on using Principal Component Analysis (PCA) to reduce the number of features, then a linear regression model is based on the reduced features.  \n",
    "The principal componets from PCA can explain a percentage of variance of the original features. The more number of principal components, the higher the explained variance becomes. Thus, the No. principal components can significantly affect the quality of the PCR model. A relatively small No. of components will result in a biased model, while increased No. of components increases variance. \n",
    "\n",
    "We can perform K-fold cross validation on scaled training data to tune the No. of components hyperparamter that minimizes the MSE as shown for Ridge and Lasso."
   ]
  },
  {
   "cell_type": "code",
   "execution_count": 18,
   "metadata": {},
   "outputs": [],
   "source": [
    "# Use the PCA method from Sklearn decomposition\n",
    "pca = PCA()\n",
    "# Use the Linear Regression method from Sklearn linear models\n",
    "linear = LinearRegression()\n",
    "# create a pipeline to perform standard scaling >> principal component analysis >> linear regression\n",
    "pipe = Pipeline(steps=[('scale', scaler),('pca', pca), ('linear', linear)])\n",
    "# create a grid of number of components\n",
    "comps = np.arange(1,X_train.shape[1])[::-1]\n",
    "# run 10-fold cross validation\n",
    "params = {'pca__n_components': comps}\n",
    "pcr_clf = GridSearchCV(pipe, params, cv=10,scoring='neg_mean_squared_error')\n",
    "# fit the model\n",
    "pcr_clf.fit(X_train, y_train);"
   ]
  },
  {
   "cell_type": "markdown",
   "metadata": {},
   "source": [
    "Now, that we fitted our model, we can select the best $n\\_components$ than minimize our MSE."
   ]
  },
  {
   "cell_type": "code",
   "execution_count": 19,
   "metadata": {},
   "outputs": [
    {
     "data": {
      "image/png": "[encoded data removed]",
      "text/plain": [
       "<Figure size 504x432 with 1 Axes>"
      ]
     },
     "metadata": {
      "needs_background": "light"
     },
     "output_type": "display_data"
    }
   ],
   "source": [
    "plt.errorbar(comps,-pcr_clf.cv_results_['mean_test_score'],-pcr_clf.cv_results_['std_test_score'])\n",
    "plt.xlabel('n_components')\n",
    "plt.ylabel('Mean Squared Error');"
   ]
  },
  {
   "cell_type": "markdown",
   "metadata": {},
   "source": [
    "The graph shows a nearly monotonic behaviour between the n_components and the MSE. As we add more components, we can explain more variance of the data and get a better model for the data.\n",
    "\n",
    "This dataset doesn't favor PCR, so we need almost all the features to get an acceptable results."
   ]
  },
  {
   "cell_type": "markdown",
   "metadata": {},
   "source": [
    "### Best PCR model: \n",
    "\n",
    "We can now fit a model on the complete training data using our optimized parameter from cross validation."
   ]
  },
  {
   "cell_type": "code",
   "execution_count": 20,
   "metadata": {},
   "outputs": [
    {
     "name": "stdout",
     "output_type": "stream",
     "text": [
      "Best No. Comps:  {'pca__n_components': 49}\n",
      "Best MSE:  0.0007474297948862259\n"
     ]
    }
   ],
   "source": [
    "print(\"Best No. Comps: \", pcr_clf.best_params_)\n",
    "print(\"Best MSE: \", -pcr_clf.best_score_)"
   ]
  },
  {
   "cell_type": "markdown",
   "metadata": {},
   "source": [
    "The optimum $n\\_components$ is 49 with an MSE of about 0.00075. These model doesn't differ much from using the full dataset.\n",
    "\n",
    "Let's fit a model using the full training subset."
   ]
  },
  {
   "cell_type": "code",
   "execution_count": 21,
   "metadata": {},
   "outputs": [],
   "source": [
    "pcr_pca = PCA(n_components=pcr_clf.best_params_['pca__n_components'])\n",
    "pcr_linear = LinearRegression()\n",
    "pcr_best = Pipeline(steps=[('pca', pcr_pca), ('linear', pcr_linear)])\n",
    "pcr_best.fit(X_train_scaled,y_train);"
   ]
  },
  {
   "cell_type": "markdown",
   "metadata": {},
   "source": [
    "## 4. Methods Comparison:"
   ]
  },
  {
   "cell_type": "markdown",
   "metadata": {},
   "source": [
    "We have explored different shrinkage methods (Ridge and Lasso), and dimensionality reduction (PCA) to develop powerful linear regression models in case of too many features.\n",
    "\n",
    "We can now compare the perfomance based on the test subset."
   ]
  },
  {
   "cell_type": "code",
   "execution_count": 22,
   "metadata": {},
   "outputs": [
    {
     "name": "stdout",
     "output_type": "stream",
     "text": [
      "Ridge MSE:  0.0007685427835530755\n",
      "Ridge R2:  0.9984591748553104 \n",
      "\n",
      "Lasso MSE:  0.0007809762956389856\n",
      "Lasso R2:  0.9984342473321214 \n",
      "\n",
      "PCR MSE:  0.0007684236232185001\n",
      "PCR R2:  0.9984594137557904\n"
     ]
    }
   ],
   "source": [
    "y_predicted_ridge = ridge_best.predict(X_test_scaled)\n",
    "print(\"Ridge MSE: \", mean_squared_error(y_predicted_ridge,y_test))\n",
    "print(\"Ridge R2: \", ridge_best.score(X_test_scaled,y_test),\"\\n\")\n",
    "\n",
    "y_predicted_lasso = lasso_best.predict(X_test_scaled)\n",
    "print(\"Lasso MSE: \", mean_squared_error(y_predicted_lasso,y_test))\n",
    "print(\"Lasso R2: \", lasso_best.score(X_test_scaled,y_test),\"\\n\")\n",
    "\n",
    "y_predicted_pcr = pcr_best.predict(X_test_scaled)\n",
    "print(\"PCR MSE: \",mean_squared_error(y_predicted_pcr,y_test))\n",
    "print(\"PCR R2: \", pcr_best.score(X_test_scaled,y_test))\n"
   ]
  },
  {
   "cell_type": "markdown",
   "metadata": {},
   "source": [
    "All of the models have almost the same performance with a very low MSE and a very high $R^2$.\n",
    "We expect shrinkage methods like lasso and ridge to perform better than PCR even for datasets favoring PCR.\n",
    "\n",
    "We can compare the current model with the best subset model from previous notebook where we found a subset of four predictors that resulted in good results."
   ]
  },
  {
   "cell_type": "code",
   "execution_count": 23,
   "metadata": {},
   "outputs": [
    {
     "name": "stdout",
     "output_type": "stream",
     "text": [
      "Best_Subset MSE:  0.0011335793497888593\n",
      "Best_Subset R2:  0.997727325526914\n"
     ]
    }
   ],
   "source": [
    "best_subet = ['ln_loan_amnt','loan_period','int_rate','term_ 36 months']\n",
    "X_train_best_subset = X_train[best_subet]\n",
    "X_test_best_subset = X_test[best_subet]\n",
    "\n",
    "best_subset_linear = LinearRegression()\n",
    "best_subset_linear.fit(X_train_best_subset,y_train)\n",
    "\n",
    "y_predicted_bestsubset = best_subset_linear.predict(X_test_best_subset)\n",
    "print(\"Best_Subset MSE: \",mean_squared_error(y_predicted_bestsubset,y_test))\n",
    "print(\"Best_Subset R2: \", best_subset_linear.score(X_test_best_subset,y_test))\n"
   ]
  },
  {
   "cell_type": "markdown",
   "metadata": {},
   "source": [
    "The performance of shrinkage methods is as good or even better than best subset model. This is due to the fact that with shrinkage methods we can explore more features without high time complexity as for subset selection methods. For Lasso and Ridge, a subset of 6 features were contributing to the outcome which resulted in improved fitness."
   ]
  }
 ],
 "metadata": {
  "colab": {
   "collapsed_sections": [],
   "name": "tutorial04.ipynb",
   "provenance": []
  },
  "kernelspec": {
   "display_name": "Python 3",
   "language": "python",
   "name": "python3"
  },
  "language_info": {
   "codemirror_mode": {
    "name": "ipython",
    "version": 3
   },
   "file_extension": ".py",
   "mimetype": "text/x-python",
   "name": "python",
   "nbconvert_exporter": "python",
   "pygments_lexer": "ipython3",
   "version": "3.7.4"
  }
 },
 "nbformat": 4,
 "nbformat_minor": 1
}
